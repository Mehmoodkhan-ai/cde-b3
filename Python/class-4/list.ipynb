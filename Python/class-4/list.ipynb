{
 "cells": [
  {
   "cell_type": "markdown",
   "id": "d6e57bc0-1a89-4c3e-bd2d-0a8b1978c20b",
   "metadata": {},
   "source": [
    "### List"
   ]
  },
  {
   "cell_type": "code",
   "execution_count": 1,
   "id": "3cbffc6b-5a4c-4362-8971-38b6305e6754",
   "metadata": {},
   "outputs": [],
   "source": [
    "city_0 = \"Atlanta\"\n",
    "city_1 = \"Baltimore\"\n",
    "city_2 = \"Chicago\"\n",
    "city_3 = \"Denver\"\n",
    "city_4 = \"Los Angeles\"\n",
    "city_5 = \"Seattle\""
   ]
  },
  {
   "cell_type": "code",
   "execution_count": 3,
   "id": "53b418a3-fcb6-4ffe-91cb-672efa2cffc7",
   "metadata": {},
   "outputs": [
    {
     "data": {
      "text/plain": [
       "(2603649958320, 2603649981424)"
      ]
     },
     "execution_count": 3,
     "metadata": {},
     "output_type": "execute_result"
    }
   ],
   "source": [
    "id(city_0), id(city_1)"
   ]
  },
  {
   "cell_type": "markdown",
   "id": "639f70a1-fb25-46e8-88e0-efb5fb965a13",
   "metadata": {},
   "source": [
    "- managing collection of values\n",
    "- slower\n",
    "- Solution: Data Structure for collection of values: List"
   ]
  },
  {
   "cell_type": "code",
   "execution_count": 2,
   "id": "35a7ab11-14f9-4013-8dc6-5a31a1c05bd4",
   "metadata": {},
   "outputs": [],
   "source": [
    "cities = [\"Atlanta\" , \"Baltimore\", \"Chicago\", \"Denver\", \"Los Angeles\", \"Seattle\"]"
   ]
  },
  {
   "cell_type": "code",
   "execution_count": 4,
   "id": "c24e076f-f9a1-4639-b2df-6636e8ea5db3",
   "metadata": {},
   "outputs": [
    {
     "name": "stdout",
     "output_type": "stream",
     "text": [
      "<class 'list'> 1713148316416\n"
     ]
    }
   ],
   "source": [
    "print(type(cities), id(cities))"
   ]
  },
  {
   "cell_type": "code",
   "execution_count": 5,
   "id": "bf40ab41-19a8-4146-adf3-8b9ce22ae21f",
   "metadata": {},
   "outputs": [],
   "source": [
    "cities.append(\"Karachi\")"
   ]
  },
  {
   "cell_type": "code",
   "execution_count": 6,
   "id": "dae2a333-13f5-4d3f-8341-f8e06f5dd8ba",
   "metadata": {},
   "outputs": [
    {
     "data": {
      "text/plain": [
       "['Atlanta',\n",
       " 'Baltimore',\n",
       " 'Chicago',\n",
       " 'Denver',\n",
       " 'Los Angeles',\n",
       " 'Seattle',\n",
       " 'Karachi']"
      ]
     },
     "execution_count": 6,
     "metadata": {},
     "output_type": "execute_result"
    }
   ],
   "source": [
    "cities"
   ]
  },
  {
   "cell_type": "code",
   "execution_count": 7,
   "id": "e722bbf9-3bba-48d8-b531-8098143fe809",
   "metadata": {},
   "outputs": [
    {
     "data": {
      "text/plain": [
       "1"
      ]
     },
     "execution_count": 7,
     "metadata": {},
     "output_type": "execute_result"
    }
   ],
   "source": [
    "cities.count(\"Chicago\")"
   ]
  },
  {
   "cell_type": "code",
   "execution_count": 8,
   "id": "a2098897-f242-48dc-bd27-fdbaa69dc469",
   "metadata": {},
   "outputs": [],
   "source": [
    "cities.extend([\"Islamabad\", \"Quetta\"])"
   ]
  },
  {
   "cell_type": "code",
   "execution_count": 9,
   "id": "da6176d0-a721-4d9b-a89c-a8a48436addb",
   "metadata": {},
   "outputs": [
    {
     "data": {
      "text/plain": [
       "['Atlanta',\n",
       " 'Baltimore',\n",
       " 'Chicago',\n",
       " 'Denver',\n",
       " 'Los Angeles',\n",
       " 'Seattle',\n",
       " 'Karachi',\n",
       " 'Islamabad',\n",
       " 'Quetta']"
      ]
     },
     "execution_count": 9,
     "metadata": {},
     "output_type": "execute_result"
    }
   ],
   "source": [
    "cities"
   ]
  },
  {
   "cell_type": "code",
   "execution_count": 11,
   "id": "c1a19151-a31a-4658-beff-59e7d47637ab",
   "metadata": {},
   "outputs": [],
   "source": [
    "cities.insert(1, \"Peshawar\")"
   ]
  },
  {
   "cell_type": "code",
   "execution_count": 12,
   "id": "3721cfb0-0a3d-414d-a720-f43590b4d1ae",
   "metadata": {},
   "outputs": [
    {
     "data": {
      "text/plain": [
       "['Atlanta',\n",
       " 'Peshawar',\n",
       " 'Baltimore',\n",
       " 'Chicago',\n",
       " 'Denver',\n",
       " 'Los Angeles',\n",
       " 'Seattle',\n",
       " 'Karachi',\n",
       " 'Islamabad',\n",
       " 'Quetta']"
      ]
     },
     "execution_count": 12,
     "metadata": {},
     "output_type": "execute_result"
    }
   ],
   "source": [
    "cities"
   ]
  },
  {
   "cell_type": "code",
   "execution_count": 14,
   "id": "067f608b-3016-41c0-bfda-fd5b91af427b",
   "metadata": {},
   "outputs": [
    {
     "data": {
      "text/plain": [
       "7"
      ]
     },
     "execution_count": 14,
     "metadata": {},
     "output_type": "execute_result"
    }
   ],
   "source": [
    "cities.index(\"Karachi\")"
   ]
  },
  {
   "cell_type": "code",
   "execution_count": 15,
   "id": "8007f8ef-6f1b-4857-8156-267986664d20",
   "metadata": {},
   "outputs": [
    {
     "data": {
      "text/plain": [
       "'Karachi'"
      ]
     },
     "execution_count": 15,
     "metadata": {},
     "output_type": "execute_result"
    }
   ],
   "source": [
    "cities.pop(7) # Remove and return item at index (default last)."
   ]
  },
  {
   "cell_type": "code",
   "execution_count": 16,
   "id": "fd683e2b-8641-4128-a032-5ef02f6fc251",
   "metadata": {},
   "outputs": [
    {
     "data": {
      "text/plain": [
       "['Atlanta',\n",
       " 'Peshawar',\n",
       " 'Baltimore',\n",
       " 'Chicago',\n",
       " 'Denver',\n",
       " 'Los Angeles',\n",
       " 'Seattle',\n",
       " 'Islamabad',\n",
       " 'Quetta']"
      ]
     },
     "execution_count": 16,
     "metadata": {},
     "output_type": "execute_result"
    }
   ],
   "source": [
    "cities"
   ]
  },
  {
   "cell_type": "code",
   "execution_count": 17,
   "id": "6b42bc1a-0ee9-40bb-af9b-3e7ea85e2217",
   "metadata": {},
   "outputs": [
    {
     "data": {
      "text/plain": [
       "'Quetta'"
      ]
     },
     "execution_count": 17,
     "metadata": {},
     "output_type": "execute_result"
    }
   ],
   "source": [
    "cities.pop()"
   ]
  },
  {
   "cell_type": "code",
   "execution_count": 18,
   "id": "b9d0dc44-48ff-4a43-845f-48ef65199e37",
   "metadata": {},
   "outputs": [
    {
     "data": {
      "text/plain": [
       "['Atlanta',\n",
       " 'Peshawar',\n",
       " 'Baltimore',\n",
       " 'Chicago',\n",
       " 'Denver',\n",
       " 'Los Angeles',\n",
       " 'Seattle',\n",
       " 'Islamabad']"
      ]
     },
     "execution_count": 18,
     "metadata": {},
     "output_type": "execute_result"
    }
   ],
   "source": [
    "cities"
   ]
  },
  {
   "cell_type": "code",
   "execution_count": 19,
   "id": "8423c513-e6db-47d9-a13d-4b258333bc87",
   "metadata": {},
   "outputs": [],
   "source": [
    "cities.append(\"Peshawar\")"
   ]
  },
  {
   "cell_type": "code",
   "execution_count": 20,
   "id": "336b51c8-7c9c-4757-ab3c-fe908b2e0c55",
   "metadata": {},
   "outputs": [
    {
     "data": {
      "text/plain": [
       "['Atlanta',\n",
       " 'Peshawar',\n",
       " 'Baltimore',\n",
       " 'Chicago',\n",
       " 'Denver',\n",
       " 'Los Angeles',\n",
       " 'Seattle',\n",
       " 'Islamabad',\n",
       " 'Peshawar']"
      ]
     },
     "execution_count": 20,
     "metadata": {},
     "output_type": "execute_result"
    }
   ],
   "source": [
    "cities"
   ]
  },
  {
   "cell_type": "code",
   "execution_count": 21,
   "id": "657d77d5-a494-44ed-8479-7e12b7d38a6a",
   "metadata": {},
   "outputs": [],
   "source": [
    "cities.remove(\"Peshawar\") # Remove first occurrence of value."
   ]
  },
  {
   "cell_type": "code",
   "execution_count": 22,
   "id": "7ef79c48-f036-446a-bc54-7612ac6a15e6",
   "metadata": {},
   "outputs": [
    {
     "data": {
      "text/plain": [
       "['Atlanta',\n",
       " 'Baltimore',\n",
       " 'Chicago',\n",
       " 'Denver',\n",
       " 'Los Angeles',\n",
       " 'Seattle',\n",
       " 'Islamabad',\n",
       " 'Peshawar']"
      ]
     },
     "execution_count": 22,
     "metadata": {},
     "output_type": "execute_result"
    }
   ],
   "source": [
    "cities"
   ]
  },
  {
   "cell_type": "code",
   "execution_count": 57,
   "id": "9997f970-9606-4581-af94-ed4258a33884",
   "metadata": {},
   "outputs": [],
   "source": [
    "del cities[0]"
   ]
  },
  {
   "cell_type": "code",
   "execution_count": 58,
   "id": "ffc97fa2-1fc2-4c31-9b22-62d0b058f2bc",
   "metadata": {},
   "outputs": [
    {
     "data": {
      "text/plain": [
       "['Baltimore',\n",
       " 'Chicago',\n",
       " 'Denver',\n",
       " 'Islamabad',\n",
       " 'Los Angeles',\n",
       " 'Peshawar',\n",
       " 'Seattle',\n",
       " 'mexico']"
      ]
     },
     "execution_count": 58,
     "metadata": {},
     "output_type": "execute_result"
    }
   ],
   "source": [
    "cities"
   ]
  },
  {
   "cell_type": "code",
   "execution_count": 23,
   "id": "7fa0a679-26d0-4d73-9142-583e261ffb28",
   "metadata": {},
   "outputs": [],
   "source": [
    "cities.reverse()"
   ]
  },
  {
   "cell_type": "code",
   "execution_count": 24,
   "id": "0f7a41f1-6a20-4e3b-a363-cee9654b1bab",
   "metadata": {},
   "outputs": [
    {
     "data": {
      "text/plain": [
       "['Peshawar',\n",
       " 'Islamabad',\n",
       " 'Seattle',\n",
       " 'Los Angeles',\n",
       " 'Denver',\n",
       " 'Chicago',\n",
       " 'Baltimore',\n",
       " 'Atlanta']"
      ]
     },
     "execution_count": 24,
     "metadata": {},
     "output_type": "execute_result"
    }
   ],
   "source": [
    "cities"
   ]
  },
  {
   "cell_type": "code",
   "execution_count": 25,
   "id": "d0944f82-8116-4be6-b901-1930836e34a6",
   "metadata": {},
   "outputs": [],
   "source": [
    "cities.sort()"
   ]
  },
  {
   "cell_type": "code",
   "execution_count": 26,
   "id": "85fc1604-56a3-4d45-bfed-44c469ef1010",
   "metadata": {},
   "outputs": [
    {
     "data": {
      "text/plain": [
       "['Atlanta',\n",
       " 'Baltimore',\n",
       " 'Chicago',\n",
       " 'Denver',\n",
       " 'Islamabad',\n",
       " 'Los Angeles',\n",
       " 'Peshawar',\n",
       " 'Seattle']"
      ]
     },
     "execution_count": 26,
     "metadata": {},
     "output_type": "execute_result"
    }
   ],
   "source": [
    "cities"
   ]
  },
  {
   "cell_type": "code",
   "execution_count": 27,
   "id": "9448fb88-8965-4046-a83c-bffa546b708b",
   "metadata": {},
   "outputs": [],
   "source": [
    "cities.clear() # Remove all items from list."
   ]
  },
  {
   "cell_type": "code",
   "execution_count": 28,
   "id": "26151a74-b931-4d00-999f-e65cde289544",
   "metadata": {},
   "outputs": [
    {
     "data": {
      "text/plain": [
       "[]"
      ]
     },
     "execution_count": 28,
     "metadata": {},
     "output_type": "execute_result"
    }
   ],
   "source": [
    "cities"
   ]
  },
  {
   "cell_type": "markdown",
   "id": "323ac1bc-0d2b-4ed1-9f0d-ff8ab232df26",
   "metadata": {},
   "source": [
    "### Shallow / Deep Copy"
   ]
  },
  {
   "cell_type": "code",
   "execution_count": 29,
   "id": "4cefa2eb-ed55-4ed9-b6bf-da74c7d51608",
   "metadata": {},
   "outputs": [],
   "source": [
    "cities= ['Atlanta',\n",
    " 'Baltimore',\n",
    " 'Chicago',\n",
    " 'Denver',\n",
    " 'Islamabad',\n",
    " 'Los Angeles',\n",
    " 'Peshawar',\n",
    " 'Seattle']"
   ]
  },
  {
   "cell_type": "code",
   "execution_count": 30,
   "id": "b20ec71c-eb51-4e81-a741-85afcc199759",
   "metadata": {},
   "outputs": [],
   "source": [
    "cities_new = cities.copy() # Return a shallow copy of the list."
   ]
  },
  {
   "cell_type": "code",
   "execution_count": 31,
   "id": "55b77b83-20ac-44ba-b0c7-99f67f6085ed",
   "metadata": {},
   "outputs": [
    {
     "name": "stdout",
     "output_type": "stream",
     "text": [
      "<class 'list'> 1713162488832\n"
     ]
    }
   ],
   "source": [
    "print(type(cities_new), id(cities_new))"
   ]
  },
  {
   "cell_type": "code",
   "execution_count": 32,
   "id": "59eb6fc4-8b02-481e-aa29-72072c4607ea",
   "metadata": {},
   "outputs": [
    {
     "name": "stdout",
     "output_type": "stream",
     "text": [
      "<class 'list'> 1713160500160\n"
     ]
    }
   ],
   "source": [
    "print(type(cities), id(cities))"
   ]
  },
  {
   "cell_type": "markdown",
   "id": "953a6113-12e0-4683-af2c-6f512fa96759",
   "metadata": {},
   "source": [
    "- Keep values at different address as shown above\n",
    "- Changing values in one collection doesn't effect other"
   ]
  },
  {
   "cell_type": "code",
   "execution_count": 35,
   "id": "f6e3ea50-8719-428f-9aeb-ea75c6a3acf8",
   "metadata": {},
   "outputs": [],
   "source": [
    "cities_new.append(\"KARACHI\")"
   ]
  },
  {
   "cell_type": "code",
   "execution_count": 36,
   "id": "75dd4c5a-ab42-46d8-8d2b-33858a5dcba1",
   "metadata": {},
   "outputs": [
    {
     "data": {
      "text/plain": [
       "['Atlanta',\n",
       " 'Baltimore',\n",
       " 'Chicago',\n",
       " 'Denver',\n",
       " 'Islamabad',\n",
       " 'Los Angeles',\n",
       " 'Peshawar',\n",
       " 'Seattle',\n",
       " 'KARACHI']"
      ]
     },
     "execution_count": 36,
     "metadata": {},
     "output_type": "execute_result"
    }
   ],
   "source": [
    "cities_new"
   ]
  },
  {
   "cell_type": "code",
   "execution_count": 37,
   "id": "9e064adc-492c-41ee-b2f1-8790c4f71cc6",
   "metadata": {},
   "outputs": [
    {
     "data": {
      "text/plain": [
       "['Atlanta',\n",
       " 'Baltimore',\n",
       " 'Chicago',\n",
       " 'Denver',\n",
       " 'Islamabad',\n",
       " 'Los Angeles',\n",
       " 'Peshawar',\n",
       " 'Seattle']"
      ]
     },
     "execution_count": 37,
     "metadata": {},
     "output_type": "execute_result"
    }
   ],
   "source": [
    "cities"
   ]
  },
  {
   "cell_type": "markdown",
   "id": "136dd95c-8bf8-4f07-8be3-2175f49f60d0",
   "metadata": {},
   "source": [
    "### Task: \n",
    "- Implemented Deep copy concept on List (H.W)\n",
    "- Adding Values at different index without `.insert()` method "
   ]
  },
  {
   "cell_type": "code",
   "execution_count": 39,
   "id": "04f5eb0b-fcf1-4377-9592-e7a0b002abd9",
   "metadata": {},
   "outputs": [],
   "source": [
    "cities[0] = \"Hyderabad\""
   ]
  },
  {
   "cell_type": "code",
   "execution_count": 40,
   "id": "ae87ee24-0b5e-490d-9368-165674eb56cc",
   "metadata": {},
   "outputs": [
    {
     "data": {
      "text/plain": [
       "['Hyderabad',\n",
       " 'Baltimore',\n",
       " 'Chicago',\n",
       " 'Denver',\n",
       " 'Islamabad',\n",
       " 'Los Angeles',\n",
       " 'Peshawar',\n",
       " 'Seattle']"
      ]
     },
     "execution_count": 40,
     "metadata": {},
     "output_type": "execute_result"
    }
   ],
   "source": [
    "cities"
   ]
  },
  {
   "cell_type": "code",
   "execution_count": 41,
   "id": "9206bf3b-7924-4465-b103-9ba9b429761e",
   "metadata": {},
   "outputs": [],
   "source": [
    "cities_new = cities"
   ]
  },
  {
   "cell_type": "code",
   "execution_count": 42,
   "id": "73711d15-4e70-401c-bef1-245fdf7ae6f7",
   "metadata": {},
   "outputs": [
    {
     "data": {
      "text/plain": [
       "(['Hyderabad',\n",
       "  'Baltimore',\n",
       "  'Chicago',\n",
       "  'Denver',\n",
       "  'Islamabad',\n",
       "  'Los Angeles',\n",
       "  'Peshawar',\n",
       "  'Seattle'],\n",
       " ['Hyderabad',\n",
       "  'Baltimore',\n",
       "  'Chicago',\n",
       "  'Denver',\n",
       "  'Islamabad',\n",
       "  'Los Angeles',\n",
       "  'Peshawar',\n",
       "  'Seattle'])"
      ]
     },
     "execution_count": 42,
     "metadata": {},
     "output_type": "execute_result"
    }
   ],
   "source": [
    "cities_new, cities"
   ]
  },
  {
   "cell_type": "code",
   "execution_count": 43,
   "id": "16bb11fc-0051-45c0-a896-657946f15dab",
   "metadata": {},
   "outputs": [],
   "source": [
    "cities_new.append(\"mexico\")"
   ]
  },
  {
   "cell_type": "code",
   "execution_count": 44,
   "id": "c400c82c-5fa3-4cd3-ab2f-f7cd80cf1580",
   "metadata": {},
   "outputs": [
    {
     "data": {
      "text/plain": [
       "['Hyderabad',\n",
       " 'Baltimore',\n",
       " 'Chicago',\n",
       " 'Denver',\n",
       " 'Islamabad',\n",
       " 'Los Angeles',\n",
       " 'Peshawar',\n",
       " 'Seattle',\n",
       " 'mexico']"
      ]
     },
     "execution_count": 44,
     "metadata": {},
     "output_type": "execute_result"
    }
   ],
   "source": [
    "cities"
   ]
  },
  {
   "cell_type": "code",
   "execution_count": 45,
   "id": "22672690-9ce2-48cf-be99-5870ac5ea78a",
   "metadata": {},
   "outputs": [
    {
     "data": {
      "text/plain": [
       "['Hyderabad',\n",
       " 'Baltimore',\n",
       " 'Chicago',\n",
       " 'Denver',\n",
       " 'Islamabad',\n",
       " 'Los Angeles',\n",
       " 'Peshawar',\n",
       " 'Seattle',\n",
       " 'mexico']"
      ]
     },
     "execution_count": 45,
     "metadata": {},
     "output_type": "execute_result"
    }
   ],
   "source": [
    "cities_new"
   ]
  },
  {
   "cell_type": "markdown",
   "id": "eeca248a-bc41-4d3f-ae9e-602e6a050107",
   "metadata": {},
   "source": [
    "## Slicing"
   ]
  },
  {
   "cell_type": "code",
   "execution_count": 46,
   "id": "c8423628-dc2c-43e3-abe8-98bbcf65d24f",
   "metadata": {},
   "outputs": [
    {
     "data": {
      "text/plain": [
       "['Hyderabad',\n",
       " 'Baltimore',\n",
       " 'Chicago',\n",
       " 'Denver',\n",
       " 'Islamabad',\n",
       " 'Los Angeles',\n",
       " 'Peshawar',\n",
       " 'Seattle',\n",
       " 'mexico']"
      ]
     },
     "execution_count": 46,
     "metadata": {},
     "output_type": "execute_result"
    }
   ],
   "source": [
    "cities"
   ]
  },
  {
   "cell_type": "code",
   "execution_count": 47,
   "id": "431c6691-3ed7-4405-8e06-1a139c2858f5",
   "metadata": {},
   "outputs": [
    {
     "data": {
      "text/plain": [
       "['Hyderabad', 'Baltimore', 'Chicago', 'Denver', 'Islamabad']"
      ]
     },
     "execution_count": 47,
     "metadata": {},
     "output_type": "execute_result"
    }
   ],
   "source": [
    "cities[:5] #NOTE: first included and last not included"
   ]
  },
  {
   "cell_type": "code",
   "execution_count": 48,
   "id": "18ead20b-4635-4f12-91a4-c7ec507d3135",
   "metadata": {},
   "outputs": [
    {
     "data": {
      "text/plain": [
       "['Chicago', 'Denver', 'Islamabad']"
      ]
     },
     "execution_count": 48,
     "metadata": {},
     "output_type": "execute_result"
    }
   ],
   "source": [
    "cities[2:5]"
   ]
  },
  {
   "cell_type": "code",
   "execution_count": 49,
   "id": "87bc70e0-0b44-49b0-955c-602b395eddde",
   "metadata": {},
   "outputs": [
    {
     "data": {
      "text/plain": [
       "['Chicago',\n",
       " 'Denver',\n",
       " 'Islamabad',\n",
       " 'Los Angeles',\n",
       " 'Peshawar',\n",
       " 'Seattle',\n",
       " 'mexico']"
      ]
     },
     "execution_count": 49,
     "metadata": {},
     "output_type": "execute_result"
    }
   ],
   "source": [
    "cities[2:]"
   ]
  },
  {
   "cell_type": "code",
   "execution_count": 50,
   "id": "2c36c4dd-a05b-4dbd-8b7a-d924227e203a",
   "metadata": {},
   "outputs": [
    {
     "data": {
      "text/plain": [
       "['mexico',\n",
       " 'Seattle',\n",
       " 'Peshawar',\n",
       " 'Los Angeles',\n",
       " 'Islamabad',\n",
       " 'Denver',\n",
       " 'Chicago',\n",
       " 'Baltimore',\n",
       " 'Hyderabad']"
      ]
     },
     "execution_count": 50,
     "metadata": {},
     "output_type": "execute_result"
    }
   ],
   "source": [
    "cities[::-1]"
   ]
  },
  {
   "cell_type": "code",
   "execution_count": 53,
   "id": "22cb596c-7eb0-4aef-994c-acedbd7c77e3",
   "metadata": {},
   "outputs": [
    {
     "data": {
      "text/plain": [
       "['Hyderabad',\n",
       " 'Baltimore',\n",
       " 'Chicago',\n",
       " 'Denver',\n",
       " 'Islamabad',\n",
       " 'Los Angeles',\n",
       " 'Peshawar',\n",
       " 'Seattle',\n",
       " 'mexico']"
      ]
     },
     "execution_count": 53,
     "metadata": {},
     "output_type": "execute_result"
    }
   ],
   "source": [
    "cities"
   ]
  },
  {
   "cell_type": "code",
   "execution_count": 52,
   "id": "9f89dd50-6e30-4fe0-90ea-644ae9443474",
   "metadata": {},
   "outputs": [
    {
     "data": {
      "text/plain": [
       "'Hyderabad'"
      ]
     },
     "execution_count": 52,
     "metadata": {},
     "output_type": "execute_result"
    }
   ],
   "source": [
    "cities[0]"
   ]
  },
  {
   "cell_type": "markdown",
   "id": "3d9033fc-6b4a-493f-971a-3de89dc8a067",
   "metadata": {},
   "source": [
    "TASK: Create a student list of names and apply all methods that we learn today"
   ]
  },
  {
   "cell_type": "code",
   "execution_count": 54,
   "id": "e3dc4278-20d7-4c42-b02e-3a52bb67d1cd",
   "metadata": {},
   "outputs": [],
   "source": [
    "bio_data = ['Qasim', 26, 25.6, True]"
   ]
  },
  {
   "cell_type": "code",
   "execution_count": 55,
   "id": "e07bad92-96e1-49f0-89d5-1eec20d978be",
   "metadata": {},
   "outputs": [
    {
     "data": {
      "text/plain": [
       "['Qasim', 26, 25.6, True]"
      ]
     },
     "execution_count": 55,
     "metadata": {},
     "output_type": "execute_result"
    }
   ],
   "source": [
    "bio_data"
   ]
  },
  {
   "cell_type": "code",
   "execution_count": 59,
   "id": "270c59b8-af7d-42f0-9a49-63564caee17a",
   "metadata": {},
   "outputs": [
    {
     "data": {
      "text/plain": [
       "4"
      ]
     },
     "execution_count": 59,
     "metadata": {},
     "output_type": "execute_result"
    }
   ],
   "source": [
    "len(bio_data)"
   ]
  },
  {
   "cell_type": "markdown",
   "id": "1f386b77-1fc7-4747-bb68-89c258df77cb",
   "metadata": {},
   "source": [
    "### Tuples - immutable"
   ]
  },
  {
   "cell_type": "code",
   "execution_count": 64,
   "id": "fcbcad4a-59b3-4047-9891-6ee19a979666",
   "metadata": {},
   "outputs": [],
   "source": [
    "bio_data.append('Qasim')"
   ]
  },
  {
   "cell_type": "code",
   "execution_count": 78,
   "id": "6481723b-3051-4a8a-b399-72691c8802d3",
   "metadata": {},
   "outputs": [],
   "source": [
    "del bio_data[4:]"
   ]
  },
  {
   "cell_type": "code",
   "execution_count": 79,
   "id": "f0a75f62-c42d-44d3-8632-25ed15343ede",
   "metadata": {},
   "outputs": [
    {
     "data": {
      "text/plain": [
       "['Qasim', 26, 25.6, True]"
      ]
     },
     "execution_count": 79,
     "metadata": {},
     "output_type": "execute_result"
    }
   ],
   "source": [
    "bio_data"
   ]
  },
  {
   "cell_type": "code",
   "execution_count": 80,
   "id": "2601e370-8928-4cb8-b786-cb8e307d5c52",
   "metadata": {},
   "outputs": [],
   "source": [
    "bio_data_t = tuple(bio_data)"
   ]
  },
  {
   "cell_type": "code",
   "execution_count": 81,
   "id": "12d94574-0172-4ecc-952b-0993c5eef066",
   "metadata": {},
   "outputs": [
    {
     "ename": "TypeError",
     "evalue": "'tuple' object does not support item assignment",
     "output_type": "error",
     "traceback": [
      "\u001b[31m---------------------------------------------------------------------------\u001b[39m",
      "\u001b[31mTypeError\u001b[39m                                 Traceback (most recent call last)",
      "\u001b[36mCell\u001b[39m\u001b[36m \u001b[39m\u001b[32mIn[81]\u001b[39m\u001b[32m, line 1\u001b[39m\n\u001b[32m----> \u001b[39m\u001b[32m1\u001b[39m \u001b[43mbio_data_t\u001b[49m\u001b[43m[\u001b[49m\u001b[32;43m4\u001b[39;49m\u001b[43m]\u001b[49m = \u001b[33m'\u001b[39m\u001b[33m0312-345677888\u001b[39m\u001b[33m'\u001b[39m\n",
      "\u001b[31mTypeError\u001b[39m: 'tuple' object does not support item assignment"
     ]
    }
   ],
   "source": [
    "bio_data_t[4] = '0312-345677888'"
   ]
  },
  {
   "cell_type": "code",
   "execution_count": 82,
   "id": "b91659a1-6cb7-4eb7-8c86-5b2bd214293a",
   "metadata": {},
   "outputs": [
    {
     "data": {
      "text/plain": [
       "1"
      ]
     },
     "execution_count": 82,
     "metadata": {},
     "output_type": "execute_result"
    }
   ],
   "source": [
    "bio_data_t.count(\"Qasim\")"
   ]
  },
  {
   "cell_type": "code",
   "execution_count": 83,
   "id": "935c62be-0779-47d0-acef-9493f14f5219",
   "metadata": {},
   "outputs": [
    {
     "data": {
      "text/plain": [
       "0"
      ]
     },
     "execution_count": 83,
     "metadata": {},
     "output_type": "execute_result"
    }
   ],
   "source": [
    "bio_data_t.index(\"Qasim\")"
   ]
  },
  {
   "cell_type": "code",
   "execution_count": 84,
   "id": "109244ad-588a-4b9e-a29a-60d2a46c4ceb",
   "metadata": {},
   "outputs": [
    {
     "data": {
      "text/plain": [
       "('Qasim', 26)"
      ]
     },
     "execution_count": 84,
     "metadata": {},
     "output_type": "execute_result"
    }
   ],
   "source": [
    "bio_data_t[:2]"
   ]
  },
  {
   "cell_type": "code",
   "execution_count": 76,
   "id": "1cd86661-ef74-4259-a574-4014b4dde31f",
   "metadata": {},
   "outputs": [
    {
     "data": {
      "text/plain": [
       "25.6"
      ]
     },
     "execution_count": 76,
     "metadata": {},
     "output_type": "execute_result"
    }
   ],
   "source": [
    "bio_data_t[2]"
   ]
  },
  {
   "cell_type": "code",
   "execution_count": 85,
   "id": "ae312369-429c-4ccc-b7a3-bb119c41a390",
   "metadata": {},
   "outputs": [
    {
     "data": {
      "text/plain": [
       "('Qasim', 26, 25.6, True)"
      ]
     },
     "execution_count": 85,
     "metadata": {},
     "output_type": "execute_result"
    }
   ],
   "source": [
    "bio_data_t"
   ]
  },
  {
   "cell_type": "code",
   "execution_count": 86,
   "id": "a04c28a6-636b-497d-9bc7-0fb60f76d6d4",
   "metadata": {},
   "outputs": [],
   "source": [
    "bio_data =  list(bio_data_t)"
   ]
  },
  {
   "cell_type": "code",
   "execution_count": 87,
   "id": "308516ec-32b9-411c-8c51-0bf66a347b0a",
   "metadata": {},
   "outputs": [
    {
     "data": {
      "text/plain": [
       "['Qasim', 26, 25.6, True]"
      ]
     },
     "execution_count": 87,
     "metadata": {},
     "output_type": "execute_result"
    }
   ],
   "source": [
    "bio_data"
   ]
  },
  {
   "cell_type": "markdown",
   "id": "d24ec583-19cb-4346-9509-89c73d75dda9",
   "metadata": {},
   "source": [
    "### Set"
   ]
  },
  {
   "cell_type": "code",
   "execution_count": 88,
   "id": "3328ba2b-8d2d-47ef-a08b-70b4b167f34e",
   "metadata": {},
   "outputs": [],
   "source": [
    "name_list = ['Qasim', \"Qasim\", \"aiwithqasim\"]"
   ]
  },
  {
   "cell_type": "code",
   "execution_count": 89,
   "id": "76641578-a404-452e-8aae-97bc90917bea",
   "metadata": {},
   "outputs": [],
   "source": [
    "name_set = set(name_list)"
   ]
  },
  {
   "cell_type": "code",
   "execution_count": 90,
   "id": "7550b0f7-024a-44f8-b8c0-6dc03ec20689",
   "metadata": {},
   "outputs": [
    {
     "data": {
      "text/plain": [
       "{'Qasim', 'aiwithqasim'}"
      ]
     },
     "execution_count": 90,
     "metadata": {},
     "output_type": "execute_result"
    }
   ],
   "source": [
    "name_set"
   ]
  },
  {
   "cell_type": "code",
   "execution_count": 92,
   "id": "32d841bc-49de-42a0-b147-a5a1eede8545",
   "metadata": {},
   "outputs": [],
   "source": [
    "set_a = {'a','b'}\n",
    "set_b = {'c','d'}\n",
    "universal_set = {'a','b','c','d'}"
   ]
  },
  {
   "cell_type": "code",
   "execution_count": 93,
   "id": "91c83e13-ccf4-4e73-b519-9dcfd03f5397",
   "metadata": {},
   "outputs": [
    {
     "data": {
      "text/plain": [
       "{'a', 'b'}"
      ]
     },
     "execution_count": 93,
     "metadata": {},
     "output_type": "execute_result"
    }
   ],
   "source": [
    "universal_set.intersection(set_a)"
   ]
  },
  {
   "cell_type": "code",
   "execution_count": 95,
   "id": "3f1d387a-0329-4031-8bd5-485b2082cfb7",
   "metadata": {},
   "outputs": [],
   "source": [
    "universal_set.update('e') # NOTE doesn't support different dfata type"
   ]
  },
  {
   "cell_type": "code",
   "execution_count": 96,
   "id": "1b53b289-3ff1-4d6e-8578-b24614d92264",
   "metadata": {},
   "outputs": [
    {
     "data": {
      "text/plain": [
       "{'a', 'b', 'c', 'd', 'e'}"
      ]
     },
     "execution_count": 96,
     "metadata": {},
     "output_type": "execute_result"
    }
   ],
   "source": [
    "universal_set"
   ]
  },
  {
   "cell_type": "code",
   "execution_count": 97,
   "id": "5895a8b2-1bd0-4f40-8601-6cbe3b4661e9",
   "metadata": {},
   "outputs": [
    {
     "data": {
      "text/plain": [
       "{'c', 'd', 'e'}"
      ]
     },
     "execution_count": 97,
     "metadata": {},
     "output_type": "execute_result"
    }
   ],
   "source": [
    "universal_set.difference(set_a)"
   ]
  },
  {
   "cell_type": "code",
   "execution_count": 98,
   "id": "9bd062bf-ce7d-4aff-9984-7eab96918ba5",
   "metadata": {},
   "outputs": [],
   "source": [
    "universal_set.discard('e')"
   ]
  },
  {
   "cell_type": "code",
   "execution_count": 99,
   "id": "0ec3f415-e4c3-430f-abe8-ef2bc2ebd44c",
   "metadata": {},
   "outputs": [
    {
     "data": {
      "text/plain": [
       "{'a', 'b', 'c', 'd'}"
      ]
     },
     "execution_count": 99,
     "metadata": {},
     "output_type": "execute_result"
    }
   ],
   "source": [
    "universal_set"
   ]
  },
  {
   "cell_type": "code",
   "execution_count": 102,
   "id": "d59fe5a2-4024-45b3-bf9e-3b260f3be2a6",
   "metadata": {},
   "outputs": [],
   "source": [
    "universal_set.update([21])"
   ]
  },
  {
   "cell_type": "code",
   "execution_count": 103,
   "id": "63872bc8-2cf8-4472-adab-bda9d04c8ebf",
   "metadata": {},
   "outputs": [
    {
     "data": {
      "text/plain": [
       "{21, 'a', 'b', 'c', 'd'}"
      ]
     },
     "execution_count": 103,
     "metadata": {},
     "output_type": "execute_result"
    }
   ],
   "source": [
    "universal_set"
   ]
  },
  {
   "cell_type": "markdown",
   "id": "6256cfc8-8738-4069-bd0f-66951750fa22",
   "metadata": {},
   "source": [
    "TASK: \n",
    "- Create a student `list` of names and apply all methods that we learn today\n",
    "- Create a student `tuple` of names and apply all methods that we learn today\n",
    "- Create a student `set` of names and apply all methods that we learn today\n",
    "- learn the concept of shallow/ Deep copy\n",
    "- learn the concept of reference by address/value"
   ]
  },
  {
   "cell_type": "code",
   "execution_count": null,
   "id": "81193217-3977-41ea-814f-6f7c2a024a06",
   "metadata": {},
   "outputs": [],
   "source": []
  }
 ],
 "metadata": {
  "kernelspec": {
   "display_name": "Python 3 (ipykernel)",
   "language": "python",
   "name": "python3"
  },
  "language_info": {
   "codemirror_mode": {
    "name": "ipython",
    "version": 3
   },
   "file_extension": ".py",
   "mimetype": "text/x-python",
   "name": "python",
   "nbconvert_exporter": "python",
   "pygments_lexer": "ipython3",
   "version": "3.13.5"
  }
 },
 "nbformat": 4,
 "nbformat_minor": 5
}
