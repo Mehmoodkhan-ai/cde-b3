{
 "cells": [
  {
   "cell_type": "markdown",
   "id": "554c917f-fc63-4513-b056-cdf96b4253e7",
   "metadata": {},
   "source": [
    "## Dictionary"
   ]
  },
  {
   "cell_type": "raw",
   "id": "2490f348-6641-4228-a5d1-a5d22caeffaa",
   "metadata": {},
   "source": [
    "syntax:\n",
    "{\n",
    "    key:value,\n",
    "    key2:value2\n",
    "}"
   ]
  },
  {
   "cell_type": "code",
   "execution_count": null,
   "id": "12e3c0c6-35be-4890-8e55-385e5829bc69",
   "metadata": {},
   "outputs": [],
   "source": [
    "customer = {     \n",
    "    \"customer id\": 0,\n",
    "    \"first name\":\"John\",\n",
    "    \"last name\": \"Ogden\",\n",
    "    \"address\": \"301 Arbor Rd.\",\n",
    "     }"
   ]
  },
  {
   "cell_type": "code",
   "execution_count": null,
   "id": "51f2e46b-a3bb-4d8d-921c-5572e3c09ccb",
   "metadata": {},
   "outputs": [],
   "source": [
    "# get value method-1 ( without .())\n",
    "customer['first name']"
   ]
  },
  {
   "cell_type": "code",
   "execution_count": null,
   "id": "428c2514-989f-4961-91f8-ec83386c6e2a",
   "metadata": {},
   "outputs": [],
   "source": [
    "# get values method-2 ( with .())\n",
    "customer.get('first name', 'Invalid Key')"
   ]
  },
  {
   "cell_type": "code",
   "execution_count": null,
   "id": "e4b24357-77b0-4a20-99f2-693267e62f98",
   "metadata": {},
   "outputs": [],
   "source": [
    "# add new value\n",
    "customer['phone no'] = '+1 412 7863 45'"
   ]
  },
  {
   "cell_type": "code",
   "execution_count": null,
   "id": "d8cf19e8-59b0-4f6c-895d-a8b11278ea42",
   "metadata": {},
   "outputs": [],
   "source": [
    "customer"
   ]
  },
  {
   "cell_type": "markdown",
   "id": "496732bc-3136-40b6-acb4-e3bcc069f4ba",
   "metadata": {},
   "source": [
    "- .key()\n",
    "- .values()\n",
    "- .items()\n",
    "- .setdefalut()\n",
    "- .popitems()\n",
    "- .pop()"
   ]
  },
  {
   "cell_type": "code",
   "execution_count": null,
   "id": "07a456ad-3bd3-4ee6-93ba-21ef0b63abb8",
   "metadata": {},
   "outputs": [],
   "source": [
    "customer.setdefault('phone no')"
   ]
  },
  {
   "cell_type": "code",
   "execution_count": null,
   "id": "d1fc7768-344c-4f60-8828-bcc90ff96e28",
   "metadata": {},
   "outputs": [],
   "source": [
    "customer.setdefault('phone_no')"
   ]
  },
  {
   "cell_type": "code",
   "execution_count": null,
   "id": "bc42e690-419d-4ecc-a9e7-ee9aa737ed6d",
   "metadata": {},
   "outputs": [],
   "source": [
    "customer"
   ]
  },
  {
   "cell_type": "code",
   "execution_count": null,
   "id": "d437ba37-9582-44eb-bcc5-f0384d626fb4",
   "metadata": {},
   "outputs": [],
   "source": [
    "customer.popitem()"
   ]
  },
  {
   "cell_type": "code",
   "execution_count": null,
   "id": "f01e9a38-43c4-44e5-8000-e8577ae02009",
   "metadata": {},
   "outputs": [],
   "source": [
    "customer"
   ]
  },
  {
   "cell_type": "markdown",
   "id": "7ff1d95b-c423-43d7-b98a-3046bc6f827c",
   "metadata": {},
   "source": [
    "## List of dictionaries"
   ]
  },
  {
   "cell_type": "code",
   "execution_count": null,
   "id": "83f5ce6d-16b8-42c9-a9a0-b9b990b45f50",
   "metadata": {},
   "outputs": [],
   "source": [
    "lst_dict = [\n",
    "    {'customer id': 0,\n",
    "     'first name': 'John',\n",
    "     'last name': 'Ogden',\n",
    "     'address': '301 Arbor Rd.',\n",
    "     'phone no': '+1 412 7863 45'}\n",
    "]"
   ]
  },
  {
   "cell_type": "code",
   "execution_count": null,
   "id": "3dbc763d-dd8f-4220-b2a2-06d04f126526",
   "metadata": {},
   "outputs": [],
   "source": [
    "lst_dict[0]['age'] = 25"
   ]
  },
  {
   "cell_type": "code",
   "execution_count": null,
   "id": "05da76f2-99f6-4f26-84bd-18c92de1b0ea",
   "metadata": {},
   "outputs": [],
   "source": [
    "lst_dict[0]"
   ]
  },
  {
   "cell_type": "markdown",
   "id": "65cb55cf-837b-472f-9840-68dc985d7391",
   "metadata": {},
   "source": [
    "Tasks: \n",
    "- Using loops add a \"age\" key in all dictionary with defualt value as None\n",
    "- Using a list to convert the customer dictionary to list of list (make sure in nexted list you have only the values NOT keys))\n",
    "- Convert this (list of dict) to (dict of dict)\n",
    "- remove all \"customer id\" for dict of dict\n",
    "- Apply comprehension methods if possible"
   ]
  },
  {
   "cell_type": "code",
   "execution_count": 23,
   "id": "8e3359c0-3d26-4b67-a420-37c58f00839b",
   "metadata": {},
   "outputs": [],
   "source": [
    "customers = [\n",
    "    {     \n",
    "    \"customer id\": 0,\n",
    "    \"first name\":\"John\",\n",
    "    \"last name\": \"Ogden\",\n",
    "    \"address\": \"301 Arbor Rd.\",\n",
    "     },\n",
    "     {\n",
    "     \"customer id\": 1,\n",
    "     \"first name\":\"Ann\",\n",
    "     \"last name\": \"Sattermyer\",\n",
    "     \"address\": \"PO Box 1145\",\n",
    "     },\n",
    "     {\n",
    "     \"customer id\": 2,\n",
    "    \"first name\":\"Jill\",\n",
    "    \"last name\": \"Somers\",\n",
    "    \"address\": \"3 Main St.\",\n",
    "    },\n",
    "]"
   ]
  },
  {
   "cell_type": "code",
   "execution_count": null,
   "id": "ee7c806a-19a2-408b-a8c4-aa5258eb2978",
   "metadata": {},
   "outputs": [],
   "source": [
    "# task1: methos-1\n",
    "for customer in customers:\n",
    "    customer['age'] = None\n",
    "customers"
   ]
  },
  {
   "cell_type": "code",
   "execution_count": 6,
   "id": "7fd1b16f-4cda-4b88-851b-dec6f1967f5d",
   "metadata": {},
   "outputs": [],
   "source": [
    "customers.update({'age': None})"
   ]
  },
  {
   "cell_type": "code",
   "execution_count": 5,
   "id": "c32da79e-df14-4411-b2b0-9e093810d323",
   "metadata": {},
   "outputs": [
    {
     "name": "stdout",
     "output_type": "stream",
     "text": [
      "{'customer id': 0, 'first name': 'John', 'last name': 'Ogden', 'address': '301 Arbor Rd.', 'age': None}\n",
      "{'customer id': 1, 'first name': 'Ann', 'last name': 'Sattermyer', 'address': 'PO Box 1145', 'age': None}\n",
      "{'customer id': 2, 'first name': 'Jill', 'last name': 'Somers', 'address': '3 Main St.', 'age': None}\n"
     ]
    }
   ],
   "source": [
    "# dictionary parse ==> **\n",
    "# list parse ==> *\n",
    "for customer in customers:\n",
    "    print({**customer, 'age':None})"
   ]
  },
  {
   "cell_type": "code",
   "execution_count": 6,
   "id": "edeb2c91-92a5-4605-a699-2be93f31ee28",
   "metadata": {},
   "outputs": [],
   "source": [
    "# task1: methos-2 comprehension\n",
    "customers = [{**customer, 'age':None, } for customer in customers]"
   ]
  },
  {
   "cell_type": "code",
   "execution_count": 7,
   "id": "1d8ca878-d6c5-4ebe-8d58-fbfcfb1833f3",
   "metadata": {},
   "outputs": [
    {
     "data": {
      "text/plain": [
       "[{'customer id': 0,\n",
       "  'first name': 'John',\n",
       "  'last name': 'Ogden',\n",
       "  'address': '301 Arbor Rd.',\n",
       "  'age': None},\n",
       " {'customer id': 1,\n",
       "  'first name': 'Ann',\n",
       "  'last name': 'Sattermyer',\n",
       "  'address': 'PO Box 1145',\n",
       "  'age': None},\n",
       " {'customer id': 2,\n",
       "  'first name': 'Jill',\n",
       "  'last name': 'Somers',\n",
       "  'address': '3 Main St.',\n",
       "  'age': None}]"
      ]
     },
     "execution_count": 7,
     "metadata": {},
     "output_type": "execute_result"
    }
   ],
   "source": [
    "customers"
   ]
  },
  {
   "cell_type": "code",
   "execution_count": null,
   "id": "c457feff-eef3-46e9-9cae-8bbd6d94ead3",
   "metadata": {},
   "outputs": [],
   "source": [
    "# Methods -1 \n",
    "list_of_list = []\n",
    "\n",
    "for customer in customers:\n",
    "    list_of_list.append(list(customer.values()))\n",
    "\n",
    "list_of_list"
   ]
  },
  {
   "cell_type": "code",
   "execution_count": null,
   "id": "15ec9a9f-5de0-457c-8a85-6e3ca5b8b227",
   "metadata": {},
   "outputs": [],
   "source": [
    "# method-2\n",
    "[list(customer.values()) for customer in customers]"
   ]
  },
  {
   "cell_type": "code",
   "execution_count": null,
   "id": "437ccba6-3426-4d18-ac0d-539bbaca81c6",
   "metadata": {},
   "outputs": [],
   "source": [
    "# task3 methods-1\n",
    "dict_of_dict = {}\n",
    "\n",
    "for index, item in enumerate(customers):\n",
    "    popped = item.pop('customer id') # it will do hard delete on item\n",
    "    dict_of_dict[index] = item\n",
    "\n",
    "dict_of_dict"
   ]
  },
  {
   "cell_type": "code",
   "execution_count": 14,
   "id": "a34e6502-ef2e-48e4-a358-750b5726c7be",
   "metadata": {},
   "outputs": [
    {
     "name": "stdout",
     "output_type": "stream",
     "text": [
      "{'customer id': 0, 'first name': 'John', 'last name': 'Ogden', 'address': '301 Arbor Rd.', 'age': None}\n",
      "{'customer id': 1, 'first name': 'Ann', 'last name': 'Sattermyer', 'address': 'PO Box 1145', 'age': None}\n",
      "{'customer id': 2, 'first name': 'Jill', 'last name': 'Somers', 'address': '3 Main St.', 'age': None}\n"
     ]
    }
   ],
   "source": [
    "# task3 methods-2\n",
    "for index, item in enumerate(customers):\n",
    "    print(item)"
   ]
  },
  {
   "cell_type": "code",
   "execution_count": 21,
   "id": "4bf52713-046f-4d0b-94b6-7e020a533441",
   "metadata": {},
   "outputs": [
    {
     "data": {
      "text/plain": [
       "{0: {'customer id': 0,\n",
       "  'first name': 'John',\n",
       "  'last name': 'Ogden',\n",
       "  'address': '301 Arbor Rd.'},\n",
       " 1: {'customer id': 1,\n",
       "  'first name': 'Ann',\n",
       "  'last name': 'Sattermyer',\n",
       "  'address': 'PO Box 1145'},\n",
       " 2: {'customer id': 2,\n",
       "  'first name': 'Jill',\n",
       "  'last name': 'Somers',\n",
       "  'address': '3 Main St.'}}"
      ]
     },
     "execution_count": 21,
     "metadata": {},
     "output_type": "execute_result"
    }
   ],
   "source": [
    "{customer['customer id']: customer for customer in customers}"
   ]
  },
  {
   "cell_type": "code",
   "execution_count": 25,
   "id": "62a79b17-9e4b-4fee-b2a5-ed7aa23e9101",
   "metadata": {},
   "outputs": [],
   "source": [
    "customers = [\n",
    "    {     \n",
    "    \"customer id\": 0,\n",
    "    \"first name\":\"John\",\n",
    "    \"last name\": \"Ogden\",\n",
    "    \"address\": \"301 Arbor Rd.\",\n",
    "     },\n",
    "     {\n",
    "     \"customer id\": 1,\n",
    "     \"first name\":\"Ann\",\n",
    "     \"last name\": \"Sattermyer\",\n",
    "     \"address\": \"PO Box 1145\",\n",
    "     },\n",
    "     {\n",
    "     \"customer id\": 2,\n",
    "    \"first name\":\"Jill\",\n",
    "    \"last name\": \"Somers\",\n",
    "    \"address\": \"3 Main St.\",\n",
    "    },\n",
    "]"
   ]
  },
  {
   "cell_type": "markdown",
   "id": "45947a5b-dca6-40d5-9508-3e7b4a2cd4a3",
   "metadata": {},
   "source": [
    "Tasks:\n",
    "Complete all tasks using comprehensions\n",
    "- Using loops add a \"age\" key in all dictionary with defualt value as None\n",
    "- Using a list to convert the customer dictionary to list of list (make sure in nexted list you have only the values NOT keys))\n",
    "- Convert this (list of dict) to (dict of dict)\n",
    "- remove all \"customer id\" for dict of dict\n"
   ]
  },
  {
   "cell_type": "code",
   "execution_count": 29,
   "id": "0909df9b-3478-41fd-b950-a3c7294e91df",
   "metadata": {},
   "outputs": [
    {
     "data": {
      "text/plain": [
       "[{'customer id': 0,\n",
       "  'first name': 'John',\n",
       "  'last name': 'Ogden',\n",
       "  'address': '301 Arbor Rd.',\n",
       "  'age': None},\n",
       " {'customer id': 1,\n",
       "  'first name': 'Ann',\n",
       "  'last name': 'Sattermyer',\n",
       "  'address': 'PO Box 1145',\n",
       "  'age': None},\n",
       " {'customer id': 2,\n",
       "  'first name': 'Jill',\n",
       "  'last name': 'Somers',\n",
       "  'address': '3 Main St.',\n",
       "  'age': None}]"
      ]
     },
     "execution_count": 29,
     "metadata": {},
     "output_type": "execute_result"
    }
   ],
   "source": [
    "# task1: - Using loops add a \"age\" key in all dictionary with defualt value as None\n",
    "# method-1\n",
    "\n",
    "list_of_dictionary_with_age = []\n",
    "\n",
    "for customer in customers:\n",
    "    # print(customer)\n",
    "    customer.setdefault('age')\n",
    "    list_of_dictionary_with_age.append(customer)\n",
    "\n",
    "list_of_dictionary_with_age"
   ]
  },
  {
   "cell_type": "code",
   "execution_count": 31,
   "id": "97a13c67-0705-4e60-a642-33c39088c54b",
   "metadata": {},
   "outputs": [
    {
     "data": {
      "text/plain": [
       "[{'customer id': 0,\n",
       "  'first name': 'John',\n",
       "  'last name': 'Ogden',\n",
       "  'address': '301 Arbor Rd.',\n",
       "  'age': None},\n",
       " {'customer id': 1,\n",
       "  'first name': 'Ann',\n",
       "  'last name': 'Sattermyer',\n",
       "  'address': 'PO Box 1145',\n",
       "  'age': None},\n",
       " {'customer id': 2,\n",
       "  'first name': 'Jill',\n",
       "  'last name': 'Somers',\n",
       "  'address': '3 Main St.',\n",
       "  'age': None}]"
      ]
     },
     "execution_count": 31,
     "metadata": {},
     "output_type": "execute_result"
    }
   ],
   "source": [
    "# task1: - Using loops add a \"age\" key in all dictionary with defualt value as None\n",
    "# method-2\n",
    "\n",
    "list_of_dictionary_with_age = [ {**customer, 'age':None} for customer in customers]\n",
    "list_of_dictionary_with_age"
   ]
  },
  {
   "cell_type": "code",
   "execution_count": 38,
   "id": "fbd30795-77b0-4fe5-9a7d-ac0ed0c1d83f",
   "metadata": {},
   "outputs": [
    {
     "data": {
      "text/plain": [
       "[[0, 'John', 'Ogden', '301 Arbor Rd.', None],\n",
       " [1, 'Ann', 'Sattermyer', 'PO Box 1145', None],\n",
       " [2, 'Jill', 'Somers', '3 Main St.', None]]"
      ]
     },
     "execution_count": 38,
     "metadata": {},
     "output_type": "execute_result"
    }
   ],
   "source": [
    "# task2: Using a list to convert the customer dictionary to list of list (make sure in nexted list you have only the values NOT keys))\n",
    "#method - 1\n",
    "\n",
    "list_of_list = []\n",
    "\n",
    "for customer in customers:\n",
    "    #print(list(customer.values()))\n",
    "    list_of_list.append(list(customer.values()))\n",
    "\n",
    "list_of_list"
   ]
  },
  {
   "cell_type": "code",
   "execution_count": 41,
   "id": "80b2c77c-beac-42ad-a3c3-53057354371a",
   "metadata": {},
   "outputs": [
    {
     "data": {
      "text/plain": [
       "[[0, 'John', 'Ogden', '301 Arbor Rd.', None],\n",
       " [1, 'Ann', 'Sattermyer', 'PO Box 1145', None],\n",
       " [2, 'Jill', 'Somers', '3 Main St.', None]]"
      ]
     },
     "execution_count": 41,
     "metadata": {},
     "output_type": "execute_result"
    }
   ],
   "source": [
    "# task2: Using a list to convert the customer dictionary to list of list (make sure in nexted list you have only the values NOT keys))\n",
    "#method - 1\n",
    "\n",
    "list_of_list = [list(customer.values()) for customer in customers]\n",
    "list_of_list"
   ]
  },
  {
   "cell_type": "code",
   "execution_count": 46,
   "id": "225d12c9-3734-42fa-9dc7-697076b1a5a8",
   "metadata": {},
   "outputs": [
    {
     "data": {
      "text/plain": [
       "{0: {'customer id': 0,\n",
       "  'first name': 'John',\n",
       "  'last name': 'Ogden',\n",
       "  'address': '301 Arbor Rd.',\n",
       "  'age': None},\n",
       " 1: {'customer id': 1,\n",
       "  'first name': 'Ann',\n",
       "  'last name': 'Sattermyer',\n",
       "  'address': 'PO Box 1145',\n",
       "  'age': None},\n",
       " 2: {'customer id': 2,\n",
       "  'first name': 'Jill',\n",
       "  'last name': 'Somers',\n",
       "  'address': '3 Main St.',\n",
       "  'age': None}}"
      ]
     },
     "execution_count": 46,
     "metadata": {},
     "output_type": "execute_result"
    }
   ],
   "source": [
    "# task3: Convert this (list of dict) to (dict of dict)\n",
    "# methods-1\n",
    "\n",
    "dict_of_dict = {}\n",
    "\n",
    "for customer in customers:\n",
    "    # print(customer)\n",
    "    # print(customer['customer id'])\n",
    "    dict_of_dict[customer['customer id']] = customer\n",
    "\n",
    "dict_of_dict"
   ]
  },
  {
   "cell_type": "code",
   "execution_count": 49,
   "id": "768ccf26-8ab1-4667-ab8a-d273259663a6",
   "metadata": {},
   "outputs": [
    {
     "data": {
      "text/plain": [
       "{0: {'customer id': 0,\n",
       "  'first name': 'John',\n",
       "  'last name': 'Ogden',\n",
       "  'address': '301 Arbor Rd.',\n",
       "  'age': None},\n",
       " 1: {'customer id': 1,\n",
       "  'first name': 'Ann',\n",
       "  'last name': 'Sattermyer',\n",
       "  'address': 'PO Box 1145',\n",
       "  'age': None},\n",
       " 2: {'customer id': 2,\n",
       "  'first name': 'Jill',\n",
       "  'last name': 'Somers',\n",
       "  'address': '3 Main St.',\n",
       "  'age': None}}"
      ]
     },
     "execution_count": 49,
     "metadata": {},
     "output_type": "execute_result"
    }
   ],
   "source": [
    "# task3: Convert this (list of dict) to (dict of dict)\n",
    "# methods-2\n",
    "\n",
    "{customer['customer id']: customer for customer in customers}"
   ]
  },
  {
   "cell_type": "code",
   "execution_count": 56,
   "id": "69dc7d5c-b62b-4aac-a7d5-33b9d38a0563",
   "metadata": {},
   "outputs": [
    {
     "name": "stdout",
     "output_type": "stream",
     "text": [
      "0 {'customer id': 0, 'first name': 'John', 'last name': 'Ogden', 'address': '301 Arbor Rd.', 'age': None}\n",
      "1 {'customer id': 1, 'first name': 'Ann', 'last name': 'Sattermyer', 'address': 'PO Box 1145', 'age': None}\n",
      "2 {'customer id': 2, 'first name': 'Jill', 'last name': 'Somers', 'address': '3 Main St.', 'age': None}\n"
     ]
    }
   ],
   "source": [
    "#problem identification\n",
    "\n",
    "for customer in enumerate(customers):\n",
    "    #print(customer)\n",
    "    print(customer[0], customer[1])"
   ]
  },
  {
   "cell_type": "code",
   "execution_count": 57,
   "id": "d7734c87-0ab7-4b81-9494-d3d28b7b9a48",
   "metadata": {},
   "outputs": [
    {
     "data": {
      "text/plain": [
       "{0: {'customer id': 0,\n",
       "  'first name': 'John',\n",
       "  'last name': 'Ogden',\n",
       "  'address': '301 Arbor Rd.',\n",
       "  'age': None},\n",
       " 1: {'customer id': 1,\n",
       "  'first name': 'Ann',\n",
       "  'last name': 'Sattermyer',\n",
       "  'address': 'PO Box 1145',\n",
       "  'age': None},\n",
       " 2: {'customer id': 2,\n",
       "  'first name': 'Jill',\n",
       "  'last name': 'Somers',\n",
       "  'address': '3 Main St.',\n",
       "  'age': None}}"
      ]
     },
     "execution_count": 57,
     "metadata": {},
     "output_type": "execute_result"
    }
   ],
   "source": [
    "{customer[0]:customer[1] for customer in enumerate(customers)}"
   ]
  },
  {
   "cell_type": "markdown",
   "id": "8ef22044-2464-4459-9f18-1043a7f2a352",
   "metadata": {},
   "source": [
    "## Functions\n",
    "- code reuseability\n",
    "- code modularity"
   ]
  },
  {
   "attachments": {
    "743414a4-46f9-419b-b2b3-ceeec799c2d3.png": {
     "image/png": "[encoded data removed]"
    }
   },
   "cell_type": "markdown",
   "id": "d27f924b-afef-4356-a043-74784dff790c",
   "metadata": {},
   "source": [
    "![image.png](attachment:743414a4-46f9-419b-b2b3-ceeec799c2d3.png)"
   ]
  },
  {
   "attachments": {
    "4810a176-9346-4bac-b54e-8f1b6bd98726.png": {
     "image/png": "[encoded data removed]"
    }
   },
   "cell_type": "markdown",
   "id": "e21e58f4-b809-4025-830e-774b75c3f26c",
   "metadata": {},
   "source": [
    "![image.png](attachment:4810a176-9346-4bac-b54e-8f1b6bd98726.png)"
   ]
  },
  {
   "cell_type": "raw",
   "id": "0be2aeb9-557c-4a53-9dca-bab7dcbd4ab5",
   "metadata": {},
   "source": [
    "syntax:\n",
    "def function_name(<paramters>):\n",
    "    <function_body>\n",
    "    return <any_value>"
   ]
  },
  {
   "cell_type": "code",
   "execution_count": 60,
   "id": "93639a59-d764-4dca-9410-71f9a5682216",
   "metadata": {},
   "outputs": [],
   "source": [
    "# craetion of function\n",
    "def fn_bmi(weight, height):\n",
    "    bmi = weight/(height**2)\n",
    "    return bmi"
   ]
  },
  {
   "cell_type": "code",
   "execution_count": 62,
   "id": "f3167d14-0962-4101-9c14-4a71ce442e39",
   "metadata": {},
   "outputs": [
    {
     "name": "stdin",
     "output_type": "stream",
     "text": [
      "Enter you weight in kg:  40\n",
      "Enter you height in meters:  5.5\n"
     ]
    },
    {
     "data": {
      "text/plain": [
       "1.322314049586777"
      ]
     },
     "execution_count": 62,
     "metadata": {},
     "output_type": "execute_result"
    }
   ],
   "source": [
    "# calling function\n",
    "weight = float(input('Enter you weight in kg: '))\n",
    "height = float(input('Enter you height in meters: '))\n",
    "fn_bmi(weight, height)"
   ]
  },
  {
   "cell_type": "code",
   "execution_count": 66,
   "id": "63459b32-d6e1-4b7d-bbde-3ec59f74a756",
   "metadata": {},
   "outputs": [],
   "source": [
    "bmi = fn_bmi(40, 2)"
   ]
  },
  {
   "cell_type": "code",
   "execution_count": 67,
   "id": "732ea3d4-6d77-418a-ba29-90f407d9c63c",
   "metadata": {},
   "outputs": [
    {
     "data": {
      "text/plain": [
       "10.0"
      ]
     },
     "execution_count": 67,
     "metadata": {},
     "output_type": "execute_result"
    }
   ],
   "source": [
    "bmi"
   ]
  },
  {
   "cell_type": "code",
   "execution_count": 68,
   "id": "a5602342-14f2-4b90-a637-c42aa68fd1fa",
   "metadata": {},
   "outputs": [],
   "source": [
    "def greet(getting_line):\n",
    "    return getting_line"
   ]
  },
  {
   "cell_type": "code",
   "execution_count": 73,
   "id": "942731e5-84d7-460c-8421-c9db44b36935",
   "metadata": {},
   "outputs": [
    {
     "name": "stdout",
     "output_type": "stream",
     "text": [
      "Welcome Sir...\n"
     ]
    }
   ],
   "source": [
    "greet('Welcome Sir...')"
   ]
  },
  {
   "cell_type": "code",
   "execution_count": 74,
   "id": "35db63c8-d44b-4474-b9e2-fffbe7faa9a8",
   "metadata": {},
   "outputs": [
    {
     "name": "stdout",
     "output_type": "stream",
     "text": [
      "Hi, Welcome here...\n"
     ]
    }
   ],
   "source": [
    "greet('Hi, Welcome here...')"
   ]
  },
  {
   "cell_type": "code",
   "execution_count": 77,
   "id": "a5bc6863-8c49-4e82-8b21-212094d6170d",
   "metadata": {},
   "outputs": [],
   "source": [
    "def greet(first_name, place_name='Karachi'):\n",
    "    return f\"Hi, {first_name} Welcome to {place_name}..\""
   ]
  },
  {
   "cell_type": "code",
   "execution_count": 78,
   "id": "fa360510-6f01-464a-8bed-c967041db747",
   "metadata": {},
   "outputs": [
    {
     "data": {
      "text/plain": [
       "'Hi, Qasim Welcome to Karachi..'"
      ]
     },
     "execution_count": 78,
     "metadata": {},
     "output_type": "execute_result"
    }
   ],
   "source": [
    "greet('Qasim')"
   ]
  },
  {
   "cell_type": "code",
   "execution_count": 79,
   "id": "5509fb13-b4f5-498e-854d-aa4f18f75f08",
   "metadata": {},
   "outputs": [
    {
     "data": {
      "text/plain": [
       "'Hi, Qasim Welcome to Peshawar..'"
      ]
     },
     "execution_count": 79,
     "metadata": {},
     "output_type": "execute_result"
    }
   ],
   "source": [
    "greet('Qasim', 'Peshawar')"
   ]
  },
  {
   "cell_type": "code",
   "execution_count": 80,
   "id": "9848d7f1-8492-48c3-8c1c-a09cecdd9bd3",
   "metadata": {},
   "outputs": [],
   "source": [
    "def greet(first_name, last_name, place_name='Karachi'):\n",
    "    return f\"Hi, {first_name} {last_name} Welcome to {place_name}..\""
   ]
  },
  {
   "cell_type": "code",
   "execution_count": 87,
   "id": "8c72694b-7273-451c-b9ca-0e0231e66a3a",
   "metadata": {},
   "outputs": [
    {
     "data": {
      "text/plain": [
       "'Hi, Qasim Hassan Welcome to Abbotabad..'"
      ]
     },
     "execution_count": 87,
     "metadata": {},
     "output_type": "execute_result"
    }
   ],
   "source": [
    "greet(last_name = \"Hassan\", first_name = 'Qasim', place_name=\"Abbotabad\")"
   ]
  },
  {
   "cell_type": "code",
   "execution_count": null,
   "id": "bc43f805-675b-4c06-8dd6-020b142d0d49",
   "metadata": {},
   "outputs": [],
   "source": [
    "- key-word argument\n",
    "- positional arguments"
   ]
  }
 ],
 "metadata": {
  "kernelspec": {
   "display_name": "Python 3 (ipykernel)",
   "language": "python",
   "name": "python3"
  },
  "language_info": {
   "codemirror_mode": {
    "name": "ipython",
    "version": 3
   },
   "file_extension": ".py",
   "mimetype": "text/x-python",
   "name": "python",
   "nbconvert_exporter": "python",
   "pygments_lexer": "ipython3",
   "version": "3.13.5"
  }
 },
 "nbformat": 4,
 "nbformat_minor": 5
}
