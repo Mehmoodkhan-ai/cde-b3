{
 "cells": [
  {
   "cell_type": "markdown",
   "id": "54217a2c-9368-4949-83c3-320fd4ee1923",
   "metadata": {},
   "source": [
    "### List of Dictionaries"
   ]
  },
  {
   "cell_type": "code",
   "execution_count": 2,
   "id": "c351e345-b543-465f-9002-c6fdbdef8daf",
   "metadata": {},
   "outputs": [],
   "source": [
    "customers = [\n",
    "    {     \n",
    "    \"customer id\": 0,\n",
    "    \"first name\":\"John\",\n",
    "    \"last name\": \"Ogden\",\n",
    "    \"address\": \"301 Arbor Rd.\",\n",
    "     },\n",
    "     {\n",
    "     \"customer id\": 1,\n",
    "     \"first name\":\"Ann\",\n",
    "     \"last name\": \"Sattermyer\",\n",
    "     \"address\": \"PO Box 1145\",\n",
    "     },\n",
    "     {\n",
    "     \"customer id\": 2,\n",
    "    \"first name\":\"Jill\",\n",
    "    \"last name\": \"Somers\",\n",
    "    \"address\": \"3 Main St.\",\n",
    "    },\n",
    "]"
   ]
  },
  {
   "cell_type": "code",
   "execution_count": 3,
   "id": "f375cac6-b73a-4e00-8ecf-9c68737ae3d8",
   "metadata": {},
   "outputs": [
    {
     "data": {
      "text/plain": [
       "{'customer id': 1,\n",
       " 'first name': 'Ann',\n",
       " 'last name': 'Sattermyer',\n",
       " 'address': 'PO Box 1145'}"
      ]
     },
     "execution_count": 3,
     "metadata": {},
     "output_type": "execute_result"
    }
   ],
   "source": [
    "customers[1][2]"
   ]
  },
  {
   "cell_type": "code",
   "execution_count": 7,
   "id": "96dd6ada-2a07-4e01-9220-b08036e1dd08",
   "metadata": {},
   "outputs": [
    {
     "data": {
      "text/plain": [
       "dict_keys(['customer id', 'first name', 'last name', 'address'])"
      ]
     },
     "execution_count": 7,
     "metadata": {},
     "output_type": "execute_result"
    }
   ],
   "source": [
    "keys = customers[1].keys()\n",
    "keys"
   ]
  },
  {
   "cell_type": "code",
   "execution_count": 11,
   "id": "d71ba3a5-1ba2-4791-a752-9d7768626f6b",
   "metadata": {},
   "outputs": [
    {
     "data": {
      "text/plain": [
       "[{'customer id': 0,\n",
       "  'first name': 'John',\n",
       "  'last name': 'Ogden',\n",
       "  'address': '301 Arbor Rd.'},\n",
       " {'customer id': 1,\n",
       "  'first name': 'Ann',\n",
       "  'last name': 'Sattermyer',\n",
       "  'address': 'PO Box 1145'},\n",
       " {'customer id': 2,\n",
       "  'first name': 'Jill',\n",
       "  'last name': 'Somers',\n",
       "  'address': '3 Main St.'},\n",
       " 'firstn',\n",
       " {'customer id': 4,\n",
       "  'first name': 'Umair',\n",
       "  'last name': 'Khan',\n",
       "  'address': '301 Arbor Rd.'}]"
      ]
     },
     "execution_count": 11,
     "metadata": {},
     "output_type": "execute_result"
    }
   ],
   "source": [
    "customers.append({\n",
    "    'customer id': 4,\n",
    "    'first name': 'Umair',\n",
    "    'last name': 'Khan',\n",
    "    'address': '301 Arbor Rd.'\n",
    "})\n",
    "customers"
   ]
  },
  {
   "cell_type": "code",
   "execution_count": 12,
   "id": "5c4c3cec-e433-451e-a8de-bd813625ca84",
   "metadata": {},
   "outputs": [],
   "source": [
    "dict_customers = {\n",
    "    'customer_id': 1,\n",
    "    'customer_name': 'Noman',\n",
    "    'discounts': [\"standard\", \"volume\", \"loyalty\"]\n",
    "}"
   ]
  },
  {
   "cell_type": "code",
   "execution_count": 14,
   "id": "e737084f-b816-4e59-8639-45594e43bb8c",
   "metadata": {},
   "outputs": [
    {
     "data": {
      "text/plain": [
       "'volume'"
      ]
     },
     "execution_count": 14,
     "metadata": {},
     "output_type": "execute_result"
    }
   ],
   "source": [
    "dict_customers['discounts'][1]"
   ]
  },
  {
   "cell_type": "code",
   "execution_count": 15,
   "id": "566b3aa1-b2a8-461d-b3f5-db91027c622c",
   "metadata": {},
   "outputs": [
    {
     "data": {
      "text/plain": [
       "['umair', 'noman', 'salman']"
      ]
     },
     "execution_count": 15,
     "metadata": {},
     "output_type": "execute_result"
    }
   ],
   "source": [
    "lst = ['umair', 'noman', 'salman']\n",
    "lst"
   ]
  },
  {
   "cell_type": "markdown",
   "id": "20f71f92-1326-480c-b7aa-57c8191ed81a",
   "metadata": {},
   "source": [
    "### Dictionay that contains dictionary"
   ]
  },
  {
   "cell_type": "code",
   "execution_count": 6,
   "id": "95d99686-dc1c-442c-8a0f-e5c3615e976e",
   "metadata": {},
   "outputs": [],
   "source": [
    "customers_dict = {\n",
    "    'customer_1': {\n",
    "        \"customer id\": 0,\n",
    "        \"first name\":\"John\",\n",
    "        \"last name\": \"Ogden\",\n",
    "        \"address\": \"301 Arbor Rd.\",\n",
    "         },\n",
    "     'customer_1': {\n",
    "         \"customer id\": 1,\n",
    "         \"first name\":\"Ann\",\n",
    "         \"last name\": \"Sattermyer\",\n",
    "         \"address\": \"PO Box 1145\",\n",
    "         },\n",
    "     'customer_3': {\n",
    "         \"customer id\": 2,\n",
    "        \"first name\":\"Jill\",\n",
    "        \"last name\": \"Somers\",\n",
    "        \"address\": \"3 Main St.\",\n",
    "        }\n",
    "}"
   ]
  },
  {
   "cell_type": "code",
   "execution_count": 7,
   "id": "7b18cf27-c5cf-4314-adab-fe46354d19e5",
   "metadata": {},
   "outputs": [
    {
     "data": {
      "text/plain": [
       "{'customer id': 1,\n",
       " 'first name': 'Ann',\n",
       " 'last name': 'Sattermyer',\n",
       " 'address': 'PO Box 1145'}"
      ]
     },
     "execution_count": 7,
     "metadata": {},
     "output_type": "execute_result"
    }
   ],
   "source": [
    "customers_dict['customer_1']"
   ]
  },
  {
   "cell_type": "code",
   "execution_count": 8,
   "id": "ffc4ce40-3b7f-4b60-b23c-d37e2efc80f1",
   "metadata": {},
   "outputs": [
    {
     "data": {
      "text/plain": [
       "'Ann'"
      ]
     },
     "execution_count": 8,
     "metadata": {},
     "output_type": "execute_result"
    }
   ],
   "source": [
    "customers_dict['customer_1']['first name']"
   ]
  },
  {
   "cell_type": "code",
   "execution_count": 9,
   "id": "4bb2fc0a-4a36-4d4d-bd1a-76fcaeed6a14",
   "metadata": {},
   "outputs": [
    {
     "name": "stdout",
     "output_type": "stream",
     "text": [
      "12\n"
     ]
    }
   ],
   "source": [
    "num1 = 5\n",
    "num2 = 7\n",
    "print(num1 + num2)"
   ]
  },
  {
   "cell_type": "code",
   "execution_count": 11,
   "id": "224a6d6e-fc7c-4e99-9b74-a41d2e41c9e0",
   "metadata": {},
   "outputs": [],
   "source": [
    "def addition ():\n",
    "    num1 = int(input(\"Enter First Number: \"))\n",
    "    num2 = int(input(\"Enter Second Number: \"))\n",
    "\n",
    "    print(num1 + num2)"
   ]
  },
  {
   "cell_type": "code",
   "execution_count": 12,
   "id": "54edc032-51c2-4697-800a-a65272399219",
   "metadata": {},
   "outputs": [
    {
     "name": "stdin",
     "output_type": "stream",
     "text": [
      "Enter First Number:  5\n",
      "Enter Second Number:  7\n"
     ]
    },
    {
     "name": "stdout",
     "output_type": "stream",
     "text": [
      "12\n"
     ]
    }
   ],
   "source": [
    "addition()"
   ]
  },
  {
   "cell_type": "code",
   "execution_count": 13,
   "id": "be245dd8-d2c6-4a48-8410-3d6f0370390c",
   "metadata": {},
   "outputs": [
    {
     "name": "stdin",
     "output_type": "stream",
     "text": [
      "Enter First Number:  84\n",
      "Enter Second Number:  4564\n"
     ]
    },
    {
     "name": "stdout",
     "output_type": "stream",
     "text": [
      "4648\n"
     ]
    }
   ],
   "source": [
    "addition()"
   ]
  },
  {
   "cell_type": "markdown",
   "id": "d64d5fca-daba-4829-b0fe-4a19093dd644",
   "metadata": {},
   "source": [
    "### Task:\n",
    "    - take 2 numbers and operator as input\n",
    "    - perform calculation based on user input"
   ]
  },
  {
   "cell_type": "code",
   "execution_count": 1,
   "id": "b7a9b55d-528d-4290-90a7-4e1385862424",
   "metadata": {},
   "outputs": [],
   "source": [
    "def calculator():\n",
    "    num1 = int(input(\"Enter 1st num\"))\n",
    "    num2 = int(input(\"Enter 2nd num\"))\n",
    "    operator = input(\"Select Operator +,-,*,/\")\n",
    "\n",
    "    if operator == \"+\":\n",
    "        result = num1+num2\n",
    "        print(result)\n",
    "    elif operator == \"-\":\n",
    "        result = num1-num2\n",
    "        print(result)\n",
    "    elif operator == \"*\":\n",
    "        result = num1*num2\n",
    "        print(result)\n",
    "    elif operator == \"/\":\n",
    "        result = num1 /num2\n",
    "        print(result)\n",
    "    else:\n",
    "        print(\"Invalid operator\")"
   ]
  },
  {
   "cell_type": "code",
   "execution_count": 2,
   "id": "ee0b0f08-4b13-4499-bcde-238a7f271809",
   "metadata": {},
   "outputs": [
    {
     "name": "stdin",
     "output_type": "stream",
     "text": [
      "Enter 1st num 5\n",
      "Enter 2nd num 6\n",
      "Select Operator +,-,*,/ @\n"
     ]
    },
    {
     "name": "stdout",
     "output_type": "stream",
     "text": [
      "Invalid operator\n"
     ]
    }
   ],
   "source": [
    "calculator()"
   ]
  },
  {
   "cell_type": "code",
   "execution_count": 6,
   "id": "1c2f6f8e-abe2-408d-a3ed-18a3ec323495",
   "metadata": {},
   "outputs": [],
   "source": [
    "def calculator1(num1, num2, operator): # -> Parameters\n",
    "    if operator == \"+\":\n",
    "        result = num1+num2\n",
    "        print(result)\n",
    "    elif operator == \"-\":\n",
    "        result = num1-num2\n",
    "        print(result)\n",
    "    elif operator == \"*\":\n",
    "        result = num1*num2\n",
    "        print(result)\n",
    "    elif operator == \"/\":\n",
    "        result = num1 /num2\n",
    "        print(result)\n",
    "    else:\n",
    "        print(\"Invalid operator\")"
   ]
  },
  {
   "cell_type": "code",
   "execution_count": 9,
   "id": "2d707baa-2ed9-4d9c-b891-dd8be3dc937b",
   "metadata": {},
   "outputs": [
    {
     "name": "stdout",
     "output_type": "stream",
     "text": [
      "53\n"
     ]
    }
   ],
   "source": [
    "calculator1(23, 30, '+') # -> Arguments"
   ]
  },
  {
   "cell_type": "markdown",
   "id": "7deea1c1-7b56-49b2-8434-6669b4f3fba0",
   "metadata": {},
   "source": [
    "### Task2:\n",
    "    - 1. Create a Function to Register a user with his name, email, and password\n",
    "        - save name, email, password in a list\n",
    "    - 2. Create another function to login a user with his email and password you saved as the registraiton time, if the crediential match the data you saved, print his name and a login message if not print a message that you are not a registered user please register and run the register function"
   ]
  },
  {
   "cell_type": "code",
   "execution_count": 10,
   "id": "161a9d0b-b52d-4ce7-8b0c-d86dc4bb995f",
   "metadata": {},
   "outputs": [
    {
     "name": "stdout",
     "output_type": "stream",
     "text": [
      "['Muhammad', 'Muhammad@122', '1234']\n"
     ]
    }
   ],
   "source": [
    "lists = []\n",
    "def Register(name,email,password):\n",
    "    lists.append(name)\n",
    "    lists.append(email)\n",
    "    lists.append(password)\n",
    "    print(lists)\n",
    "Register(\"Muhammad\",\"Muhammad@122\",\"1234\")\n",
    "\n",
    "    \n",
    "    "
   ]
  },
  {
   "cell_type": "code",
   "execution_count": 11,
   "id": "96414915-e25e-4b46-9a3e-9d5f3b874983",
   "metadata": {},
   "outputs": [
    {
     "name": "stdout",
     "output_type": "stream",
     "text": [
      "Welcome\n",
      "Register first\n"
     ]
    }
   ],
   "source": [
    "def login(email,password):\n",
    "    if (lists[1] == email and lists[2] == password):\n",
    "        print(\"Welcome\")\n",
    "    else:\n",
    "        print(\"Register first\")\n",
    "\n",
    "login(\"Muhammad@122\",\"1234\")   \n",
    "login(\"hamza@456\",\"4567\")\n",
    "    "
   ]
  },
  {
   "cell_type": "code",
   "execution_count": 21,
   "id": "25578ba4-ded9-4370-a2b1-e4cdcec0956c",
   "metadata": {},
   "outputs": [],
   "source": [
    "                            # default value\n",
    "def calculator1(num1, num2, operator='-'): # -> Parameters\n",
    "    if operator == \"+\":\n",
    "        result = num1+num2\n",
    "        print(result)\n",
    "    elif operator == \"-\":\n",
    "        result = num1-num2\n",
    "        print(result)\n",
    "    elif operator == \"*\":\n",
    "        result = num1*num2\n",
    "        print(result)\n",
    "    elif operator == \"/\":\n",
    "        result = num1 /num2\n",
    "        print(result)\n",
    "    else:\n",
    "        print(\"Invalid operator\")"
   ]
  },
  {
   "cell_type": "code",
   "execution_count": 22,
   "id": "f51ab3db-87da-4c1f-9761-7775fc57502a",
   "metadata": {},
   "outputs": [
    {
     "name": "stdout",
     "output_type": "stream",
     "text": [
      "317\n"
     ]
    }
   ],
   "source": [
    "calculator1(num2=340, num1=23)"
   ]
  },
  {
   "cell_type": "code",
   "execution_count": 23,
   "id": "f0744867-17de-4128-aa9a-f2e902fdbd77",
   "metadata": {},
   "outputs": [],
   "source": [
    "def display_result(winner, score):\n",
    "    print(\"The winner was \" + winner)\n",
    "    print(\"The score was \" + score)"
   ]
  },
  {
   "cell_type": "code",
   "execution_count": 25,
   "id": "dba15ea4-3a00-431b-92c5-c5aabf5972a0",
   "metadata": {},
   "outputs": [
    {
     "name": "stdout",
     "output_type": "stream",
     "text": [
      "The winner was Mehmood\n",
      "The score was 40\n"
     ]
    }
   ],
   "source": [
    "display_result('Mehmood', '40')"
   ]
  },
  {
   "cell_type": "code",
   "execution_count": 26,
   "id": "04fce35e-b8e6-44a5-b88f-683f9f054120",
   "metadata": {},
   "outputs": [
    {
     "ename": "TypeError",
     "evalue": "display_result() got an unexpected keyword argument 'overtime'",
     "output_type": "error",
     "traceback": [
      "\u001b[31m---------------------------------------------------------------------------\u001b[39m",
      "\u001b[31mTypeError\u001b[39m                                 Traceback (most recent call last)",
      "\u001b[36mCell\u001b[39m\u001b[36m \u001b[39m\u001b[32mIn[26]\u001b[39m\u001b[32m, line 1\u001b[39m\n\u001b[32m----> \u001b[39m\u001b[32m1\u001b[39m \u001b[43mdisplay_result\u001b[49m\u001b[43m(\u001b[49m\u001b[43mwinner\u001b[49m\u001b[43m=\u001b[49m\u001b[33;43m\"\u001b[39;49m\u001b[33;43mReal Madrid\u001b[39;49m\u001b[33;43m\"\u001b[39;49m\u001b[43m,\u001b[49m\u001b[43m \u001b[49m\u001b[43mscore\u001b[49m\u001b[43m=\u001b[49m\u001b[33;43m\"\u001b[39;49m\u001b[33;43m1-0\u001b[39;49m\u001b[33;43m\"\u001b[39;49m\u001b[43m,\u001b[49m\u001b[43m \u001b[49m\u001b[43movertime\u001b[49m\u001b[43m \u001b[49m\u001b[43m=\u001b[49m\u001b[33;43m\"\u001b[39;49m\u001b[33;43myes\u001b[39;49m\u001b[33;43m\"\u001b[39;49m\u001b[43m,\u001b[49m\u001b[43m \u001b[49m\u001b[43minjuries\u001b[49m\u001b[43m=\u001b[49m\u001b[33;43m\"\u001b[39;49m\u001b[33;43mnone\u001b[39;49m\u001b[33;43m\"\u001b[39;49m\u001b[43m)\u001b[49m\n",
      "\u001b[31mTypeError\u001b[39m: display_result() got an unexpected keyword argument 'overtime'"
     ]
    }
   ],
   "source": [
    "display_result(winner=\"Real Madrid\", score=\"1-0\", overtime =\"yes\", injuries=\"none\")"
   ]
  },
  {
   "cell_type": "code",
   "execution_count": 36,
   "id": "16c70e99-367a-4d4a-885a-0c3e23069029",
   "metadata": {},
   "outputs": [],
   "source": [
    "def display_result(winner, score, **other_args):\n",
    "    print(\"The winner was \" + winner)\n",
    "    print(\"The score was \" + score)\n",
    "    for key, value in other_args.items():   \n",
    "        print(key + \": \" + value)"
   ]
  },
  {
   "cell_type": "code",
   "execution_count": 38,
   "id": "ea8c2ad8-88f7-4a19-88c8-c167d0eac96c",
   "metadata": {},
   "outputs": [
    {
     "name": "stdout",
     "output_type": "stream",
     "text": [
      "The winner was Real Madrid\n",
      "The score was 1-0\n",
      "overtime: yes\n",
      "injuries: none\n",
      "winner2: Jhon\n"
     ]
    }
   ],
   "source": [
    "display_result(winner=\"Real Madrid\", score=\"1-0\", overtime =\"yes\", injuries=\"none\", winner2='Jhon')"
   ]
  },
  {
   "cell_type": "code",
   "execution_count": 59,
   "id": "6615a612-7a26-424f-a546-834d3f97e1ba",
   "metadata": {},
   "outputs": [],
   "source": [
    "                          # default value\n",
    "def calculator1(num1, num2, operator='-'): # -> Parameters\n",
    "    test2 = 0    \n",
    "    if operator == \"+\":\n",
    "        test2 = num1+num2\n",
    "    elif operator == \"-\":\n",
    "        test2 = num1-num2\n",
    "    elif operator == \"*\":\n",
    "        test2 = num1*num2\n",
    "    elif operator == \"/\":\n",
    "        test2 = num1 /num2\n",
    "    else:\n",
    "        print(\"Invalid operator\")\n",
    "    \n",
    "    # return result\n"
   ]
  },
  {
   "cell_type": "code",
   "execution_count": 61,
   "id": "d570016e-e3fa-4f61-a2d5-54f9470f04da",
   "metadata": {},
   "outputs": [
    {
     "ename": "NameError",
     "evalue": "name 'test2' is not defined",
     "output_type": "error",
     "traceback": [
      "\u001b[31m---------------------------------------------------------------------------\u001b[39m",
      "\u001b[31mNameError\u001b[39m                                 Traceback (most recent call last)",
      "\u001b[36mCell\u001b[39m\u001b[36m \u001b[39m\u001b[32mIn[61]\u001b[39m\u001b[32m, line 1\u001b[39m\n\u001b[32m----> \u001b[39m\u001b[32m1\u001b[39m \u001b[38;5;28mprint\u001b[39m(\u001b[43mtest2\u001b[49m)\n",
      "\u001b[31mNameError\u001b[39m: name 'test2' is not defined"
     ]
    }
   ],
   "source": [
    "print(test2)"
   ]
  },
  {
   "cell_type": "code",
   "execution_count": 48,
   "id": "276c5a53-ccef-4e69-a71a-52c7b97ba3cf",
   "metadata": {},
   "outputs": [],
   "source": [
    "result = calculator1(23, 32, '*')"
   ]
  },
  {
   "cell_type": "code",
   "execution_count": 49,
   "id": "286aad45-c821-49f1-a0ab-af20033ae3b1",
   "metadata": {},
   "outputs": [
    {
     "data": {
      "text/plain": [
       "736"
      ]
     },
     "execution_count": 49,
     "metadata": {},
     "output_type": "execute_result"
    }
   ],
   "source": [
    "result"
   ]
  },
  {
   "cell_type": "code",
   "execution_count": null,
   "id": "e8efeaa4-5d0e-40fb-b2fd-41614c6c849a",
   "metadata": {},
   "outputs": [],
   "source": []
  }
 ],
 "metadata": {
  "kernelspec": {
   "display_name": "Python 3 (ipykernel)",
   "language": "python",
   "name": "python3"
  },
  "language_info": {
   "codemirror_mode": {
    "name": "ipython",
    "version": 3
   },
   "file_extension": ".py",
   "mimetype": "text/x-python",
   "name": "python",
   "nbconvert_exporter": "python",
   "pygments_lexer": "ipython3",
   "version": "3.13.5"
  }
 },
 "nbformat": 4,
 "nbformat_minor": 5
}
