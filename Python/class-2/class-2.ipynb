{
 "cells": [
  {
   "cell_type": "code",
   "execution_count": 2,
   "id": "9a88d7b2-32ce-45ba-8fd8-6438afe68663",
   "metadata": {},
   "outputs": [
    {
     "name": "stdout",
     "output_type": "stream",
     "text": [
      "Hello World...\n"
     ]
    }
   ],
   "source": [
    "print(\"Hello World...\") # this is a code cel"
   ]
  },
  {
   "cell_type": "raw",
   "id": "4512cec7-ed2b-4541-99af-bd2ea34544c2",
   "metadata": {},
   "source": [
    "This is raw cell and you can add simple plain text here.."
   ]
  },
  {
   "cell_type": "markdown",
   "id": "bf5c6df4-a9a0-4a06-afc5-f554fe65556d",
   "metadata": {},
   "source": [
    "This is a markdown cell so we ahve to follow the markdown syntax..."
   ]
  },
  {
   "cell_type": "markdown",
   "id": "00c1d91d-e92b-4568-bdad-3d179f2369a7",
   "metadata": {},
   "source": [
    "# This is level-1 heading\n",
    "## This is level-2 heading\n",
    "### This is level-3 heading\n",
    "#### This is level-4 heading\n",
    "##### This is level-5 heading\n",
    "###### This is level-6 heading"
   ]
  },
  {
   "cell_type": "markdown",
   "id": "86338f8e-7454-4762-a3f9-4589a9a049dd",
   "metadata": {},
   "source": [
    "#### Shortcuts for jupyter notebooks"
   ]
  },
  {
   "cell_type": "markdown",
   "id": "8ae5be79-26be-416d-84d5-2b55f11ec41c",
   "metadata": {},
   "source": [
    "- ESC + M (to convert cell into markdown)\n",
    "- ESC + R (to convert cell into Raw)\n",
    "- ESC + Y (to convert cell into Code)\n",
    "- #1 ..... #6 ( for level-1/level-6 heading)\n",
    "- ESC + A (to create cell above the present cell)\n",
    "- ESC + B (to create cell below the present cell)\n",
    "- ESC + DD (to delete the cell on which you're present)\n",
    "- SHIFT + ENTER (to run the cell and goto next cell)\n",
    "- CTRL + ENTER (to run the cell and not goto next cell)\n",
    "- CRTL + SHIFT + H ( to get all jupyter noteboo shortcuts)"
   ]
  },
  {
   "cell_type": "markdown",
   "id": "736eed0e-d207-42c1-a775-df451ff20c17",
   "metadata": {},
   "source": [
    "## Variables"
   ]
  },
  {
   "cell_type": "code",
   "execution_count": 3,
   "id": "0953198e-a405-4d25-abc3-d5e1516f51c5",
   "metadata": {},
   "outputs": [],
   "source": [
    "name = \"Qasim Hassan\""
   ]
  },
  {
   "cell_type": "code",
   "execution_count": 4,
   "id": "4593568f-8f52-4552-9cac-99262d0e6fc3",
   "metadata": {},
   "outputs": [
    {
     "data": {
      "text/plain": [
       "'Qasim Hassan'"
      ]
     },
     "execution_count": 4,
     "metadata": {},
     "output_type": "execute_result"
    }
   ],
   "source": [
    "name # variable of type string"
   ]
  },
  {
   "cell_type": "code",
   "execution_count": 58,
   "id": "6bfb6885-2d6d-47b0-a0c2-81b16ad11a5a",
   "metadata": {},
   "outputs": [],
   "source": [
    "age = 18"
   ]
  },
  {
   "cell_type": "code",
   "execution_count": 59,
   "id": "eaf35c2f-669f-48ab-a6bd-8209767b9414",
   "metadata": {},
   "outputs": [
    {
     "data": {
      "text/plain": [
       "18"
      ]
     },
     "execution_count": 59,
     "metadata": {},
     "output_type": "execute_result"
    }
   ],
   "source": [
    "age  # variable of type integer"
   ]
  },
  {
   "cell_type": "code",
   "execution_count": 7,
   "id": "7f1d1d80-0d3c-4ba9-b04d-6e829e54c8dd",
   "metadata": {},
   "outputs": [],
   "source": [
    "weight = 20.5"
   ]
  },
  {
   "cell_type": "code",
   "execution_count": 8,
   "id": "855078bd-0c03-462b-977e-f0e5a0c096be",
   "metadata": {},
   "outputs": [
    {
     "data": {
      "text/plain": [
       "20.5"
      ]
     },
     "execution_count": 8,
     "metadata": {},
     "output_type": "execute_result"
    }
   ],
   "source": [
    "weight # variable of type float"
   ]
  },
  {
   "cell_type": "code",
   "execution_count": 10,
   "id": "631ac49a-3c16-4fc9-a130-efea7d6a85e7",
   "metadata": {},
   "outputs": [],
   "source": [
    "is_present = True"
   ]
  },
  {
   "cell_type": "code",
   "execution_count": 11,
   "id": "71408eba-f40d-4221-81dc-68db64f8ef74",
   "metadata": {},
   "outputs": [
    {
     "data": {
      "text/plain": [
       "True"
      ]
     },
     "execution_count": 11,
     "metadata": {},
     "output_type": "execute_result"
    }
   ],
   "source": [
    "is_present # variable of type boolean"
   ]
  },
  {
   "cell_type": "code",
   "execution_count": 16,
   "id": "0638e782-35eb-4ab4-8127-f90057c85742",
   "metadata": {},
   "outputs": [
    {
     "name": "stdout",
     "output_type": "stream",
     "text": [
      "<class 'str'>\n",
      "<class 'int'>\n",
      "<class 'float'>\n",
      "<class 'bool'>\n"
     ]
    }
   ],
   "source": [
    "# additional stuff\n",
    "# 1. type() - to give you the type of the variable\n",
    "# 2. id() - to give you the address of the variable\n",
    "\n",
    "print(type(name))\n",
    "print(type(age))\n",
    "print(type(weight))\n",
    "print(type(is_present))"
   ]
  },
  {
   "cell_type": "code",
   "execution_count": 17,
   "id": "946d8b8c-0e3e-4f97-a7c3-7ee00e1f3143",
   "metadata": {},
   "outputs": [
    {
     "data": {
      "text/plain": [
       "2068527651376"
      ]
     },
     "execution_count": 17,
     "metadata": {},
     "output_type": "execute_result"
    }
   ],
   "source": [
    "id(name)"
   ]
  },
  {
   "cell_type": "markdown",
   "id": "0e5ae37d-8205-4420-a1fe-ba3e5166bb87",
   "metadata": {},
   "source": [
    "### Operators"
   ]
  },
  {
   "cell_type": "code",
   "execution_count": 18,
   "id": "f815f5a5-ed62-4008-ba49-97730c66ec50",
   "metadata": {},
   "outputs": [
    {
     "data": {
      "text/plain": [
       "5"
      ]
     },
     "execution_count": 18,
     "metadata": {},
     "output_type": "execute_result"
    }
   ],
   "source": [
    "2+3"
   ]
  },
  {
   "cell_type": "code",
   "execution_count": 19,
   "id": "a53e6ec2-d183-4b56-b7c1-a6ebdf8c11a1",
   "metadata": {},
   "outputs": [
    {
     "data": {
      "text/plain": [
       "1"
      ]
     },
     "execution_count": 19,
     "metadata": {},
     "output_type": "execute_result"
    }
   ],
   "source": [
    "3-2"
   ]
  },
  {
   "cell_type": "code",
   "execution_count": 20,
   "id": "00ad93cc-8820-41a8-8703-3feeb1a92942",
   "metadata": {},
   "outputs": [
    {
     "data": {
      "text/plain": [
       "6"
      ]
     },
     "execution_count": 20,
     "metadata": {},
     "output_type": "execute_result"
    }
   ],
   "source": [
    "2*3"
   ]
  },
  {
   "cell_type": "code",
   "execution_count": 21,
   "id": "cb145b95-93b8-4a6d-9e74-7a88bd5be65e",
   "metadata": {},
   "outputs": [
    {
     "data": {
      "text/plain": [
       "3.0"
      ]
     },
     "execution_count": 21,
     "metadata": {},
     "output_type": "execute_result"
    }
   ],
   "source": [
    "6/2"
   ]
  },
  {
   "cell_type": "code",
   "execution_count": 22,
   "id": "58fcce0d-dee4-42c7-9de1-d5680288fd0b",
   "metadata": {},
   "outputs": [
    {
     "data": {
      "text/plain": [
       "3.5"
      ]
     },
     "execution_count": 22,
     "metadata": {},
     "output_type": "execute_result"
    }
   ],
   "source": [
    "7/2"
   ]
  },
  {
   "cell_type": "code",
   "execution_count": 23,
   "id": "93178b3a-92c2-428f-af6a-7b5ce8e04d44",
   "metadata": {},
   "outputs": [
    {
     "data": {
      "text/plain": [
       "3"
      ]
     },
     "execution_count": 23,
     "metadata": {},
     "output_type": "execute_result"
    }
   ],
   "source": [
    "7//2 # floor operator"
   ]
  },
  {
   "cell_type": "code",
   "execution_count": 24,
   "id": "0bdb59ab-5712-44ae-a043-222e2e545f91",
   "metadata": {},
   "outputs": [
    {
     "data": {
      "text/plain": [
       "8"
      ]
     },
     "execution_count": 24,
     "metadata": {},
     "output_type": "execute_result"
    }
   ],
   "source": [
    "2**3 # power 2*2*2"
   ]
  },
  {
   "cell_type": "markdown",
   "id": "c3682cae-c7b1-4566-be5d-7cf8c696e355",
   "metadata": {},
   "source": [
    "## Expressions"
   ]
  },
  {
   "cell_type": "markdown",
   "id": "3dc44878-4de6-4260-bb23-2c578682c3e4",
   "metadata": {},
   "source": [
    "#### PEMDAS \n",
    "- Paranthesis,\n",
    "- Exponential(power),\n",
    "- Multiplication,\n",
    "- Division,\n",
    "- Addition,\n",
    "- Subtraction"
   ]
  },
  {
   "cell_type": "raw",
   "id": "9d5c3a7a-6c5f-41fb-8b5b-731dcdb6703b",
   "metadata": {},
   "source": [
    "= (2-3)-(4-3)-4/5\n",
    "= 1-1-4/5 --> solve P\n",
    "= -1-1-0.8 --> solve D\n",
    "= -2.8 --> solve A"
   ]
  },
  {
   "cell_type": "code",
   "execution_count": 26,
   "id": "1265ec97-e7f8-4dae-8d2e-00d70b956f64",
   "metadata": {},
   "outputs": [
    {
     "data": {
      "text/plain": [
       "-2.8"
      ]
     },
     "execution_count": 26,
     "metadata": {},
     "output_type": "execute_result"
    }
   ],
   "source": [
    "(2-3)-(4-3)-4/5"
   ]
  },
  {
   "cell_type": "raw",
   "id": "2022f212-f1e4-4f8d-b1d4-b086d71f6a5d",
   "metadata": {},
   "source": [
    "= (((4+5)**2)*4)/5+(3-2)\n",
    "= ((9**2)*4)/5+1 --> Solve nested P\n",
    "= (81*4)/5+1 --> Solve nested P and E\n",
    "= 324/5+1 --> Solve P\n",
    "= 64.8+1 --> Solve D\n",
    "= 65.8 --> Solve A"
   ]
  },
  {
   "cell_type": "code",
   "execution_count": 25,
   "id": "b86843bc-6af7-4ddc-99d7-8e18c04e915c",
   "metadata": {},
   "outputs": [
    {
     "data": {
      "text/plain": [
       "65.8"
      ]
     },
     "execution_count": 25,
     "metadata": {},
     "output_type": "execute_result"
    }
   ],
   "source": [
    "(((4+5)**2)*4)/5+(3-2)"
   ]
  },
  {
   "cell_type": "markdown",
   "id": "65e5cf1a-b8e8-4a61-80e6-7e37cb40616d",
   "metadata": {},
   "source": [
    "### Advance Operators"
   ]
  },
  {
   "cell_type": "markdown",
   "id": "89dfbe79-90c5-4924-a8b0-44fb97349e51",
   "metadata": {},
   "source": [
    "- +=\n",
    "- -=\n",
    "- /=\n",
    "- *="
   ]
  },
  {
   "cell_type": "code",
   "execution_count": 28,
   "id": "520084ed-8d6c-48bd-a64e-7e626c52a59c",
   "metadata": {},
   "outputs": [],
   "source": [
    "num1 = 5\n",
    "num2 = 4"
   ]
  },
  {
   "cell_type": "code",
   "execution_count": 29,
   "id": "630cfcb1-fa8d-4811-a409-375074a1e4b0",
   "metadata": {},
   "outputs": [],
   "source": [
    "num1 += num2"
   ]
  },
  {
   "cell_type": "code",
   "execution_count": 30,
   "id": "1bc97ead-3622-4df8-94b7-8efe550d6a4c",
   "metadata": {},
   "outputs": [
    {
     "data": {
      "text/plain": [
       "9"
      ]
     },
     "execution_count": 30,
     "metadata": {},
     "output_type": "execute_result"
    }
   ],
   "source": [
    "num1"
   ]
  },
  {
   "cell_type": "code",
   "execution_count": 32,
   "id": "438ddf99-c8fa-4747-9e1f-67026a6ba672",
   "metadata": {},
   "outputs": [
    {
     "data": {
      "text/plain": [
       "4"
      ]
     },
     "execution_count": 32,
     "metadata": {},
     "output_type": "execute_result"
    }
   ],
   "source": [
    "num2"
   ]
  },
  {
   "cell_type": "code",
   "execution_count": 33,
   "id": "cdb329ed-d8c7-4d91-a31d-b2184cfbfbd2",
   "metadata": {},
   "outputs": [],
   "source": [
    "num1 -= num2"
   ]
  },
  {
   "cell_type": "code",
   "execution_count": 34,
   "id": "30064fc5-d2cc-4f21-8f18-53d27c5bb520",
   "metadata": {},
   "outputs": [
    {
     "data": {
      "text/plain": [
       "5"
      ]
     },
     "execution_count": 34,
     "metadata": {},
     "output_type": "execute_result"
    }
   ],
   "source": [
    "num1"
   ]
  },
  {
   "cell_type": "code",
   "execution_count": 35,
   "id": "15349035-29bc-4a6e-a92c-dee3a05dac72",
   "metadata": {},
   "outputs": [
    {
     "data": {
      "text/plain": [
       "4"
      ]
     },
     "execution_count": 35,
     "metadata": {},
     "output_type": "execute_result"
    }
   ],
   "source": [
    "num2"
   ]
  },
  {
   "cell_type": "code",
   "execution_count": 36,
   "id": "2ae27136-443c-4ddf-bd39-7bdfcbb12c1f",
   "metadata": {},
   "outputs": [],
   "source": [
    "num1 *= num2"
   ]
  },
  {
   "cell_type": "code",
   "execution_count": 37,
   "id": "e48f4025-63c7-42c9-abc3-5e91fb0d0442",
   "metadata": {},
   "outputs": [
    {
     "data": {
      "text/plain": [
       "20"
      ]
     },
     "execution_count": 37,
     "metadata": {},
     "output_type": "execute_result"
    }
   ],
   "source": [
    "num1"
   ]
  },
  {
   "cell_type": "code",
   "execution_count": 38,
   "id": "0f3b0727-7806-414d-84c4-bde0f5e27080",
   "metadata": {},
   "outputs": [
    {
     "data": {
      "text/plain": [
       "4"
      ]
     },
     "execution_count": 38,
     "metadata": {},
     "output_type": "execute_result"
    }
   ],
   "source": [
    "num2"
   ]
  },
  {
   "cell_type": "code",
   "execution_count": 39,
   "id": "517d90e4-75d4-4978-887b-a1cc79c5f31f",
   "metadata": {},
   "outputs": [],
   "source": [
    "num1 /= num2"
   ]
  },
  {
   "cell_type": "code",
   "execution_count": 40,
   "id": "c913b56c-87a9-40af-bc78-8e33f20a116f",
   "metadata": {},
   "outputs": [
    {
     "data": {
      "text/plain": [
       "5.0"
      ]
     },
     "execution_count": 40,
     "metadata": {},
     "output_type": "execute_result"
    }
   ],
   "source": [
    "num1"
   ]
  },
  {
   "cell_type": "code",
   "execution_count": 41,
   "id": "539ba583-2e13-4da9-ad2b-86598b9972fd",
   "metadata": {},
   "outputs": [
    {
     "data": {
      "text/plain": [
       "4"
      ]
     },
     "execution_count": 41,
     "metadata": {},
     "output_type": "execute_result"
    }
   ],
   "source": [
    "num2"
   ]
  },
  {
   "cell_type": "raw",
   "id": "c180ec13-0470-4b50-b88b-e954c47945ef",
   "metadata": {},
   "source": [
    "- >\n",
    "- <\n",
    "- >=\n",
    "- <=\n",
    "- <> or != (NOT EQUALS TOO)\n",
    "- == (equals too)\n",
    "- = (is an initializing operator)"
   ]
  },
  {
   "cell_type": "code",
   "execution_count": 43,
   "id": "f4777036-8fc6-45ca-9c6e-0a7db6cb65c2",
   "metadata": {},
   "outputs": [
    {
     "data": {
      "text/plain": [
       "True"
      ]
     },
     "execution_count": 43,
     "metadata": {},
     "output_type": "execute_result"
    }
   ],
   "source": [
    "5 > 2"
   ]
  },
  {
   "cell_type": "code",
   "execution_count": 45,
   "id": "3521382e-1446-40ac-8436-d48b749c018c",
   "metadata": {},
   "outputs": [
    {
     "data": {
      "text/plain": [
       "False"
      ]
     },
     "execution_count": 45,
     "metadata": {},
     "output_type": "execute_result"
    }
   ],
   "source": [
    "5 < 2"
   ]
  },
  {
   "cell_type": "code",
   "execution_count": 46,
   "id": "ea2c6d36-d204-496b-85b9-0f7fb25c4376",
   "metadata": {},
   "outputs": [
    {
     "data": {
      "text/plain": [
       "True"
      ]
     },
     "execution_count": 46,
     "metadata": {},
     "output_type": "execute_result"
    }
   ],
   "source": [
    "5 == 5"
   ]
  },
  {
   "cell_type": "code",
   "execution_count": 53,
   "id": "14818197-94df-4c82-badc-2c079f043d11",
   "metadata": {},
   "outputs": [],
   "source": [
    "name = 'Qasim'"
   ]
  },
  {
   "cell_type": "code",
   "execution_count": 49,
   "id": "44e4fad2-ce07-4bcf-bc9b-8a7c53c9d26e",
   "metadata": {},
   "outputs": [
    {
     "data": {
      "text/plain": [
       "False"
      ]
     },
     "execution_count": 49,
     "metadata": {},
     "output_type": "execute_result"
    }
   ],
   "source": [
    "5 >= 6"
   ]
  },
  {
   "cell_type": "code",
   "execution_count": 50,
   "id": "38b59028-c720-497a-96a0-fc8674858313",
   "metadata": {},
   "outputs": [
    {
     "data": {
      "text/plain": [
       "True"
      ]
     },
     "execution_count": 50,
     "metadata": {},
     "output_type": "execute_result"
    }
   ],
   "source": [
    "5 <= 6"
   ]
  },
  {
   "cell_type": "code",
   "execution_count": 51,
   "id": "ff382cb1-6596-4886-ac6e-e22c92aebb66",
   "metadata": {},
   "outputs": [
    {
     "data": {
      "text/plain": [
       "False"
      ]
     },
     "execution_count": 51,
     "metadata": {},
     "output_type": "execute_result"
    }
   ],
   "source": [
    "1 != 1"
   ]
  },
  {
   "attachments": {
    "451006f3-aec2-45d1-9e85-b40dcc3c2847.png": {
     "image/png": "[encoded data removed]"
    }
   },
   "cell_type": "markdown",
   "id": "35d4f552-23d2-42fe-a67b-990b156d5e6f",
   "metadata": {},
   "source": [
    "![image.png](attachment:451006f3-aec2-45d1-9e85-b40dcc3c2847.png)"
   ]
  },
  {
   "cell_type": "code",
   "execution_count": 52,
   "id": "c199020e-569b-4c09-8a9e-d84da9eb39c5",
   "metadata": {},
   "outputs": [
    {
     "ename": "SyntaxError",
     "evalue": "invalid syntax (226554503.py, line 1)",
     "output_type": "error",
     "traceback": [
      "  \u001b[36mCell\u001b[39m\u001b[36m \u001b[39m\u001b[32mIn[52]\u001b[39m\u001b[32m, line 1\u001b[39m\n\u001b[31m    \u001b[39m\u001b[31m1 <> 1\u001b[39m\n      ^\n\u001b[31mSyntaxError\u001b[39m\u001b[31m:\u001b[39m invalid syntax\n"
     ]
    }
   ],
   "source": [
    "1 <> 1 # this opertor is been used in older verions of python"
   ]
  },
  {
   "cell_type": "markdown",
   "id": "1bd46e65-42d0-4504-9d01-920711a88588",
   "metadata": {},
   "source": [
    "### Variable Names Legal and Illegal"
   ]
  },
  {
   "attachments": {
    "9fb2e523-06de-43ff-92cb-1d261f300bf1.png": {
     "image/png": "[encoded data removed]"
    }
   },
   "cell_type": "markdown",
   "id": "1cc96d3f-cbe3-4fc9-89f4-777e8580b916",
   "metadata": {},
   "source": [
    "![image.png](attachment:9fb2e523-06de-43ff-92cb-1d261f300bf1.png)"
   ]
  },
  {
   "cell_type": "code",
   "execution_count": 54,
   "id": "b6fda470-3fe3-400c-b74b-b298291e4683",
   "metadata": {},
   "outputs": [],
   "source": [
    "print = \"Qasim\""
   ]
  },
  {
   "cell_type": "code",
   "execution_count": 55,
   "id": "5d6616ba-1eea-4065-816e-ac142032d0c2",
   "metadata": {},
   "outputs": [
    {
     "data": {
      "text/plain": [
       "'Qasim'"
      ]
     },
     "execution_count": 55,
     "metadata": {},
     "output_type": "execute_result"
    }
   ],
   "source": [
    "print"
   ]
  },
  {
   "cell_type": "code",
   "execution_count": 56,
   "id": "3653ae1f-e6a2-4122-9652-1cc60f2d6c4e",
   "metadata": {},
   "outputs": [
    {
     "ename": "TypeError",
     "evalue": "'str' object is not callable",
     "output_type": "error",
     "traceback": [
      "\u001b[31m---------------------------------------------------------------------------\u001b[39m",
      "\u001b[31mTypeError\u001b[39m                                 Traceback (most recent call last)",
      "\u001b[36mCell\u001b[39m\u001b[36m \u001b[39m\u001b[32mIn[56]\u001b[39m\u001b[32m, line 1\u001b[39m\n\u001b[32m----> \u001b[39m\u001b[32m1\u001b[39m \u001b[38;5;28;43mprint\u001b[39;49m\u001b[43m(\u001b[49m\u001b[38;5;28;43mprint\u001b[39;49m\u001b[43m)\u001b[49m\n",
      "\u001b[31mTypeError\u001b[39m: 'str' object is not callable"
     ]
    }
   ],
   "source": [
    "print(print)"
   ]
  },
  {
   "cell_type": "code",
   "execution_count": 1,
   "id": "1009b1b9-6bfd-4bec-80c3-2b69d7630ded",
   "metadata": {},
   "outputs": [],
   "source": [
    "name = \"Qasim\""
   ]
  },
  {
   "cell_type": "code",
   "execution_count": 2,
   "id": "2145f3e2-026d-4182-aa86-6d1c36b79bec",
   "metadata": {},
   "outputs": [
    {
     "name": "stdout",
     "output_type": "stream",
     "text": [
      "Qasim\n"
     ]
    }
   ],
   "source": [
    "print(name)"
   ]
  },
  {
   "cell_type": "markdown",
   "id": "cb2919ba-8b55-44ff-8e0a-838d8723abb5",
   "metadata": {},
   "source": [
    "### Concatenating text strings"
   ]
  },
  {
   "cell_type": "code",
   "execution_count": 6,
   "id": "9e59be44-925a-47d3-a520-d58eaa2b350a",
   "metadata": {},
   "outputs": [],
   "source": [
    "f_name = \"Qasim\""
   ]
  },
  {
   "cell_type": "code",
   "execution_count": 5,
   "id": "e7e32688-3288-4fff-9af4-9e14d2a95f52",
   "metadata": {},
   "outputs": [],
   "source": [
    "l_name = \"Hassan\""
   ]
  },
  {
   "cell_type": "code",
   "execution_count": 7,
   "id": "147449b3-814b-4775-95e5-f86fc7fa754c",
   "metadata": {},
   "outputs": [],
   "source": [
    "full_name = f_name + l_name"
   ]
  },
  {
   "cell_type": "code",
   "execution_count": 9,
   "id": "08f74f48-d8a0-4e2c-9b57-d185b7fdcda5",
   "metadata": {},
   "outputs": [
    {
     "data": {
      "text/plain": [
       "'QasimHassan'"
      ]
     },
     "execution_count": 9,
     "metadata": {},
     "output_type": "execute_result"
    }
   ],
   "source": [
    "full_name"
   ]
  },
  {
   "cell_type": "code",
   "execution_count": 8,
   "id": "a035aaba-d6f8-42e9-af0d-1dde859968fd",
   "metadata": {},
   "outputs": [
    {
     "data": {
      "text/plain": [
       "'QasimHassan'"
      ]
     },
     "execution_count": 8,
     "metadata": {},
     "output_type": "execute_result"
    }
   ],
   "source": [
    "\"Qasim\"+\"Hassan\""
   ]
  },
  {
   "cell_type": "code",
   "execution_count": 11,
   "id": "c54fbe01-d91e-45b1-b3d6-998ed30642b4",
   "metadata": {},
   "outputs": [],
   "source": [
    "full_name = f_name + ' ' + l_name # METHOD-1 using + operator"
   ]
  },
  {
   "cell_type": "code",
   "execution_count": 12,
   "id": "87b44192-ccc6-494b-bda9-7fb1f7390108",
   "metadata": {},
   "outputs": [
    {
     "data": {
      "text/plain": [
       "'Qasim Hassan'"
      ]
     },
     "execution_count": 12,
     "metadata": {},
     "output_type": "execute_result"
    }
   ],
   "source": [
    "full_name"
   ]
  },
  {
   "cell_type": "code",
   "execution_count": 17,
   "id": "dc94f3c7-9642-41bd-b356-eb7853d034bc",
   "metadata": {},
   "outputs": [],
   "source": [
    "full_name = f\"{f_name} {l_name}\" # MTEHOD-2 f string"
   ]
  },
  {
   "cell_type": "code",
   "execution_count": 18,
   "id": "5058d44b-fa92-4cca-b73f-10bae5cf29c7",
   "metadata": {},
   "outputs": [
    {
     "data": {
      "text/plain": [
       "'Qasim Hassan'"
      ]
     },
     "execution_count": 18,
     "metadata": {},
     "output_type": "execute_result"
    }
   ],
   "source": [
    "full_name"
   ]
  },
  {
   "cell_type": "code",
   "execution_count": 24,
   "id": "90ee202b-35db-4b2c-aac9-46833ed2a0d9",
   "metadata": {},
   "outputs": [],
   "source": [
    "full_name = \"{0} {1}\".format(f_name, l_name) # METHOD-3 using .format()"
   ]
  },
  {
   "cell_type": "code",
   "execution_count": 25,
   "id": "2a84ae29-301e-4bf2-a664-ed016ab6c466",
   "metadata": {},
   "outputs": [
    {
     "data": {
      "text/plain": [
       "'Qasim Hassan'"
      ]
     },
     "execution_count": 25,
     "metadata": {},
     "output_type": "execute_result"
    }
   ],
   "source": [
    "full_name"
   ]
  },
  {
   "cell_type": "code",
   "execution_count": 26,
   "id": "14f8bc5a-33b7-4468-87bf-587147d5e8fb",
   "metadata": {},
   "outputs": [
    {
     "data": {
      "text/plain": [
       "'this is a class of saylani batch-3'"
      ]
     },
     "execution_count": 26,
     "metadata": {},
     "output_type": "execute_result"
    }
   ],
   "source": [
    "\"this is a class of {0} {1}\".format(\"saylani\", \"batch-3\")"
   ]
  },
  {
   "cell_type": "code",
   "execution_count": 28,
   "id": "b72ed05a-994d-478e-a9c0-ed3b70e4c425",
   "metadata": {},
   "outputs": [
    {
     "data": {
      "text/plain": [
       "'My name is Hassan Qasim'"
      ]
     },
     "execution_count": 28,
     "metadata": {},
     "output_type": "execute_result"
    }
   ],
   "source": [
    "\"My name is {1} {0}\".format(f_name, l_name)"
   ]
  },
  {
   "cell_type": "code",
   "execution_count": 30,
   "id": "eea52776-62ea-459c-8a02-779eb5738b56",
   "metadata": {},
   "outputs": [
    {
     "data": {
      "text/plain": [
       "'thori deen k bt sunlo'"
      ]
     },
     "execution_count": 30,
     "metadata": {},
     "output_type": "execute_result"
    }
   ],
   "source": [
    "\"{0} {1}\".format(\"thori deen k bt\", \"sunlo\")\n",
    "#                   0   ,    1"
   ]
  },
  {
   "cell_type": "code",
   "execution_count": null,
   "id": "60195e0e-6df8-4927-8546-756d8a0966a2",
   "metadata": {},
   "outputs": [],
   "source": []
  }
 ],
 "metadata": {
  "kernelspec": {
   "display_name": "Python 3 (ipykernel)",
   "language": "python",
   "name": "python3"
  },
  "language_info": {
   "codemirror_mode": {
    "name": "ipython",
    "version": 3
   },
   "file_extension": ".py",
   "mimetype": "text/x-python",
   "name": "python",
   "nbconvert_exporter": "python",
   "pygments_lexer": "ipython3",
   "version": "3.13.5"
  }
 },
 "nbformat": 4,
 "nbformat_minor": 5
}
