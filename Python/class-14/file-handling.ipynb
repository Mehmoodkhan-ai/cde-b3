{
 "cells": [
  {
   "cell_type": "markdown",
   "id": "88377617-8ed8-4ab1-8eec-fab916248353",
   "metadata": {},
   "source": [
    "## CSV files"
   ]
  },
  {
   "cell_type": "code",
   "execution_count": null,
   "id": "e328a55c-9de9-4edb-bbe2-112196cbbf5b",
   "metadata": {},
   "outputs": [],
   "source": [
    "import csv"
   ]
  },
  {
   "cell_type": "code",
   "execution_count": null,
   "id": "97b0c07b-3240-4b40-8fe1-c047886e8d43",
   "metadata": {},
   "outputs": [],
   "source": [
    "with open('./exchange_rate.csv', 'r') as f:\n",
    "    csv_content = f.readlines()"
   ]
  },
  {
   "cell_type": "code",
   "execution_count": null,
   "id": "2cf4bdf1-2f10-4efa-a8cd-279e2d4d7de8",
   "metadata": {},
   "outputs": [],
   "source": [
    "csv_content"
   ]
  },
  {
   "cell_type": "code",
   "execution_count": null,
   "id": "9fa02d75-5cbf-4c7c-ab0b-3ff286327c3e",
   "metadata": {},
   "outputs": [],
   "source": [
    "content = []\n",
    "with open('./exchange_rate.csv', 'r') as f:\n",
    "    csv_content = csv.reader(f)\n",
    "    for line in csv_content:\n",
    "        content.append(line)"
   ]
  },
  {
   "cell_type": "code",
   "execution_count": null,
   "id": "7bfb4e22-5bfe-424b-b760-d405b5978d6c",
   "metadata": {},
   "outputs": [],
   "source": [
    "content"
   ]
  },
  {
   "cell_type": "code",
   "execution_count": null,
   "id": "ef4bfe5c-6915-416f-99ed-a5ebd4970e5f",
   "metadata": {},
   "outputs": [],
   "source": [
    "with open('./exchange_rate.csv', 'a') as f:\n",
    "    f.write('PKR,289\\n')"
   ]
  },
  {
   "cell_type": "code",
   "execution_count": null,
   "id": "4b5076ab-4c6f-4f41-9741-689915b7c1be",
   "metadata": {},
   "outputs": [],
   "source": [
    "with open('./exchange_rate.csv', 'w') as f:\n",
    "    f.write('PKR,289\\n')"
   ]
  },
  {
   "cell_type": "markdown",
   "id": "512bfbd2-6bb9-48ec-830a-ccb1354eab90",
   "metadata": {},
   "source": [
    "## CSV File Handling:"
   ]
  },
  {
   "cell_type": "code",
   "execution_count": 2,
   "id": "12809108-63ad-4dcf-98cc-ac20b4509b4b",
   "metadata": {},
   "outputs": [],
   "source": [
    "import csv"
   ]
  },
  {
   "cell_type": "code",
   "execution_count": null,
   "id": "8516648a-30b4-47fe-aef2-c5048b149ee9",
   "metadata": {},
   "outputs": [],
   "source": [
    "competitions = []\n",
    "with open('./competitions.csv', 'r') as f:\n",
    "    content = csv.reader(f)\n",
    "    # print(content)\n",
    "    for line in content:\n",
    "       competitions.append(line)"
   ]
  },
  {
   "cell_type": "code",
   "execution_count": null,
   "id": "f2911a45-7073-48a1-ac55-648bcf3bc876",
   "metadata": {},
   "outputs": [],
   "source": [
    "competitions"
   ]
  },
  {
   "cell_type": "code",
   "execution_count": null,
   "id": "be4c932e-6771-4fd4-af24-b2f0e0eda819",
   "metadata": {},
   "outputs": [],
   "source": [
    "years = []\n",
    "events = []\n",
    "winnners = []\n",
    "for line in competitions[1:]:\n",
    "    print(line)\n",
    "    years.append(line[0])\n",
    "    events.append(line[1])\n",
    "    winnners.append(line[2])"
   ]
  },
  {
   "cell_type": "code",
   "execution_count": null,
   "id": "a1198994-205e-459f-a265-de777edd4d41",
   "metadata": {},
   "outputs": [],
   "source": [
    "print(years, events, winnners , sep='\\n')"
   ]
  },
  {
   "cell_type": "code",
   "execution_count": 6,
   "id": "c97fd3cd-4053-46fc-987e-458987396640",
   "metadata": {},
   "outputs": [],
   "source": [
    "with open(file='./competitions.csv', mode='a', newline='') as f:\n",
    "    write_handler = csv.writer(f, delimiter=\",\")\n",
    "    write_handler.writerow(['2012', 'Asia Cup', 'Pakistan'])"
   ]
  },
  {
   "cell_type": "code",
   "execution_count": 8,
   "id": "98785951-3c5c-45c1-ae2e-38d6eac776e7",
   "metadata": {},
   "outputs": [],
   "source": [
    "with open(file='./competitions.csv', mode='a', newline='') as f:\n",
    "    write_handler = csv.writer(f, delimiter=\",\")\n",
    "    write_handler.writerows([['2024', 'fifa', 'Argentina'],\n",
    "                            ['2025', 'Olympics', 'Pakistan(AN)']])"
   ]
  },
  {
   "cell_type": "markdown",
   "id": "122918cc-703f-4ff4-afb1-5c6d5a62ae3e",
   "metadata": {},
   "source": [
    "## JSON handling"
   ]
  },
  {
   "cell_type": "code",
   "execution_count": 1,
   "id": "e81fed06-96a4-472b-9cf2-bf2d06aa47cb",
   "metadata": {},
   "outputs": [],
   "source": [
    "import json"
   ]
  },
  {
   "cell_type": "code",
   "execution_count": 2,
   "id": "86f46823-8f11-4399-9db7-31a402f7ba58",
   "metadata": {},
   "outputs": [],
   "source": [
    "with open('./json_file.json', 'w') as f:\n",
    "    json.dump(['a', 'b', 'c'], f)"
   ]
  },
  {
   "cell_type": "code",
   "execution_count": 3,
   "id": "4c2e5e98-fb4b-484e-8071-b10591de67b2",
   "metadata": {},
   "outputs": [],
   "source": [
    "with open('./data.json', 'r') as f:\n",
    "    content = json.load(f)"
   ]
  },
  {
   "cell_type": "code",
   "execution_count": 4,
   "id": "fd204a00-bef5-4da7-bf34-4302d920c52f",
   "metadata": {},
   "outputs": [
    {
     "data": {
      "text/plain": [
       "{'name': 'John Doe',\n",
       " 'age': 30,\n",
       " 'email': 'john.doe@example.com',\n",
       " 'isActive': True,\n",
       " 'skills': ['JavaScript', 'HTML', 'CSS'],\n",
       " 'address': {'street': '123 Main St', 'city': 'Anytown', 'zip': '12345'}}"
      ]
     },
     "execution_count": 4,
     "metadata": {},
     "output_type": "execute_result"
    }
   ],
   "source": [
    "content"
   ]
  },
  {
   "cell_type": "code",
   "execution_count": 12,
   "id": "9f2f0a27-fc29-4641-9538-6507ff00dd7e",
   "metadata": {},
   "outputs": [],
   "source": [
    "with open('./data.json', 'r') as f:\n",
    "    data = json.load(f)\n",
    "    data['wight'] = 70"
   ]
  },
  {
   "cell_type": "code",
   "execution_count": 18,
   "id": "bc198ac2-6763-4b74-b2bb-bb5a706c2e3a",
   "metadata": {},
   "outputs": [],
   "source": [
    "with open('./data.json', 'w') as file:\n",
    "    json.dump(data, file)"
   ]
  },
  {
   "cell_type": "markdown",
   "id": "e9b7f4b0-aba7-4194-9107-f14dd850f759",
   "metadata": {},
   "source": [
    "## Error Hanlding:"
   ]
  },
  {
   "cell_type": "code",
   "execution_count": 19,
   "id": "bc2036bc-fdb4-46f0-907f-05f19a9942ea",
   "metadata": {},
   "outputs": [
    {
     "ename": "ZeroDivisionError",
     "evalue": "division by zero",
     "output_type": "error",
     "traceback": [
      "\u001b[31m---------------------------------------------------------------------------\u001b[39m",
      "\u001b[31mZeroDivisionError\u001b[39m                         Traceback (most recent call last)",
      "\u001b[36mCell\u001b[39m\u001b[36m \u001b[39m\u001b[32mIn[19]\u001b[39m\u001b[32m, line 1\u001b[39m\n\u001b[32m----> \u001b[39m\u001b[32m1\u001b[39m \u001b[32;43m5\u001b[39;49m\u001b[43m/\u001b[49m\u001b[32;43m0\u001b[39;49m\n",
      "\u001b[31mZeroDivisionError\u001b[39m: division by zero"
     ]
    }
   ],
   "source": [
    "5/0"
   ]
  },
  {
   "cell_type": "code",
   "execution_count": 23,
   "id": "bf7ccba8-ea28-4afe-ae3e-6a5574f5712d",
   "metadata": {},
   "outputs": [
    {
     "name": "stdout",
     "output_type": "stream",
     "text": [
      "before try-except\n",
      "division by zero\n",
      "After try-except\n"
     ]
    }
   ],
   "source": [
    "print(\"before try-except\")\n",
    "\n",
    "try:\n",
    "    calcuation = 5/0\n",
    "except Exception as e:\n",
    "    print(e)\n",
    "\n",
    "print(\"After try-except\")"
   ]
  },
  {
   "cell_type": "code",
   "execution_count": 24,
   "id": "2dd77c08-7773-44af-b278-ac7603d49410",
   "metadata": {},
   "outputs": [
    {
     "name": "stdout",
     "output_type": "stream",
     "text": [
      "[Errno 2] No such file or directory: './read.json'\n",
      "success\n"
     ]
    }
   ],
   "source": [
    "import json\n",
    "\n",
    "try:\n",
    "    with open('./read.json','r') as f:\n",
    "        json.load(f)\n",
    "except FileNotFoundError as e:\n",
    "    print(e)\n",
    "finally:\n",
    "    print('success')"
   ]
  },
  {
   "cell_type": "code",
   "execution_count": null,
   "id": "f506d506-9ee1-4e35-a285-09b16012e97c",
   "metadata": {},
   "outputs": [],
   "source": []
  }
 ],
 "metadata": {
  "kernelspec": {
   "display_name": "Python 3 (ipykernel)",
   "language": "python",
   "name": "python3"
  },
  "language_info": {
   "codemirror_mode": {
    "name": "ipython",
    "version": 3
   },
   "file_extension": ".py",
   "mimetype": "text/x-python",
   "name": "python",
   "nbconvert_exporter": "python",
   "pygments_lexer": "ipython3",
   "version": "3.13.5"
  }
 },
 "nbformat": 4,
 "nbformat_minor": 5
}
