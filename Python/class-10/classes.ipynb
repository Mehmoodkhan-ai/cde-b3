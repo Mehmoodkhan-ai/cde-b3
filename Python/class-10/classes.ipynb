{
 "cells": [
  {
   "cell_type": "markdown",
   "id": "b15b42b1-2a5c-416a-9300-b8b4f4d70215",
   "metadata": {},
   "source": [
    "## Function"
   ]
  },
  {
   "cell_type": "code",
   "execution_count": null,
   "id": "7631ba33-0308-4232-8c61-f098de6832db",
   "metadata": {},
   "outputs": [],
   "source": [
    "def add(num1, num2):\n",
    "    return num1+num2"
   ]
  },
  {
   "cell_type": "markdown",
   "id": "8e9c2d2c-6b16-44dc-8f56-d6e038232b2f",
   "metadata": {},
   "source": [
    "## Lambda Function\n",
    "- without name\n",
    "- never been called before or after\n",
    "- NO RETURN KEYWORD"
   ]
  },
  {
   "cell_type": "markdown",
   "id": "cbb5ad29-59b1-4293-a57a-51fa29d2b4a6",
   "metadata": {},
   "source": [
    "def Fun_name(inputs):    lambda inputs:expression\n",
    "    epression\n",
    "    return result"
   ]
  },
  {
   "cell_type": "code",
   "execution_count": null,
   "id": "5693decb-1c27-4557-99e6-598ab6937cd2",
   "metadata": {},
   "outputs": [],
   "source": [
    "(lambda x,y:x+y)(8,9)"
   ]
  },
  {
   "cell_type": "code",
   "execution_count": null,
   "id": "c0dfdfa0-288f-4f21-9168-02b12a9c0b6c",
   "metadata": {},
   "outputs": [],
   "source": [
    "f = lambda x,y:x*y"
   ]
  },
  {
   "cell_type": "code",
   "execution_count": null,
   "id": "f2115eaa-2449-4e14-90a1-74cf5a3dff7e",
   "metadata": {},
   "outputs": [],
   "source": [
    "f(5,9)"
   ]
  },
  {
   "cell_type": "code",
   "execution_count": null,
   "id": "ac493a0e-5a74-4407-bd62-967e003a8220",
   "metadata": {},
   "outputs": [],
   "source": [
    "def f(n):\n",
    "    if n==1:\n",
    "        return 1\n",
    "    s = n*f(n-1)\n",
    "    return s\n",
    "f(4)"
   ]
  },
  {
   "cell_type": "code",
   "execution_count": null,
   "id": "b0db14f6-bcab-4338-a9cd-cfccf6d04bfa",
   "metadata": {},
   "outputs": [],
   "source": [
    "f = lambda n: 1 if n==1 else n*f(n-1)"
   ]
  },
  {
   "cell_type": "code",
   "execution_count": null,
   "id": "7e555e60-bd91-45d9-8bd6-03277e2326ee",
   "metadata": {},
   "outputs": [],
   "source": [
    "f(4)"
   ]
  },
  {
   "cell_type": "markdown",
   "id": "4e01d79b-ea87-4be5-8b18-657da43b7ecc",
   "metadata": {},
   "source": [
    "map(function,iterable)"
   ]
  },
  {
   "cell_type": "code",
   "execution_count": null,
   "id": "0e4e1bca-9c06-4837-a286-41a05f355520",
   "metadata": {},
   "outputs": [],
   "source": [
    "dict(map(lambda x: (x, len(x)), [\"Ali\", \"Usama\", \"Sir Qasim\"]))"
   ]
  },
  {
   "cell_type": "code",
   "execution_count": null,
   "id": "168be48f-82d0-4f0f-9021-706d3ee76c77",
   "metadata": {},
   "outputs": [],
   "source": [
    "any(map(lambda x: x>3, range(1,8)))"
   ]
  },
  {
   "cell_type": "code",
   "execution_count": null,
   "id": "f0b1e9bd-1f09-49be-bdfd-56f0752c094a",
   "metadata": {},
   "outputs": [],
   "source": [
    "list(map(lambda x: x>3, range(1,8)))"
   ]
  },
  {
   "cell_type": "code",
   "execution_count": null,
   "id": "75460e7b-5813-4423-b152-0c9a8eba475f",
   "metadata": {},
   "outputs": [],
   "source": [
    "dict(filter(lambda x: x[1]>=50, [(\"Usama\",50),(\"Ali\",48),(\"Sir Qasim\", 90)]))"
   ]
  },
  {
   "cell_type": "code",
   "execution_count": null,
   "id": "cf1c9785-d3d9-45de-9a5b-8fadcd02fd7c",
   "metadata": {},
   "outputs": [],
   "source": [
    "dict([(\"Usama\",50), (\"Sir Qasim\", 90)])"
   ]
  },
  {
   "cell_type": "code",
   "execution_count": 10,
   "id": "c0c58f6b-6fa9-4172-876e-b7197e83f24a",
   "metadata": {},
   "outputs": [
    {
     "data": {
      "text/plain": [
       "[1, 3, 5, 7, 9, 11, 13, 15, 17, 19, 21, 23, 25, 27, 29, 31, 33, 35, 37, 39]"
      ]
     },
     "execution_count": 10,
     "metadata": {},
     "output_type": "execute_result"
    }
   ],
   "source": [
    "list(filter(lambda x:x%2==1, range(1,41)))"
   ]
  },
  {
   "cell_type": "markdown",
   "id": "663dd599-feaa-4629-9cc8-970cfcaf8a19",
   "metadata": {},
   "source": [
    "reduce(function, iterable)"
   ]
  },
  {
   "cell_type": "code",
   "execution_count": 12,
   "id": "96468965-54b3-4091-90f2-85547ac0fa14",
   "metadata": {},
   "outputs": [],
   "source": [
    "from functools import reduce"
   ]
  },
  {
   "cell_type": "code",
   "execution_count": 17,
   "id": "03f35bfd-f711-4044-b4b6-7438204562b7",
   "metadata": {},
   "outputs": [
    {
     "data": {
      "text/plain": [
       "15"
      ]
     },
     "execution_count": 17,
     "metadata": {},
     "output_type": "execute_result"
    }
   ],
   "source": [
    "reduce(lambda x,y:x+y, [5,8], 2)"
   ]
  },
  {
   "cell_type": "code",
   "execution_count": 18,
   "id": "4fef17b7-c8c5-4a40-a16f-c998b1b86df1",
   "metadata": {},
   "outputs": [],
   "source": [
    "# lambda <parameters> : <expression> (true if else false)\n",
    "criteria = lambda marks: \"pass\" if marks > 50 else \"fail\""
   ]
  },
  {
   "cell_type": "code",
   "execution_count": 19,
   "id": "71827f8b-04e4-4d4a-a0a9-ad35237e2dc3",
   "metadata": {},
   "outputs": [
    {
     "data": {
      "text/plain": [
       "'pass'"
      ]
     },
     "execution_count": 19,
     "metadata": {},
     "output_type": "execute_result"
    }
   ],
   "source": [
    "criteria(51)"
   ]
  },
  {
   "cell_type": "code",
   "execution_count": 20,
   "id": "4412dfdb-f0cb-4bd5-85f8-fd44e5bae9de",
   "metadata": {},
   "outputs": [
    {
     "data": {
      "text/plain": [
       "'fail'"
      ]
     },
     "execution_count": 20,
     "metadata": {},
     "output_type": "execute_result"
    }
   ],
   "source": [
    "criteria(49)"
   ]
  },
  {
   "cell_type": "markdown",
   "id": "86ddf828-19ba-4b1f-846e-e2f0d4a3a865",
   "metadata": {},
   "source": [
    "- lambda \n",
    "\n",
    "### builtin function\n",
    "- map()\n",
    "- filter()\n",
    "- any()\n",
    "- all()\n",
    "\n",
    "### aggregation\n",
    "- sum()\n",
    "- min()\n",
    "- max()\n",
    "\n",
    "### importable function\n",
    "- reduce()\n",
    "\n",
    "### assignemnt \n",
    "- sorted()"
   ]
  },
  {
   "cell_type": "markdown",
   "id": "e132addf-b42e-424d-9d3c-ee6495c78034",
   "metadata": {},
   "source": [
    "## Classes"
   ]
  },
  {
   "cell_type": "code",
   "execution_count": 75,
   "id": "e3c92a13-4df3-420c-97f5-f3a7cd2cdb3c",
   "metadata": {},
   "outputs": [],
   "source": [
    "class saylani():\n",
    "    helpline = '0900078601' # static\n",
    "    obj_count = 0 # dynaminc\n",
    "    \n",
    "    def __init__(self, campus, staff_count, courses_count): # constructor\n",
    "        self.campus = campus # attributes\n",
    "        self.staff_count = staff_count\n",
    "        self.courses_count = courses_count\n",
    "        saylani.obj_count +=1\n",
    "\n",
    "    def detail(self, courses): # methods\n",
    "        print(f\"{self.campus} have {self.staff_count} and courrses are {self.courses_count}\")\n",
    "        # course = map(lambda x:x,courses)\n",
    "        # print(*course)\n",
    "\n",
    "    @staticmethod\n",
    "    def facilities():\n",
    "       print(\"medical also\")"
   ]
  },
  {
   "cell_type": "code",
   "execution_count": 76,
   "id": "176b70e2-b780-4947-996c-e68e9e5f0e59",
   "metadata": {},
   "outputs": [],
   "source": [
    "za = saylani(\"ZA IT park\", 10, 5) # object initialization"
   ]
  },
  {
   "cell_type": "code",
   "execution_count": 64,
   "id": "0a28d2d2-f643-4368-81b2-0875a9fcc4d3",
   "metadata": {},
   "outputs": [
    {
     "name": "stdout",
     "output_type": "stream",
     "text": [
      "ZA IT park have 10 and courrses are 5\n",
      "AI DE WEB\n"
     ]
    }
   ],
   "source": [
    "za.detail([\"AI\", \"DE\", \"WEB\"])"
   ]
  },
  {
   "cell_type": "code",
   "execution_count": 65,
   "id": "b6a9539b-6e0a-4fa6-96b6-63ebbf4f4f24",
   "metadata": {},
   "outputs": [
    {
     "data": {
      "text/plain": [
       "1"
      ]
     },
     "execution_count": 65,
     "metadata": {},
     "output_type": "execute_result"
    }
   ],
   "source": [
    "za.obj_count"
   ]
  },
  {
   "cell_type": "code",
   "execution_count": 66,
   "id": "c41b1dcf-592a-474d-a950-5382dd2f23b2",
   "metadata": {},
   "outputs": [
    {
     "data": {
      "text/plain": [
       "'0900078601'"
      ]
     },
     "execution_count": 66,
     "metadata": {},
     "output_type": "execute_result"
    }
   ],
   "source": [
    "za.helpline"
   ]
  },
  {
   "cell_type": "code",
   "execution_count": 67,
   "id": "15010a30-a906-47e1-9b93-5c0917c6882b",
   "metadata": {},
   "outputs": [],
   "source": [
    "bahadurabad = saylani(\"head office\", 11, 6)"
   ]
  },
  {
   "cell_type": "code",
   "execution_count": 69,
   "id": "72c54fa7-5474-4916-8678-c5c535922c4f",
   "metadata": {},
   "outputs": [
    {
     "data": {
      "text/plain": [
       "2"
      ]
     },
     "execution_count": 69,
     "metadata": {},
     "output_type": "execute_result"
    }
   ],
   "source": [
    "bahadurabad.obj_count"
   ]
  },
  {
   "cell_type": "code",
   "execution_count": 77,
   "id": "60345da8-b2b4-42db-b741-e3c9858a4307",
   "metadata": {},
   "outputs": [
    {
     "name": "stdout",
     "output_type": "stream",
     "text": [
      "medical also\n"
     ]
    }
   ],
   "source": [
    "# static methods\n",
    "\n",
    "saylani.facilities()"
   ]
  },
  {
   "cell_type": "markdown",
   "id": "5614d390-b4f0-43fc-889d-db1e9214ea5b",
   "metadata": {},
   "source": [
    "#### TASK: Create a class of cars with atleast 3 attributes and two methods such that once method should be static. Also class should have 2 class variables and one should dynamic"
   ]
  },
  {
   "cell_type": "code",
   "execution_count": 30,
   "id": "0a26076e-b466-49c6-8629-fc2c211ca2f7",
   "metadata": {},
   "outputs": [],
   "source": [
    "class Car():\n",
    "    # Class Variables\n",
    "    chasis_no = '1234567'\n",
    "    engine_type = 'Electric'\n",
    "\n",
    "    # dynamic variable\n",
    "    mileage = 0\n",
    "    \n",
    "    # initializer\n",
    "    def __init__(self, color, car_type, model_year):\n",
    "        # class attributes\n",
    "        self.color = color\n",
    "        self.car_type = car_type\n",
    "        self.model_year = model_year\n",
    "\n",
    "    # instance method\n",
    "    def details(self):\n",
    "        print(f\" Color: {self.color}, Type: {self.car_type}, Year: {self.model_year}\")\n",
    "\n",
    "    # static method\n",
    "    @staticmethod\n",
    "    def calculate_mileage(num):\n",
    "        Car.mileage += num\n",
    "        print(f\"Your car runs {Car.mileage} km\")\n",
    "        "
   ]
  },
  {
   "cell_type": "code",
   "execution_count": 31,
   "id": "a0bdcc98-10a8-4e30-b7e5-a6ea452be2e5",
   "metadata": {},
   "outputs": [],
   "source": [
    "swift = Car('silver', 'Hatchback', '2020')"
   ]
  },
  {
   "cell_type": "code",
   "execution_count": 32,
   "id": "143869f8-965e-45dd-a86e-aa7cd63f8ae8",
   "metadata": {},
   "outputs": [
    {
     "name": "stdout",
     "output_type": "stream",
     "text": [
      " Color: silver, Type: Hatchback, Year: 2020\n"
     ]
    }
   ],
   "source": [
    "swift.details()"
   ]
  },
  {
   "cell_type": "code",
   "execution_count": 33,
   "id": "95a40103-528e-44ea-908b-74dd868ae09f",
   "metadata": {},
   "outputs": [
    {
     "data": {
      "text/plain": [
       "0"
      ]
     },
     "execution_count": 33,
     "metadata": {},
     "output_type": "execute_result"
    }
   ],
   "source": [
    "Car.mileage"
   ]
  },
  {
   "cell_type": "code",
   "execution_count": 34,
   "id": "86937f3c-1c2e-4866-b06f-5182f97bdb9f",
   "metadata": {},
   "outputs": [
    {
     "data": {
      "text/plain": [
       "'Electric'"
      ]
     },
     "execution_count": 34,
     "metadata": {},
     "output_type": "execute_result"
    }
   ],
   "source": [
    "swift.engine_type"
   ]
  },
  {
   "cell_type": "code",
   "execution_count": 35,
   "id": "4766ac58-ed05-4e98-9358-339737c9abd2",
   "metadata": {},
   "outputs": [
    {
     "name": "stdout",
     "output_type": "stream",
     "text": [
      "Your car runs 50 km\n"
     ]
    }
   ],
   "source": [
    "Car.calculate_mileage(50)"
   ]
  },
  {
   "cell_type": "code",
   "execution_count": 36,
   "id": "89cd3dd8-e3a1-4243-8ef2-478095566f80",
   "metadata": {},
   "outputs": [
    {
     "name": "stdout",
     "output_type": "stream",
     "text": [
      "Your car runs 120 km\n"
     ]
    }
   ],
   "source": [
    "Car.calculate_mileage(70)"
   ]
  },
  {
   "cell_type": "code",
   "execution_count": null,
   "id": "7fe218bf-3786-4c38-9583-650178b52b60",
   "metadata": {},
   "outputs": [],
   "source": []
  }
 ],
 "metadata": {
  "kernelspec": {
   "display_name": "Python 3 (ipykernel)",
   "language": "python",
   "name": "python3"
  },
  "language_info": {
   "codemirror_mode": {
    "name": "ipython",
    "version": 3
   },
   "file_extension": ".py",
   "mimetype": "text/x-python",
   "name": "python",
   "nbconvert_exporter": "python",
   "pygments_lexer": "ipython3",
   "version": "3.13.5"
  }
 },
 "nbformat": 4,
 "nbformat_minor": 5
}
