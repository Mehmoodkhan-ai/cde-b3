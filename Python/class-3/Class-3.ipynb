{
 "cells": [
  {
   "cell_type": "markdown",
   "id": "754b980f-b0c9-476e-9f05-38c03be94065",
   "metadata": {},
   "source": [
    "## Concatenation"
   ]
  },
  {
   "cell_type": "markdown",
   "id": "df2973fb-7041-4fbe-9ffa-8588981af166",
   "metadata": {},
   "source": [
    "- METHOD -1 (using + operator)\n",
    "- METHOD -2 (using f-string)\n",
    "- METHOD -3 (using .format())"
   ]
  },
  {
   "cell_type": "code",
   "execution_count": 2,
   "id": "35260538-43b6-4fb5-8aa7-c8c4330da444",
   "metadata": {},
   "outputs": [],
   "source": [
    "str1 = \"sunlo\"\n",
    "str2 = \"dehan se...\""
   ]
  },
  {
   "cell_type": "code",
   "execution_count": 9,
   "id": "682862b8-265b-4b17-a48b-ceb3edbac240",
   "metadata": {},
   "outputs": [
    {
     "name": "stdout",
     "output_type": "stream",
     "text": [
      "sunlo dehan se...\n"
     ]
    }
   ],
   "source": [
    "print(str1 + ' ' + str2) # method-1"
   ]
  },
  {
   "cell_type": "code",
   "execution_count": 8,
   "id": "9581123d-d0fd-4745-9d08-2c34a20b51c0",
   "metadata": {},
   "outputs": [
    {
     "name": "stdout",
     "output_type": "stream",
     "text": [
      "achaa meri bat sunlo dehan se... ok\n"
     ]
    }
   ],
   "source": [
    "print(f\"achaa meri bat {str1} {str2} ok\") #method-2"
   ]
  },
  {
   "cell_type": "code",
   "execution_count": 14,
   "id": "5ece2756-acd9-402d-bb1c-ddc6f6022650",
   "metadata": {},
   "outputs": [
    {
     "data": {
      "text/plain": [
       "'achaa meri bat sunlo dehan se... ok'"
      ]
     },
     "execution_count": 14,
     "metadata": {},
     "output_type": "execute_result"
    }
   ],
   "source": [
    "\"achaa meri bat {0} {1} ok\".format(str1, str2)"
   ]
  },
  {
   "cell_type": "markdown",
   "id": "1abcaca1-bfb0-4947-97db-7a64f65a3791",
   "metadata": {},
   "source": [
    "TASK: Solution"
   ]
  },
  {
   "cell_type": "code",
   "execution_count": 19,
   "id": "2eee4373-1f66-47b7-954f-99babc01cff9",
   "metadata": {},
   "outputs": [
    {
     "name": "stdin",
     "output_type": "stream",
     "text": [
      "Enter your first name:  Muhammad\n",
      "Enter your last name:  Hamza\n",
      "Enter your middle name:  Siddiqui\n"
     ]
    }
   ],
   "source": [
    "first_name = input('Enter your first name: ')\n",
    "last_name = input('Enter your last name: ')\n",
    "middle_name = input('Enter your middle name: ')"
   ]
  },
  {
   "cell_type": "code",
   "execution_count": 20,
   "id": "2605eaa6-3c3e-486a-a34a-55d5f7528e93",
   "metadata": {},
   "outputs": [
    {
     "name": "stdout",
     "output_type": "stream",
     "text": [
      "Hi my name is Muhammad Siddiqui Hamza\n"
     ]
    }
   ],
   "source": [
    "print(\"Hi my name is \" + first_name + \" \"+ middle_name + \" \" +last_name) # method -1"
   ]
  },
  {
   "cell_type": "code",
   "execution_count": 21,
   "id": "8db97a43-c0a4-4666-9215-66396c58dca0",
   "metadata": {},
   "outputs": [
    {
     "name": "stdout",
     "output_type": "stream",
     "text": [
      " Muhammad Siddiqui Hamza\n"
     ]
    }
   ],
   "source": [
    "print(f\" {first_name} {middle_name} {last_name}\")"
   ]
  },
  {
   "cell_type": "code",
   "execution_count": 22,
   "id": "a38c74bd-d12e-4670-8c6c-f84d4b65ba41",
   "metadata": {},
   "outputs": [
    {
     "name": "stdout",
     "output_type": "stream",
     "text": [
      "Muhammad Siddiqui Hamza\n"
     ]
    }
   ],
   "source": [
    "print(\"{0} {2} {1}\".format(first_name,last_name,middle_name))"
   ]
  },
  {
   "cell_type": "markdown",
   "id": "646fe87c-fb1a-4fbc-83f5-12c45106b6b5",
   "metadata": {},
   "source": [
    "### user input"
   ]
  },
  {
   "cell_type": "code",
   "execution_count": 10,
   "id": "787a9974-76fe-4c32-a952-db331446cdd3",
   "metadata": {},
   "outputs": [
    {
     "name": "stdin",
     "output_type": "stream",
     "text": [
      "Enter your first name:  Qasim\n"
     ]
    }
   ],
   "source": [
    "f_name = input(\"Enter your first name: \")"
   ]
  },
  {
   "cell_type": "code",
   "execution_count": 11,
   "id": "bdfb30b7-856a-43dc-b9b2-b646899ef876",
   "metadata": {},
   "outputs": [
    {
     "data": {
      "text/plain": [
       "'Qasim'"
      ]
     },
     "execution_count": 11,
     "metadata": {},
     "output_type": "execute_result"
    }
   ],
   "source": [
    "f_name"
   ]
  },
  {
   "cell_type": "code",
   "execution_count": 14,
   "id": "53ff68d1-7e38-4d37-86cc-068a8e8bf29b",
   "metadata": {},
   "outputs": [
    {
     "name": "stdin",
     "output_type": "stream",
     "text": [
      "Enter your age:  18\n"
     ]
    }
   ],
   "source": [
    "age  = int(input(\"Enter your age: \")) # NOTE: by defualt input() returns string type"
   ]
  },
  {
   "cell_type": "code",
   "execution_count": 15,
   "id": "16a57e6a-b7ae-4da1-9a7d-00695f6cbcc6",
   "metadata": {},
   "outputs": [
    {
     "data": {
      "text/plain": [
       "18"
      ]
     },
     "execution_count": 15,
     "metadata": {},
     "output_type": "execute_result"
    }
   ],
   "source": [
    "age"
   ]
  },
  {
   "cell_type": "code",
   "execution_count": 16,
   "id": "2528791b-4be6-4048-b707-3698cee16735",
   "metadata": {},
   "outputs": [
    {
     "name": "stdin",
     "output_type": "stream",
     "text": [
      "Enter your weight:  18.5\n"
     ]
    }
   ],
   "source": [
    "weight  = float(input(\"Enter your weight: \"))"
   ]
  },
  {
   "cell_type": "code",
   "execution_count": 17,
   "id": "4fdd743c-6673-43d3-899e-587884223b92",
   "metadata": {},
   "outputs": [
    {
     "data": {
      "text/plain": [
       "18.5"
      ]
     },
     "execution_count": 17,
     "metadata": {},
     "output_type": "execute_result"
    }
   ],
   "source": [
    "weight"
   ]
  },
  {
   "cell_type": "code",
   "execution_count": 18,
   "id": "40a515c7-ea3a-48c0-9d72-51227c6a13b9",
   "metadata": {},
   "outputs": [
    {
     "name": "stdin",
     "output_type": "stream",
     "text": [
      "Enter your age:  Qasim\n"
     ]
    },
    {
     "ename": "ValueError",
     "evalue": "invalid literal for int() with base 10: 'Qasim'",
     "output_type": "error",
     "traceback": [
      "\u001b[31m---------------------------------------------------------------------------\u001b[39m",
      "\u001b[31mValueError\u001b[39m                                Traceback (most recent call last)",
      "\u001b[36mCell\u001b[39m\u001b[36m \u001b[39m\u001b[32mIn[18]\u001b[39m\u001b[32m, line 1\u001b[39m\n\u001b[32m----> \u001b[39m\u001b[32m1\u001b[39m age  = \u001b[38;5;28;43mint\u001b[39;49m\u001b[43m(\u001b[49m\u001b[38;5;28;43minput\u001b[39;49m\u001b[43m(\u001b[49m\u001b[33;43m\"\u001b[39;49m\u001b[33;43mEnter your age: \u001b[39;49m\u001b[33;43m\"\u001b[39;49m\u001b[43m)\u001b[49m\u001b[43m)\u001b[49m\n",
      "\u001b[31mValueError\u001b[39m: invalid literal for int() with base 10: 'Qasim'"
     ]
    }
   ],
   "source": [
    "age  = int(input(\"Enter your age: \"))"
   ]
  },
  {
   "cell_type": "markdown",
   "id": "2d69d79d-dd1d-4e71-8341-a30a6238573d",
   "metadata": {},
   "source": [
    "## Conditional Statement:"
   ]
  },
  {
   "cell_type": "markdown",
   "id": "fbc9605e-e376-4584-8180-0003e3e8b548",
   "metadata": {},
   "source": [
    "- if elif else"
   ]
  },
  {
   "cell_type": "raw",
   "id": "88d94ed3-9a44-4efe-850e-cfb75211f156",
   "metadata": {},
   "source": [
    "SYNTAX:\n",
    "-------\n",
    "if <condition>:\n",
    "    <body>\n",
    "else:\n",
    "    <body>"
   ]
  },
  {
   "cell_type": "code",
   "execution_count": 25,
   "id": "49ccae9b-83b8-4606-b688-35b1928f7e9b",
   "metadata": {},
   "outputs": [],
   "source": [
    "eid = False"
   ]
  },
  {
   "cell_type": "markdown",
   "id": "e4a3c56d-8d10-419e-bdf3-643d245fa380",
   "metadata": {},
   "source": [
    "#### if-else"
   ]
  },
  {
   "cell_type": "code",
   "execution_count": 26,
   "id": "3b71af0d-eeb8-4394-bf97-162fa5823a0c",
   "metadata": {},
   "outputs": [
    {
     "name": "stdout",
     "output_type": "stream",
     "text": [
      "Tomorrow is working day.\n"
     ]
    }
   ],
   "source": [
    "if eid:\n",
    "    print('Tomorrow is holiday.')\n",
    "else:\n",
    "    print('Tomorrow is working day.')"
   ]
  },
  {
   "cell_type": "markdown",
   "id": "6a6e0fe0-3405-43bf-b712-7853ea0cc405",
   "metadata": {},
   "source": [
    "TASK: Make a program that tell if you're eligible for certificate or not based on pass/fail."
   ]
  },
  {
   "cell_type": "code",
   "execution_count": 29,
   "id": "07d25c21-2820-468e-962a-f2ad478235f6",
   "metadata": {},
   "outputs": [],
   "source": [
    "test = False"
   ]
  },
  {
   "cell_type": "code",
   "execution_count": 30,
   "id": "787b0f49-4f4b-42f3-a419-aeccd643f1d7",
   "metadata": {},
   "outputs": [
    {
     "name": "stdout",
     "output_type": "stream",
     "text": [
      "you fail test\n"
     ]
    }
   ],
   "source": [
    "if test:\n",
    "    print(\"you pass test\")\n",
    "else:\n",
    "    print(\"you fail test\")"
   ]
  },
  {
   "cell_type": "markdown",
   "id": "eebac0c7-35ad-4dbb-8c32-25a503b42ee8",
   "metadata": {},
   "source": [
    "#### elif"
   ]
  },
  {
   "cell_type": "code",
   "execution_count": 35,
   "id": "cb2e338c-ad98-419b-9006-892aba3027a9",
   "metadata": {},
   "outputs": [
    {
     "name": "stdin",
     "output_type": "stream",
     "text": [
      "Enter your makrs:  69\n"
     ]
    },
    {
     "name": "stdout",
     "output_type": "stream",
     "text": [
      "Your Grade is C\n"
     ]
    }
   ],
   "source": [
    "marks = float(input(\"Enter your makrs: \"))\n",
    "\n",
    "if marks>= 90:\n",
    "    print(\"Your Grade is A+\")\n",
    "elif marks >= 80:\n",
    "    print(\"Your grade is A\")\n",
    "elif marks >= 70:\n",
    "    print(\"Your Grade is B\")\n",
    "else:\n",
    "    print(\"Your Grade is C\")"
   ]
  },
  {
   "cell_type": "markdown",
   "id": "05cccf2a-231c-4704-9af9-0e6aed0d712c",
   "metadata": {},
   "source": [
    "#### nested if-else"
   ]
  },
  {
   "cell_type": "code",
   "execution_count": 41,
   "id": "079ac881-81f7-4157-968f-61789a90a90f",
   "metadata": {},
   "outputs": [
    {
     "name": "stdout",
     "output_type": "stream",
     "text": [
      "Shop is open, have to check for rice now\n"
     ]
    },
    {
     "name": "stdin",
     "output_type": "stream",
     "text": [
      "Check for rice: False\n"
     ]
    },
    {
     "name": "stdout",
     "output_type": "stream",
     "text": [
      "buy nothing\n"
     ]
    }
   ],
   "source": [
    "shop_open = True\n",
    "\n",
    "if shop_open:\n",
    "    print(\"Shop is open, have to check for rice now\")\n",
    "    basmatic_rice = input(\"Check for rice:\")\n",
    "    if basmatic_rice == \"True\":\n",
    "        print(\"Buy 1KG\")\n",
    "    else:\n",
    "        print(\"Buy nothing\")\n",
    "else:\n",
    "    print(\"Shop is closed\")"
   ]
  },
  {
   "cell_type": "markdown",
   "id": "4451fb6b-c98d-4f45-8505-03333e1d84ed",
   "metadata": {},
   "source": [
    "Write a program to check whether a person is eligible for voting or not. (accept age from user) if age is greater than 17 eligible otherwise not eligible"
   ]
  },
  {
   "cell_type": "code",
   "execution_count": 42,
   "id": "0e73a063-dc4f-485a-a6f1-c532431fa7e5",
   "metadata": {},
   "outputs": [
    {
     "name": "stdin",
     "output_type": "stream",
     "text": [
      "enter you age :  17\n"
     ]
    },
    {
     "name": "stdout",
     "output_type": "stream",
     "text": [
      "eligible\n"
     ]
    }
   ],
   "source": [
    "age =int(input(\"enter you age : \"))\n",
    "\n",
    "status = 'eligible' if age >= 17 else 'not eligible'\n",
    "\n",
    "print(status)"
   ]
  },
  {
   "cell_type": "markdown",
   "id": "cd186131-7660-4177-a4f8-7e2827c560f4",
   "metadata": {},
   "source": [
    "Write a program to check whether a number entered by user is even or odd."
   ]
  },
  {
   "cell_type": "code",
   "execution_count": 45,
   "id": "af464c77-c7c8-4529-afd1-d73d14458979",
   "metadata": {},
   "outputs": [
    {
     "name": "stdin",
     "output_type": "stream",
     "text": [
      "Enter number to check:  3\n"
     ]
    },
    {
     "name": "stdout",
     "output_type": "stream",
     "text": [
      "3 is odd.\n"
     ]
    }
   ],
   "source": [
    "num = int(input(\"Enter number to check: \"))\n",
    "\n",
    "if num % 2 == 0:\n",
    "    print(f\"{num} is even.\")\n",
    "else:\n",
    "    print(f\"{num} is odd.\")"
   ]
  },
  {
   "cell_type": "markdown",
   "id": "1c718c5b-e73b-466f-98e7-a29090265bad",
   "metadata": {},
   "source": [
    "Write a program to display \"Hello\" if a number entered by user is a multiple of five , otherwise print \"Bye\"."
   ]
  },
  {
   "cell_type": "code",
   "execution_count": 47,
   "id": "28970f9f-60e2-418f-888d-fcacb4e3bf49",
   "metadata": {},
   "outputs": [
    {
     "name": "stdin",
     "output_type": "stream",
     "text": [
      "Enter number to check:  6\n"
     ]
    },
    {
     "name": "stdout",
     "output_type": "stream",
     "text": [
      "BYE\n"
     ]
    }
   ],
   "source": [
    "num = int(input(\"Enter number to check: \"))\n",
    "\n",
    "if num % 5 == 0:\n",
    "    print(f\"HELLO\")\n",
    "else:\n",
    "    print(f\"BYE\")"
   ]
  },
  {
   "cell_type": "markdown",
   "id": "3d7c96df-3e77-47ba-97b9-7c4d5b173c50",
   "metadata": {},
   "source": [
    "### Operator:\n",
    "- NOT\n",
    "- AND\n",
    "- OR"
   ]
  },
  {
   "cell_type": "code",
   "execution_count": 48,
   "id": "ea1cf84e-3c43-43a8-8cc7-48fcc201a396",
   "metadata": {},
   "outputs": [
    {
     "data": {
      "text/plain": [
       "False"
      ]
     },
     "execution_count": 48,
     "metadata": {},
     "output_type": "execute_result"
    }
   ],
   "source": [
    "not True"
   ]
  },
  {
   "cell_type": "code",
   "execution_count": 49,
   "id": "50d50426-aaeb-48d1-91e0-07643e90bf56",
   "metadata": {},
   "outputs": [
    {
     "data": {
      "text/plain": [
       "True"
      ]
     },
     "execution_count": 49,
     "metadata": {},
     "output_type": "execute_result"
    }
   ],
   "source": [
    "not False"
   ]
  },
  {
   "cell_type": "code",
   "execution_count": 52,
   "id": "c81aa3f2-73c0-40e1-8a48-b1024a9b3096",
   "metadata": {},
   "outputs": [
    {
     "data": {
      "text/plain": [
       "True"
      ]
     },
     "execution_count": 52,
     "metadata": {},
     "output_type": "execute_result"
    }
   ],
   "source": [
    "(7>6) and (3<4) # NOTE: In AND both conditions should be TRUE"
   ]
  },
  {
   "cell_type": "code",
   "execution_count": 54,
   "id": "aa6f8807-e7bb-4c58-bb50-668b7964614e",
   "metadata": {},
   "outputs": [
    {
     "data": {
      "text/plain": [
       "True"
      ]
     },
     "execution_count": 54,
     "metadata": {},
     "output_type": "execute_result"
    }
   ],
   "source": [
    "(7>6) or (5<4) # NOTE: In OR atleast one condition should be TRUE"
   ]
  },
  {
   "cell_type": "markdown",
   "id": "f862f726-c0fc-457b-b8ad-3ff94860f4c7",
   "metadata": {},
   "source": [
    "A school has following rules for grading system:\n",
    "\n",
    "-  Below 25 - F\n",
    "-  25 to 45 - E\n",
    "-  45 to 50 - D\n",
    "-  50 to 60 - C\n",
    "-  60 to 80 - B\n",
    "-  Above 80 - A\n",
    "\n",
    "Ask user to enter marks and print the corresponding grade."
   ]
  },
  {
   "cell_type": "code",
   "execution_count": 67,
   "id": "d36170f4-cc5d-42c0-88ef-269b0a1768de",
   "metadata": {},
   "outputs": [
    {
     "name": "stdin",
     "output_type": "stream",
     "text": [
      "Enter Your Marks :  100\n"
     ]
    },
    {
     "name": "stdout",
     "output_type": "stream",
     "text": [
      "Your Marks is 100 and your Grade is A\n"
     ]
    }
   ],
   "source": [
    "marks = int(input(\"Enter Your Marks : \"))\n",
    "if marks>=0 and marks<25:\n",
    "    print(f\"Your Marks is {marks} and your Grade is F \")\n",
    "elif marks>=25 and marks<45:\n",
    "    print(f\"Your Marks is {marks} and your Grade is E\")\n",
    "elif marks>= 45 and marks<50:\n",
    "    print(f\"Your Marks is {marks} and your Grade is D\")\n",
    "elif marks>=50 and marks<60:\n",
    "    print(f\"Your Marks is {marks} and your Grade is C\")\n",
    "elif marks>=60 and marks<80:\n",
    "    print(f\"Your Marks is {marks} and your Grade is B\")\n",
    "elif marks>=80 and marks<=100:\n",
    "    print(f\"Your Marks is {marks} and your Grade is A\")\n",
    "else:\n",
    "    print(\"Invalid Input\")"
   ]
  },
  {
   "cell_type": "markdown",
   "id": "538ca560-353f-4356-b892-8d5c8a18567a",
   "metadata": {},
   "source": [
    "### Comments"
   ]
  },
  {
   "cell_type": "code",
   "execution_count": 68,
   "id": "db10e86f-07ee-472d-9b06-45f38f959a03",
   "metadata": {},
   "outputs": [],
   "source": [
    "# This is a single line comment"
   ]
  },
  {
   "cell_type": "code",
   "execution_count": 70,
   "id": "bbc9efc8-d9a1-4505-ad8c-691917a878a8",
   "metadata": {},
   "outputs": [
    {
     "name": "stdout",
     "output_type": "stream",
     "text": [
      "changing behavior\n"
     ]
    }
   ],
   "source": [
    "\"\"\"\n",
    "This is a multi line comments.\n",
    "This is the seconds line of comment\n",
    "this is third line\n",
    "\"\"\"\n",
    "print('changing behavior')"
   ]
  },
  {
   "cell_type": "markdown",
   "id": "68792d53-9f49-4295-899e-c8489cd8fa45",
   "metadata": {},
   "source": [
    "### Methods of any type"
   ]
  },
  {
   "cell_type": "code",
   "execution_count": 74,
   "id": "33175110-d565-4578-8d6d-bc277e2c71ed",
   "metadata": {},
   "outputs": [],
   "source": [
    "str = \"Qasim Hassan\""
   ]
  },
  {
   "cell_type": "markdown",
   "id": "57fc07e0-159a-4df9-8e11-1c16d40bc661",
   "metadata": {},
   "source": [
    "### +v3 slicing\n",
    "- NOTE: silicing always happen from first to before the last limit"
   ]
  },
  {
   "cell_type": "code",
   "execution_count": 77,
   "id": "27e18b71-f39a-4e03-8377-4bb6d9f8a8cd",
   "metadata": {},
   "outputs": [
    {
     "data": {
      "text/plain": [
       "'Qasim'"
      ]
     },
     "execution_count": 77,
     "metadata": {},
     "output_type": "execute_result"
    }
   ],
   "source": [
    "str[0:5] # Slicing ons string"
   ]
  },
  {
   "cell_type": "code",
   "execution_count": 80,
   "id": "349da4dc-b58f-4f7d-aa84-7a73e9e335be",
   "metadata": {},
   "outputs": [],
   "source": [
    "str2 = \"This is Saylani CDE Batch-3 class\""
   ]
  },
  {
   "cell_type": "code",
   "execution_count": 84,
   "id": "fc1bf909-0733-42f7-ad55-306a5b8ad7ef",
   "metadata": {},
   "outputs": [
    {
     "data": {
      "text/plain": [
       "'CDE Batch-3'"
      ]
     },
     "execution_count": 84,
     "metadata": {},
     "output_type": "execute_result"
    }
   ],
   "source": [
    "str2[16:27]"
   ]
  },
  {
   "cell_type": "markdown",
   "id": "befbc3e8-4b9e-4174-a3e2-71304eaa5e7b",
   "metadata": {},
   "source": [
    "### -ve slicing"
   ]
  },
  {
   "cell_type": "code",
   "execution_count": 87,
   "id": "2114e883-35df-4dce-8126-032b370147a7",
   "metadata": {},
   "outputs": [
    {
     "data": {
      "text/plain": [
       "'CDE Batch-3'"
      ]
     },
     "execution_count": 87,
     "metadata": {},
     "output_type": "execute_result"
    }
   ],
   "source": [
    "str2[-17:-6]"
   ]
  },
  {
   "cell_type": "markdown",
   "id": "7cd30b14-5fd8-4f9d-965b-3bcdfd7758a5",
   "metadata": {},
   "source": [
    "### methods of string"
   ]
  },
  {
   "cell_type": "code",
   "execution_count": 73,
   "id": "49bd85e5-cca6-4467-a9bc-99e006d722ad",
   "metadata": {},
   "outputs": [
    {
     "data": {
      "text/plain": [
       "1"
      ]
     },
     "execution_count": 73,
     "metadata": {},
     "output_type": "execute_result"
    }
   ],
   "source": [
    "# string.count(value, start, end)\n",
    "\"Qasim\".count('a')"
   ]
  },
  {
   "cell_type": "code",
   "execution_count": 88,
   "id": "ae2b68e3-6bb2-4242-8f79-70b8a86f9c01",
   "metadata": {},
   "outputs": [
    {
     "data": {
      "text/plain": [
       "'Qasim'"
      ]
     },
     "execution_count": 88,
     "metadata": {},
     "output_type": "execute_result"
    }
   ],
   "source": [
    "\"{0}\".format(\"Qasim\")"
   ]
  },
  {
   "cell_type": "code",
   "execution_count": 89,
   "id": "5cde16be-a01e-4b09-9670-203a97b26c3f",
   "metadata": {},
   "outputs": [
    {
     "data": {
      "text/plain": [
       "'QASIM'"
      ]
     },
     "execution_count": 89,
     "metadata": {},
     "output_type": "execute_result"
    }
   ],
   "source": [
    "\"Qasim\".upper()"
   ]
  },
  {
   "cell_type": "code",
   "execution_count": 90,
   "id": "50d78428-b81a-469f-8218-8fccd6ac5a9a",
   "metadata": {},
   "outputs": [
    {
     "data": {
      "text/plain": [
       "'qasim'"
      ]
     },
     "execution_count": 90,
     "metadata": {},
     "output_type": "execute_result"
    }
   ],
   "source": [
    "\"Qasim\".lower()"
   ]
  },
  {
   "cell_type": "code",
   "execution_count": 91,
   "id": "38a53064-2096-4f56-868c-9ba2cb73a2fe",
   "metadata": {},
   "outputs": [
    {
     "data": {
      "text/plain": [
       "'Qasim'"
      ]
     },
     "execution_count": 91,
     "metadata": {},
     "output_type": "execute_result"
    }
   ],
   "source": [
    "'qasim'.title()"
   ]
  },
  {
   "cell_type": "code",
   "execution_count": null,
   "id": "4fd6cfd6-c34e-42eb-b278-ae5955a5e7d7",
   "metadata": {},
   "outputs": [],
   "source": [
    "\"\"."
   ]
  }
 ],
 "metadata": {
  "kernelspec": {
   "display_name": "Python 3 (ipykernel)",
   "language": "python",
   "name": "python3"
  },
  "language_info": {
   "codemirror_mode": {
    "name": "ipython",
    "version": 3
   },
   "file_extension": ".py",
   "mimetype": "text/x-python",
   "name": "python",
   "nbconvert_exporter": "python",
   "pygments_lexer": "ipython3",
   "version": "3.13.5"
  }
 },
 "nbformat": 4,
 "nbformat_minor": 5
}
