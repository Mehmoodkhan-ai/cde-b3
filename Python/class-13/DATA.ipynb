{
 "cells": [
  {
   "cell_type": "code",
   "execution_count": 1,
   "id": "9d58d563",
   "metadata": {},
   "outputs": [],
   "source": [
    "with open(\"greet.txt\",\"w\") as f:\n",
    "    f.write(\"hello ! world\")"
   ]
  },
  {
   "cell_type": "code",
   "execution_count": 2,
   "id": "baa5a935",
   "metadata": {},
   "outputs": [],
   "source": [
    "greeting = \"Hello, world!\"\n",
    "with open(\"greet.txt\", \"w\") as f:\n",
    "   f.write(greeting)"
   ]
  },
  {
   "cell_type": "code",
   "execution_count": 5,
   "id": "edaddbab",
   "metadata": {},
   "outputs": [
    {
     "name": "stdout",
     "output_type": "stream",
     "text": [
      "Hello, world!\n"
     ]
    }
   ],
   "source": [
    "with open(\"greet.txt\",\"r\") as f:\n",
    "    text_of_file=f.read()\n",
    "    print(text_of_file)"
   ]
  },
  {
   "cell_type": "code",
   "execution_count": 11,
   "id": "7f9a3b96",
   "metadata": {},
   "outputs": [],
   "source": [
    "with open(\"greet.txt\",\"a\") as f:\n",
    "    f.write(\"\\nHave a nice day\")"
   ]
  },
  {
   "cell_type": "code",
   "execution_count": 12,
   "id": "439f8f6a",
   "metadata": {},
   "outputs": [
    {
     "name": "stdout",
     "output_type": "stream",
     "text": [
      "Hello, world!\n",
      " Have a nice day Have a nice day\n",
      "Have a nice day\n"
     ]
    }
   ],
   "source": [
    "with open(\"greet.txt\",\"r\") as f:\n",
    "    message = f.read()\n",
    "    print(message)"
   ]
  },
  {
   "cell_type": "code",
   "execution_count": null,
   "id": "51a650d6",
   "metadata": {},
   "outputs": [],
   "source": [
    "with open (\"greet.txt\",\"w\") as f:\n",
    "    f.write(\"hello! world\")\n"
   ]
  },
  {
   "cell_type": "code",
   "execution_count": 14,
   "id": "972ea7d7",
   "metadata": {},
   "outputs": [
    {
     "name": "stdout",
     "output_type": "stream",
     "text": [
      "hello! world\n"
     ]
    }
   ],
   "source": [
    "with open (\"greet.txt\",\"r\") as f:\n",
    "    text=f.read()\n",
    "    print(text)"
   ]
  }
 ],
 "metadata": {
  "kernelspec": {
   "display_name": "Python 3",
   "language": "python",
   "name": "python3"
  },
  "language_info": {
   "codemirror_mode": {
    "name": "ipython",
    "version": 3
   },
   "file_extension": ".py",
   "mimetype": "text/x-python",
   "name": "python",
   "nbconvert_exporter": "python",
   "pygments_lexer": "ipython3",
   "version": "3.12.1"
  }
 },
 "nbformat": 4,
 "nbformat_minor": 5
}
