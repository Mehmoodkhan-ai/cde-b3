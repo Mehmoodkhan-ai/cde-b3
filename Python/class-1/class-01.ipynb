{
 "cells": [
  {
   "cell_type": "code",
   "execution_count": 1,
   "id": "caa96bd6-5282-4121-99cf-2c510e87ee9f",
   "metadata": {},
   "outputs": [
    {
     "name": "stdout",
     "output_type": "stream",
     "text": [
      "Hello Batch-3\n"
     ]
    }
   ],
   "source": [
    "print('Hello Batch-3')"
   ]
  },
  {
   "cell_type": "code",
   "execution_count": 2,
   "id": "c422404c-fb33-4a00-a8ce-17d97e6c38d2",
   "metadata": {},
   "outputs": [
    {
     "name": "stdout",
     "output_type": "stream",
     "text": [
      "Hello\n"
     ]
    }
   ],
   "source": [
    "print(\"Hello\")"
   ]
  },
  {
   "cell_type": "code",
   "execution_count": 4,
   "id": "d5e6e142-3917-4a4e-8eb2-ca90213b1ce1",
   "metadata": {},
   "outputs": [
    {
     "name": "stdout",
     "output_type": "stream",
     "text": [
      "Hello\n",
      "    Batch-3\n",
      "\n",
      "    asdfasd\n",
      "    asdfsd\n",
      "      \n"
     ]
    }
   ],
   "source": [
    "print(\"\"\"Hello\n",
    "    Batch-3\n",
    "\n",
    "    asdfasd\n",
    "    asdfsd\n",
    "      \"\"\")"
   ]
  },
  {
   "cell_type": "markdown",
   "id": "eb87e1c9-0eff-4e9e-82aa-ef61f8505a1a",
   "metadata": {},
   "source": [
    "### Veriables for string"
   ]
  },
  {
   "cell_type": "code",
   "execution_count": 6,
   "id": "0058cb4a-bedd-4558-b2d8-db992cf11ee1",
   "metadata": {},
   "outputs": [
    {
     "name": "stdout",
     "output_type": "stream",
     "text": [
      "Muhammad Umair\n"
     ]
    }
   ],
   "source": [
    "first_name = 'Muhammad'\n",
    "last_name = \"Umair\"\n",
    "\n",
    "print(first_name + \" \" + last_name)"
   ]
  },
  {
   "cell_type": "code",
   "execution_count": 7,
   "id": "7e4e73bd-0213-4fc2-8fc1-1bb595918a2f",
   "metadata": {},
   "outputs": [
    {
     "data": {
      "text/plain": [
       "str"
      ]
     },
     "execution_count": 7,
     "metadata": {},
     "output_type": "execute_result"
    }
   ],
   "source": [
    "type(first_name)"
   ]
  },
  {
   "cell_type": "code",
   "execution_count": 10,
   "id": "7fa9fb76-c115-46a9-bc1a-ad88f962e0c4",
   "metadata": {},
   "outputs": [],
   "source": [
    "name_first = \"umiar\""
   ]
  },
  {
   "cell_type": "markdown",
   "id": "c04c560b-232b-47e1-8033-b2c9b4622ad2",
   "metadata": {},
   "source": [
    "### Veriables for Numbers"
   ]
  },
  {
   "cell_type": "code",
   "execution_count": 11,
   "id": "528a0874-f6ff-44e5-aab1-fe59df5b32d5",
   "metadata": {},
   "outputs": [],
   "source": [
    "age = 30"
   ]
  },
  {
   "cell_type": "code",
   "execution_count": 12,
   "id": "60c95955-6d5a-41d3-8c4f-d453953d19a2",
   "metadata": {},
   "outputs": [
    {
     "data": {
      "text/plain": [
       "30"
      ]
     },
     "execution_count": 12,
     "metadata": {},
     "output_type": "execute_result"
    }
   ],
   "source": [
    "age"
   ]
  },
  {
   "cell_type": "code",
   "execution_count": 15,
   "id": "63b822d8-15d7-4fbf-85e9-ad95f0229f5f",
   "metadata": {},
   "outputs": [
    {
     "data": {
      "text/plain": [
       "int"
      ]
     },
     "execution_count": 15,
     "metadata": {},
     "output_type": "execute_result"
    }
   ],
   "source": [
    "type(age)"
   ]
  },
  {
   "cell_type": "code",
   "execution_count": 13,
   "id": "d36522ca-ea8d-4741-b10e-2721598a3351",
   "metadata": {},
   "outputs": [],
   "source": [
    "age1 = '30'"
   ]
  },
  {
   "cell_type": "code",
   "execution_count": 14,
   "id": "6670f21e-cd15-4390-a21e-d303d1e60cf3",
   "metadata": {},
   "outputs": [
    {
     "data": {
      "text/plain": [
       "'30'"
      ]
     },
     "execution_count": 14,
     "metadata": {},
     "output_type": "execute_result"
    }
   ],
   "source": [
    "age1"
   ]
  },
  {
   "cell_type": "code",
   "execution_count": 16,
   "id": "782b2fac-c1e0-42f6-a852-39e7d9c77104",
   "metadata": {},
   "outputs": [
    {
     "data": {
      "text/plain": [
       "str"
      ]
     },
     "execution_count": 16,
     "metadata": {},
     "output_type": "execute_result"
    }
   ],
   "source": [
    "type(age1)"
   ]
  },
  {
   "cell_type": "code",
   "execution_count": 17,
   "id": "043bcc7c-1519-4ef1-aaac-6542634e09f0",
   "metadata": {},
   "outputs": [
    {
     "ename": "TypeError",
     "evalue": "unsupported operand type(s) for +: 'int' and 'str'",
     "output_type": "error",
     "traceback": [
      "\u001b[31m---------------------------------------------------------------------------\u001b[39m",
      "\u001b[31mTypeError\u001b[39m                                 Traceback (most recent call last)",
      "\u001b[36mCell\u001b[39m\u001b[36m \u001b[39m\u001b[32mIn[17]\u001b[39m\u001b[32m, line 1\u001b[39m\n\u001b[32m----> \u001b[39m\u001b[32m1\u001b[39m \u001b[43mage\u001b[49m\u001b[43m \u001b[49m\u001b[43m+\u001b[49m\u001b[43m \u001b[49m\u001b[43mage1\u001b[49m\n",
      "\u001b[31mTypeError\u001b[39m: unsupported operand type(s) for +: 'int' and 'str'"
     ]
    }
   ],
   "source": [
    "age + age1"
   ]
  },
  {
   "cell_type": "code",
   "execution_count": 18,
   "id": "bbe8ddc8-1d9d-4b3f-a53c-01349fe16c50",
   "metadata": {},
   "outputs": [
    {
     "data": {
      "text/plain": [
       "70"
      ]
     },
     "execution_count": 18,
     "metadata": {},
     "output_type": "execute_result"
    }
   ],
   "source": [
    "age2 = 40\n",
    "\n",
    "age + age2"
   ]
  },
  {
   "cell_type": "markdown",
   "id": "5d908127-be10-4ba8-bfd6-ec733de92f8c",
   "metadata": {},
   "source": [
    "### Math expressions: Familiar operators"
   ]
  },
  {
   "cell_type": "code",
   "execution_count": 19,
   "id": "08389ee6-4706-4d42-86cf-3c33f8f1c6ec",
   "metadata": {},
   "outputs": [
    {
     "data": {
      "text/plain": [
       "6"
      ]
     },
     "execution_count": 19,
     "metadata": {},
     "output_type": "execute_result"
    }
   ],
   "source": [
    "2 + 4"
   ]
  },
  {
   "cell_type": "code",
   "execution_count": 20,
   "id": "c0d4d788-a34a-445c-9be4-653c3925f83a",
   "metadata": {},
   "outputs": [
    {
     "data": {
      "text/plain": [
       "3"
      ]
     },
     "execution_count": 20,
     "metadata": {},
     "output_type": "execute_result"
    }
   ],
   "source": [
    "5 - 2"
   ]
  },
  {
   "cell_type": "code",
   "execution_count": 24,
   "id": "cd2d3658-d8df-48ea-b1f6-e57072a532f7",
   "metadata": {},
   "outputs": [
    {
     "name": "stdout",
     "output_type": "stream",
     "text": [
      "string:  Umair\n",
      "Integer:  30\n",
      "<class 'float'>\n",
      "float:  40.5\n"
     ]
    }
   ],
   "source": [
    "# str -> string --> \"Umair\"\n",
    "name = \"Umair\"\n",
    "print(\"string: \", name)\n",
    "# int -> integer --> 30\n",
    "age = 30\n",
    "print(\"Integer: \", age)\n",
    "# float --> 33.6\n",
    "weigth = 40.5\n",
    "print(type(weigth))\n",
    "print(\"float: \", weigth)"
   ]
  },
  {
   "cell_type": "code",
   "execution_count": 28,
   "id": "28b9504d-8529-47d8-9ddf-f10eee8ac9d2",
   "metadata": {},
   "outputs": [
    {
     "ename": "SyntaxError",
     "evalue": "invalid syntax (3001298289.py, line 1)",
     "output_type": "error",
     "traceback": [
      "  \u001b[36mCell\u001b[39m\u001b[36m \u001b[39m\u001b[32mIn[28]\u001b[39m\u001b[32m, line 1\u001b[39m\n\u001b[31m    \u001b[39m\u001b[31massert = 'Umair'\u001b[39m\n           ^\n\u001b[31mSyntaxError\u001b[39m\u001b[31m:\u001b[39m invalid syntax\n"
     ]
    }
   ],
   "source": [
    "assert = 'Umair'\n",
    "print(assert)"
   ]
  },
  {
   "cell_type": "code",
   "execution_count": 38,
   "id": "28fc06f5-44f1-418f-bac8-14605669485f",
   "metadata": {},
   "outputs": [
    {
     "name": "stdout",
     "output_type": "stream",
     "text": [
      "my Father\"s name is Muhammad Nawaz\n"
     ]
    }
   ],
   "source": [
    "print('my Father\"s name is Muhammad Nawaz')"
   ]
  },
  {
   "cell_type": "code",
   "execution_count": 37,
   "id": "28589831-f25c-473c-b20c-1695564144c6",
   "metadata": {},
   "outputs": [
    {
     "name": "stdout",
     "output_type": "stream",
     "text": [
      "my Father's name is Muhammad Nawaz\n"
     ]
    }
   ],
   "source": [
    "print(\"my Father's name is Muhammad Nawaz\")"
   ]
  },
  {
   "cell_type": "code",
   "execution_count": 36,
   "id": "07327019-1d0b-4c1c-9650-8e840550cec4",
   "metadata": {},
   "outputs": [
    {
     "name": "stdout",
     "output_type": "stream",
     "text": [
      "my Father's name is Muhammad Nawaz\n"
     ]
    }
   ],
   "source": [
    "print('my Father\\'s name is Muhammad Nawaz')"
   ]
  },
  {
   "cell_type": "code",
   "execution_count": 1,
   "id": "8fe14ca7-95ee-4222-ae22-a05b4a8c8b00",
   "metadata": {},
   "outputs": [
    {
     "data": {
      "text/plain": [
       "8"
      ]
     },
     "execution_count": 1,
     "metadata": {},
     "output_type": "execute_result"
    }
   ],
   "source": [
    "2**3"
   ]
  },
  {
   "cell_type": "code",
   "execution_count": 2,
   "id": "9b194a26-0527-41ad-995e-6718e85dc6ef",
   "metadata": {},
   "outputs": [
    {
     "data": {
      "text/plain": [
       "6"
      ]
     },
     "execution_count": 2,
     "metadata": {},
     "output_type": "execute_result"
    }
   ],
   "source": [
    "2*3"
   ]
  },
  {
   "cell_type": "code",
   "execution_count": 3,
   "id": "77e5a2dd-eecc-4f4f-9be2-3c206957a9b2",
   "metadata": {},
   "outputs": [
    {
     "data": {
      "text/plain": [
       "2.0"
      ]
     },
     "execution_count": 3,
     "metadata": {},
     "output_type": "execute_result"
    }
   ],
   "source": [
    "4/2"
   ]
  },
  {
   "cell_type": "code",
   "execution_count": 4,
   "id": "d3a0c66a-7a5d-4264-b3d9-ed673042224a",
   "metadata": {},
   "outputs": [
    {
     "data": {
      "text/plain": [
       "2"
      ]
     },
     "execution_count": 4,
     "metadata": {},
     "output_type": "execute_result"
    }
   ],
   "source": [
    "4//2"
   ]
  },
  {
   "cell_type": "code",
   "execution_count": 7,
   "id": "29dd9ead-fc75-4a22-a9d2-00f35a0b23db",
   "metadata": {},
   "outputs": [],
   "source": [
    "x = 20\n",
    "y=4"
   ]
  },
  {
   "cell_type": "code",
   "execution_count": 8,
   "id": "37ab91a5-2423-4e30-89a8-4a851639edfe",
   "metadata": {},
   "outputs": [
    {
     "name": "stdout",
     "output_type": "stream",
     "text": [
      "True\n"
     ]
    }
   ],
   "source": [
    "print( x > y)"
   ]
  },
  {
   "cell_type": "code",
   "execution_count": 12,
   "id": "cc7f751f-ad7f-42b3-9210-06a0e419716f",
   "metadata": {},
   "outputs": [],
   "source": [
    "x += 4"
   ]
  },
  {
   "cell_type": "code",
   "execution_count": 13,
   "id": "38c875a4-542b-475b-86b5-b23a630be17b",
   "metadata": {},
   "outputs": [
    {
     "data": {
      "text/plain": [
       "24"
      ]
     },
     "execution_count": 13,
     "metadata": {},
     "output_type": "execute_result"
    }
   ],
   "source": [
    "x"
   ]
  },
  {
   "cell_type": "code",
   "execution_count": 14,
   "id": "fbce3f61-b7e9-45d5-8b9e-67bf1b881895",
   "metadata": {},
   "outputs": [],
   "source": [
    "x += 6"
   ]
  },
  {
   "cell_type": "code",
   "execution_count": 15,
   "id": "aec6050c-53d0-4f5b-8d44-971e25cc702b",
   "metadata": {},
   "outputs": [
    {
     "data": {
      "text/plain": [
       "30"
      ]
     },
     "execution_count": 15,
     "metadata": {},
     "output_type": "execute_result"
    }
   ],
   "source": [
    "x"
   ]
  },
  {
   "cell_type": "code",
   "execution_count": 16,
   "id": "eea17a51-52ee-4ad2-a027-b8975b8fc839",
   "metadata": {},
   "outputs": [],
   "source": [
    "x -= y"
   ]
  },
  {
   "cell_type": "code",
   "execution_count": 17,
   "id": "419f5ccd-605b-48ed-aa2b-4af8f5c1f0e4",
   "metadata": {},
   "outputs": [
    {
     "data": {
      "text/plain": [
       "26"
      ]
     },
     "execution_count": 17,
     "metadata": {},
     "output_type": "execute_result"
    }
   ],
   "source": [
    "x"
   ]
  },
  {
   "cell_type": "code",
   "execution_count": 18,
   "id": "8f0c87ca-05d8-4217-8c0b-799acdff0b13",
   "metadata": {},
   "outputs": [],
   "source": [
    "x *= y"
   ]
  },
  {
   "cell_type": "code",
   "execution_count": 19,
   "id": "daed7e01-d82a-47cc-b71b-cf9e02afec29",
   "metadata": {},
   "outputs": [
    {
     "data": {
      "text/plain": [
       "104"
      ]
     },
     "execution_count": 19,
     "metadata": {},
     "output_type": "execute_result"
    }
   ],
   "source": [
    "x"
   ]
  },
  {
   "cell_type": "code",
   "execution_count": null,
   "id": "201e261b-b439-441a-932e-c197e9c1591d",
   "metadata": {},
   "outputs": [],
   "source": []
  }
 ],
 "metadata": {
  "kernelspec": {
   "display_name": "Python 3 (ipykernel)",
   "language": "python",
   "name": "python3"
  },
  "language_info": {
   "codemirror_mode": {
    "name": "ipython",
    "version": 3
   },
   "file_extension": ".py",
   "mimetype": "text/x-python",
   "name": "python",
   "nbconvert_exporter": "python",
   "pygments_lexer": "ipython3",
   "version": "3.13.5"
  }
 },
 "nbformat": 4,
 "nbformat_minor": 5
}
