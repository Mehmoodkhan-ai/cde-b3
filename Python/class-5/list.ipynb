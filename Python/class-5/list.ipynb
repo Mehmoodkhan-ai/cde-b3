{
 "cells": [
  {
   "cell_type": "markdown",
   "id": "49563818-a528-4278-ac96-fe588b386abc",
   "metadata": {},
   "source": [
    "## Value by Rrefernce"
   ]
  },
  {
   "cell_type": "code",
   "execution_count": 4,
   "id": "4b349cc6-ad19-4fc9-8fba-5e8178f820d6",
   "metadata": {},
   "outputs": [
    {
     "data": {
      "text/plain": [
       "(13, 12)"
      ]
     },
     "execution_count": 4,
     "metadata": {},
     "output_type": "execute_result"
    }
   ],
   "source": [
    "a = [1,2,3,4]\n",
    "a[0] = 29\n",
    "b = 12\n",
    "c = b\n",
    "c+=1\n",
    "c,b\n"
   ]
  },
  {
   "cell_type": "markdown",
   "id": "bf9398f9-3586-472c-9a2a-61e00cdfd1ae",
   "metadata": {},
   "source": [
    "## Shallow and Deep Copy"
   ]
  },
  {
   "cell_type": "code",
   "execution_count": 6,
   "id": "adf9c2f6-3e87-4e71-9002-a4255571a319",
   "metadata": {},
   "outputs": [
    {
     "data": {
      "text/plain": [
       "['Karachi', ['Lahore'], 'Quetta']"
      ]
     },
     "execution_count": 6,
     "metadata": {},
     "output_type": "execute_result"
    }
   ],
   "source": [
    "z = [\"Karachi\",[\"Lahore\"],\"Quetta\"]\n",
    "e = z[:] # Note: z.copy() \n",
    "e"
   ]
  },
  {
   "cell_type": "code",
   "execution_count": 7,
   "id": "9d3555fc-9891-4b91-b1c0-1abce6941ca1",
   "metadata": {},
   "outputs": [],
   "source": [
    "e[1][0] = \"Islamabad\""
   ]
  },
  {
   "cell_type": "code",
   "execution_count": 8,
   "id": "91dee32a-e0c6-4d22-af6a-6a11d2609517",
   "metadata": {},
   "outputs": [
    {
     "data": {
      "text/plain": [
       "['Karachi', ['Islamabad'], 'Quetta']"
      ]
     },
     "execution_count": 8,
     "metadata": {},
     "output_type": "execute_result"
    }
   ],
   "source": [
    "e"
   ]
  },
  {
   "cell_type": "code",
   "execution_count": 9,
   "id": "80e43f2e-43dd-4fa3-996b-ddadee367dd9",
   "metadata": {},
   "outputs": [
    {
     "data": {
      "text/plain": [
       "['Karachi', ['Islamabad'], 'Quetta']"
      ]
     },
     "execution_count": 9,
     "metadata": {},
     "output_type": "execute_result"
    }
   ],
   "source": [
    "z"
   ]
  },
  {
   "cell_type": "code",
   "execution_count": 10,
   "id": "bd980c51-dfd5-4883-806b-6497da6e04a8",
   "metadata": {},
   "outputs": [],
   "source": [
    "e[0] = \"Mexico\""
   ]
  },
  {
   "cell_type": "code",
   "execution_count": 11,
   "id": "5b7ce741-83dc-4b09-bcd9-68e96ca28839",
   "metadata": {},
   "outputs": [
    {
     "data": {
      "text/plain": [
       "['Mexico', ['Islamabad'], 'Quetta']"
      ]
     },
     "execution_count": 11,
     "metadata": {},
     "output_type": "execute_result"
    }
   ],
   "source": [
    "e"
   ]
  },
  {
   "cell_type": "code",
   "execution_count": 12,
   "id": "8fea698b-5d3b-40d7-bdb7-3441513c689b",
   "metadata": {},
   "outputs": [
    {
     "data": {
      "text/plain": [
       "['Karachi', ['Islamabad'], 'Quetta']"
      ]
     },
     "execution_count": 12,
     "metadata": {},
     "output_type": "execute_result"
    }
   ],
   "source": [
    "z"
   ]
  },
  {
   "cell_type": "code",
   "execution_count": 1,
   "id": "657c96fb-a9fb-4eec-a01d-3af94ec66e52",
   "metadata": {},
   "outputs": [],
   "source": [
    "import copy\n",
    "city = ['Karachi', ['Islamabad'], 'Quetta']\n",
    "city1 = copy.deepcopy(city)"
   ]
  },
  {
   "cell_type": "code",
   "execution_count": 2,
   "id": "5a484a0a-fbea-458e-9707-449ee7026ecb",
   "metadata": {},
   "outputs": [
    {
     "data": {
      "text/plain": [
       "['Karachi', ['Islamabad'], 'Quetta']"
      ]
     },
     "execution_count": 2,
     "metadata": {},
     "output_type": "execute_result"
    }
   ],
   "source": [
    "city"
   ]
  },
  {
   "cell_type": "code",
   "execution_count": 3,
   "id": "002c5f12-6d5a-4e50-b243-884201a60806",
   "metadata": {},
   "outputs": [
    {
     "data": {
      "text/plain": [
       "['Karachi', ['Islamabad'], 'Quetta']"
      ]
     },
     "execution_count": 3,
     "metadata": {},
     "output_type": "execute_result"
    }
   ],
   "source": [
    "city1"
   ]
  },
  {
   "cell_type": "code",
   "execution_count": 4,
   "id": "9788b45c-d28f-40c7-bed2-a3152e5d34a0",
   "metadata": {},
   "outputs": [],
   "source": [
    "city1[1][0] = \"Mexico\""
   ]
  },
  {
   "cell_type": "code",
   "execution_count": 5,
   "id": "8ff5fd6e-3fe2-4e74-b0f3-290876b49852",
   "metadata": {},
   "outputs": [
    {
     "data": {
      "text/plain": [
       "['Karachi', ['Mexico'], 'Quetta']"
      ]
     },
     "execution_count": 5,
     "metadata": {},
     "output_type": "execute_result"
    }
   ],
   "source": [
    "city1"
   ]
  },
  {
   "cell_type": "code",
   "execution_count": 6,
   "id": "454f11f6-0a7c-4414-b9c3-6997856999bc",
   "metadata": {},
   "outputs": [
    {
     "data": {
      "text/plain": [
       "['Karachi', ['Islamabad'], 'Quetta']"
      ]
     },
     "execution_count": 6,
     "metadata": {},
     "output_type": "execute_result"
    }
   ],
   "source": [
    "city"
   ]
  },
  {
   "cell_type": "code",
   "execution_count": null,
   "id": "b4f028d7-96ce-49e4-9ab3-719c18c01f13",
   "metadata": {},
   "outputs": [],
   "source": []
  }
 ],
 "metadata": {
  "kernelspec": {
   "display_name": "Python 3 (ipykernel)",
   "language": "python",
   "name": "python3"
  },
  "language_info": {
   "codemirror_mode": {
    "name": "ipython",
    "version": 3
   },
   "file_extension": ".py",
   "mimetype": "text/x-python",
   "name": "python",
   "nbconvert_exporter": "python",
   "pygments_lexer": "ipython3",
   "version": "3.13.5"
  }
 },
 "nbformat": 4,
 "nbformat_minor": 5
}
