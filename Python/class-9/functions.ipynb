{
 "cells": [
  {
   "cell_type": "markdown",
   "id": "c7c22570-03b9-4553-8b83-3d495b795fc0",
   "metadata": {},
   "source": [
    "## Functions"
   ]
  },
  {
   "cell_type": "markdown",
   "id": "f7f6d945-2fba-43db-9804-dc08cbb7599e",
   "metadata": {},
   "source": [
    "- input >> function >> output\n",
    "- code re-useability\n",
    "- code modularize"
   ]
  },
  {
   "cell_type": "code",
   "execution_count": 3,
   "id": "7c560ba9-d318-42a1-af8b-46b099441290",
   "metadata": {},
   "outputs": [],
   "source": [
    "# very basic function\n",
    "def add_num():\n",
    "    num1 = int(input(\"Enter num1: \"))\n",
    "    num2 = int(input(\"Enter num2: \"))\n",
    "    sum = num1+num2\n",
    "    print(sum)"
   ]
  },
  {
   "cell_type": "code",
   "execution_count": 4,
   "id": "b9c5b9b1-7f68-4bc0-b295-33c118690f27",
   "metadata": {},
   "outputs": [
    {
     "name": "stdin",
     "output_type": "stream",
     "text": [
      "Enter num1:  3\n",
      "Enter num2:  2\n"
     ]
    },
    {
     "name": "stdout",
     "output_type": "stream",
     "text": [
      "5\n"
     ]
    }
   ],
   "source": [
    "add_num()"
   ]
  },
  {
   "cell_type": "code",
   "execution_count": 5,
   "id": "638658e9-8c0e-4258-8bf7-c7bdb979a35f",
   "metadata": {},
   "outputs": [
    {
     "name": "stdin",
     "output_type": "stream",
     "text": [
      "Enter num1:  8\n",
      "Enter num2:  9\n"
     ]
    },
    {
     "name": "stdout",
     "output_type": "stream",
     "text": [
      "17\n"
     ]
    }
   ],
   "source": [
    "add_num()"
   ]
  },
  {
   "cell_type": "code",
   "execution_count": 6,
   "id": "4c36ee80-cbd8-452c-8d37-fa850a0b2350",
   "metadata": {},
   "outputs": [],
   "source": [
    "# very basic function part-1 (PARAMTERS)\n",
    "def add_num(num1, num2): # paramters\n",
    "    sum = num1+num2\n",
    "    print(sum)"
   ]
  },
  {
   "cell_type": "code",
   "execution_count": 8,
   "id": "5cec8b2b-c793-4684-b017-244f9878ae38",
   "metadata": {},
   "outputs": [
    {
     "name": "stdin",
     "output_type": "stream",
     "text": [
      "Enter num1:  2\n",
      "Enter num2:  8\n"
     ]
    },
    {
     "name": "stdout",
     "output_type": "stream",
     "text": [
      "10\n"
     ]
    }
   ],
   "source": [
    "num_1 = int(input(\"Enter num1: \"))\n",
    "num_2 = int(input(\"Enter num2: \"))\n",
    "\n",
    "add_num(num_1, num_2) # arguments"
   ]
  },
  {
   "cell_type": "code",
   "execution_count": 9,
   "id": "2d9c43db-eb7a-467c-82ad-ba661fe39b90",
   "metadata": {},
   "outputs": [
    {
     "name": "stdout",
     "output_type": "stream",
     "text": [
      "10\n"
     ]
    }
   ],
   "source": [
    "add_num(2, 8)"
   ]
  },
  {
   "cell_type": "code",
   "execution_count": 10,
   "id": "127617b9-408f-4943-a68c-651bd4c9add3",
   "metadata": {},
   "outputs": [],
   "source": [
    "# very basic function part-1 (PARAMTERS + DEFAULT PARAMS)\n",
    "# it will always be at the end\n",
    "def add_num(num1, num2=5): # paramters\n",
    "    sum = num1+num2\n",
    "    print(sum)"
   ]
  },
  {
   "cell_type": "code",
   "execution_count": 11,
   "id": "7584aca1-00ec-4fdb-bf5f-792c13b6216b",
   "metadata": {},
   "outputs": [
    {
     "name": "stdout",
     "output_type": "stream",
     "text": [
      "6\n"
     ]
    }
   ],
   "source": [
    "add_num(1)"
   ]
  },
  {
   "cell_type": "code",
   "execution_count": 12,
   "id": "2d1ca650-5bd1-4b20-9a20-5b13e88455e2",
   "metadata": {},
   "outputs": [
    {
     "name": "stdout",
     "output_type": "stream",
     "text": [
      "3\n"
     ]
    }
   ],
   "source": [
    "add_num(1, 2)"
   ]
  },
  {
   "cell_type": "code",
   "execution_count": 13,
   "id": "0c1ba34b-ae8d-4546-bf67-097a6e84a6f8",
   "metadata": {},
   "outputs": [],
   "source": [
    "# very basic function part-1 (PARAMTERS + DEFAULT PARAMS)\n",
    "# it will always be at the end\n",
    "def add_num(name, num1, num2=5): # paramters\n",
    "    sum = num1+num2\n",
    "    print(f\"{name} total is {sum}\")"
   ]
  },
  {
   "cell_type": "code",
   "execution_count": 14,
   "id": "e77cba86-9538-4c5d-9196-7007c4160bfb",
   "metadata": {},
   "outputs": [
    {
     "name": "stdout",
     "output_type": "stream",
     "text": [
      "Qasim total is 3\n"
     ]
    }
   ],
   "source": [
    "# add_num( 1, 'Qasim', 2) --> wrong\n",
    "# add_num( 1, 2, 'Qasim') --> wrong\n",
    "add_num('Qasim', 1, 2)"
   ]
  },
  {
   "cell_type": "code",
   "execution_count": 16,
   "id": "3ffd59db-a5cd-47c8-818a-3fa904890f06",
   "metadata": {},
   "outputs": [
    {
     "name": "stdout",
     "output_type": "stream",
     "text": [
      "Qasim total is 3\n"
     ]
    }
   ],
   "source": [
    "add_num(name='Qasim', num1=1, num2=2)"
   ]
  },
  {
   "cell_type": "code",
   "execution_count": 18,
   "id": "185d6df4-f138-49df-a7aa-3f47068f3b1c",
   "metadata": {},
   "outputs": [
    {
     "ename": "TypeError",
     "evalue": "add_num() got multiple values for argument 'name'",
     "output_type": "error",
     "traceback": [
      "\u001b[31m---------------------------------------------------------------------------\u001b[39m",
      "\u001b[31mTypeError\u001b[39m                                 Traceback (most recent call last)",
      "\u001b[36mCell\u001b[39m\u001b[36m \u001b[39m\u001b[32mIn[18]\u001b[39m\u001b[32m, line 1\u001b[39m\n\u001b[32m----> \u001b[39m\u001b[32m1\u001b[39m \u001b[43madd_num\u001b[49m\u001b[43m(\u001b[49m\u001b[32;43m2\u001b[39;49m\u001b[43m,\u001b[49m\u001b[43m \u001b[49m\u001b[43mname\u001b[49m\u001b[43m=\u001b[49m\u001b[33;43m'\u001b[39;49m\u001b[33;43mQasim\u001b[39;49m\u001b[33;43m'\u001b[39;49m\u001b[43m,\u001b[49m\u001b[43m \u001b[49m\u001b[43mnum1\u001b[49m\u001b[43m=\u001b[49m\u001b[32;43m1\u001b[39;49m\u001b[43m)\u001b[49m\n",
      "\u001b[31mTypeError\u001b[39m: add_num() got multiple values for argument 'name'"
     ]
    }
   ],
   "source": [
    "add_num(2, name='Qasim', num1=1)"
   ]
  },
  {
   "cell_type": "code",
   "execution_count": 24,
   "id": "70865ebb-9fd6-4c44-9043-4d2aba03da93",
   "metadata": {},
   "outputs": [
    {
     "name": "stdin",
     "output_type": "stream",
     "text": [
      "Enter your name:  Ali\n",
      "Enter num1:  4\n",
      "Enter num2:  3\n"
     ]
    },
    {
     "name": "stdout",
     "output_type": "stream",
     "text": [
      "Ali total is 7\n"
     ]
    }
   ],
   "source": [
    "name= input('Enter your name: ')\n",
    "num_1 = int(input(\"Enter num1: \"))\n",
    "num_2 = int(input(\"Enter num2: \"))\n",
    "\n",
    "# add_num(name, num1,num2)\n",
    "# add_num(name=name, num1=num_1, num2=num_2)\n",
    "add_num(num1=num_1, num2=num_2, name=name)"
   ]
  },
  {
   "cell_type": "code",
   "execution_count": 32,
   "id": "00c7694e-d584-4661-bcb4-51449e7e9dc7",
   "metadata": {},
   "outputs": [],
   "source": [
    "# very basic function part-1 (unknows)\n",
    "# it will always be at the end\n",
    "# ** --> dict\n",
    "# * --> list\n",
    "def add_num(name, *nums): # paramters\n",
    "    print(name)\n",
    "    print(*nums)"
   ]
  },
  {
   "cell_type": "code",
   "execution_count": 33,
   "id": "76e04bb5-5314-4c3d-a9da-9b1bf8ed316e",
   "metadata": {},
   "outputs": [
    {
     "name": "stdout",
     "output_type": "stream",
     "text": [
      "Qasim\n",
      "2 3 4 5 6 7 8\n"
     ]
    }
   ],
   "source": [
    "add_num('Qasim', 2,3,4,5,6,7,8)"
   ]
  },
  {
   "cell_type": "markdown",
   "id": "ee3babfd-fb92-4e45-aee5-836735b3e0c4",
   "metadata": {},
   "source": [
    "1. Task: give me the sum of the values passesd as unknows args to function **args**\n",
    "2. Task: give me the sum of the values passesd as unknows args to function as **kwargs**"
   ]
  },
  {
   "cell_type": "code",
   "execution_count": 34,
   "id": "9b0e2486-378a-4e6a-95e1-7436019b463b",
   "metadata": {},
   "outputs": [
    {
     "name": "stdout",
     "output_type": "stream",
     "text": [
      "Shoaib : 27\n"
     ]
    }
   ],
   "source": [
    "def add_nums(name,*nums):\n",
    "    result = 0\n",
    "    for num in nums:\n",
    "        result += num\n",
    "    print(f\"{name} : {result}\")\n",
    "\n",
    "add_nums(\"Shoaib\",2,3,4,5,6,7)"
   ]
  },
  {
   "cell_type": "code",
   "execution_count": 35,
   "id": "2a7469bb-a336-40b8-a125-51b25d697da3",
   "metadata": {},
   "outputs": [
    {
     "name": "stdout",
     "output_type": "stream",
     "text": [
      "Shoaib : 27\n"
     ]
    }
   ],
   "source": [
    "def add_nums(name,*nums):\n",
    "    print(f\"{name} : {sum(nums)}\")\n",
    "\n",
    "add_nums(\"Shoaib\",2,3,4,5,6,7)"
   ]
  },
  {
   "cell_type": "code",
   "execution_count": 1,
   "id": "ef8fd6f6-5183-4a4e-8822-71d97839f1b7",
   "metadata": {},
   "outputs": [
    {
     "name": "stdout",
     "output_type": "stream",
     "text": [
      "Shoaib : 27\n"
     ]
    }
   ],
   "source": [
    "# Task 2 \n",
    "def add_nums(name,**nums):\n",
    "    result = 0\n",
    "    for val in nums.values():\n",
    "        result += val\n",
    "    print(f\"{name} : {result}\")\n",
    "\n",
    "add_nums(\"Shoaib\",num1=2,num3=3,num4=4,num5=5,num6=6,num7=7)"
   ]
  },
  {
   "cell_type": "code",
   "execution_count": 3,
   "id": "eafea6e3-895f-4856-958d-e2ba9a9c1956",
   "metadata": {},
   "outputs": [
    {
     "name": "stdout",
     "output_type": "stream",
     "text": [
      "Shoaib : 27\n"
     ]
    }
   ],
   "source": [
    "# Task 2 (Method-2)\n",
    "def add_nums(name,**nums):\n",
    "    print(f\"{name} : {sum(nums.values())}\")\n",
    "\n",
    "add_nums(\"Shoaib\",num1=2,num3=3,num4=4,num5=5,num6=6,num7=7)"
   ]
  },
  {
   "cell_type": "markdown",
   "id": "af44de2a-95c1-4f45-8192-dd8c35431421",
   "metadata": {},
   "source": [
    "### Function with in Functions (Waiz)"
   ]
  },
  {
   "cell_type": "code",
   "execution_count": null,
   "id": "9d7527e9-8e24-48e1-b012-9c0befc0b2ec",
   "metadata": {},
   "outputs": [],
   "source": [
    "- recursion AKA function with in function\n",
    "- factorial \n",
    "    - eg: \n",
    "        - 0 or 1 ==> 1\n",
    "        - 7 ==>  7*6*5*4*3*2*1"
   ]
  },
  {
   "cell_type": "code",
   "execution_count": 9,
   "id": "ae1cacc9-b257-40bb-b773-88556c31c597",
   "metadata": {},
   "outputs": [
    {
     "name": "stdout",
     "output_type": "stream",
     "text": [
      "120\n"
     ]
    }
   ],
   "source": [
    "def factorial (n):\n",
    "    if (n==0 or n==1):\n",
    "        return 1\n",
    "    else:\n",
    "        return n*factorial(n-1)\n",
    "print(factorial(5))   "
   ]
  },
  {
   "cell_type": "code",
   "execution_count": 15,
   "id": "735e0305-dad9-45e7-b919-8b1612ee59c6",
   "metadata": {},
   "outputs": [],
   "source": [
    "def functions(n):\n",
    " pass"
   ]
  },
  {
   "cell_type": "markdown",
   "id": "990a4707-d34e-4f27-ad70-bbb7a16cd291",
   "metadata": {},
   "source": [
    "## While Loops"
   ]
  },
  {
   "cell_type": "markdown",
   "id": "2d6e3385-f655-43ba-aae9-352356f9448e",
   "metadata": {},
   "source": [
    "Task: Research about while loop syntax and write a code of finding factorial using while loop"
   ]
  },
  {
   "cell_type": "code",
   "execution_count": 16,
   "id": "c29f2c1d-822a-437d-8596-4dab3e8c36fc",
   "metadata": {},
   "outputs": [
    {
     "name": "stdin",
     "output_type": "stream",
     "text": [
      "enter a number that u want to calculate the factorial:  5\n"
     ]
    },
    {
     "data": {
      "text/plain": [
       "120"
      ]
     },
     "execution_count": 16,
     "metadata": {},
     "output_type": "execute_result"
    }
   ],
   "source": [
    "fact = 1\n",
    "n = int(input('enter a number that u want to calculate the factorial: '))\n",
    "\n",
    "while(n>0):\n",
    "    fact*=n\n",
    "    n-=1\n",
    "fact    "
   ]
  },
  {
   "cell_type": "markdown",
   "id": "27bfc3ec-30c7-4ee2-b0d1-8e7d11e52383",
   "metadata": {},
   "source": [
    "while <condition>:\n",
    "    <body\n",
    "    - if needed incerement or decrement\n",
    "    - user input\n",
    "    > "
   ]
  },
  {
   "cell_type": "code",
   "execution_count": 17,
   "id": "9fab1e02-c189-46d3-a10f-d630a43214b7",
   "metadata": {},
   "outputs": [
    {
     "name": "stdout",
     "output_type": "stream",
     "text": [
      "Qasim\n"
     ]
    },
    {
     "name": "stdin",
     "output_type": "stream",
     "text": [
      "Enter input value:  Ali\n"
     ]
    },
    {
     "name": "stdout",
     "output_type": "stream",
     "text": [
      "Ali\n"
     ]
    },
    {
     "name": "stdin",
     "output_type": "stream",
     "text": [
      "Enter input value:  Hassan\n"
     ]
    },
    {
     "name": "stdout",
     "output_type": "stream",
     "text": [
      "Hassan\n"
     ]
    },
    {
     "name": "stdin",
     "output_type": "stream",
     "text": [
      "Enter input value:  quit\n"
     ]
    }
   ],
   "source": [
    "user_input= \"Qasim\"\n",
    "while (user_input != \"quit\"):\n",
    "    print(user_input)\n",
    "    user_input = input(\"Enter input value: \")"
   ]
  },
  {
   "cell_type": "markdown",
   "id": "eddd63f3-1904-4a58-9115-ce82fa45c638",
   "metadata": {},
   "source": [
    "## Classes\n",
    "- Everything belong to some specific **class**\n",
    "- Every class can have its **object**\n",
    "- Every class have its own **methds**"
   ]
  },
  {
   "cell_type": "code",
   "execution_count": 18,
   "id": "3349da35-3986-45fc-8b01-03d55c0f6365",
   "metadata": {},
   "outputs": [],
   "source": [
    "name = \"Qasim\""
   ]
  },
  {
   "cell_type": "code",
   "execution_count": 20,
   "id": "47865fdf-4a5a-4424-8954-c04c80ffad56",
   "metadata": {},
   "outputs": [
    {
     "name": "stdout",
     "output_type": "stream",
     "text": [
      "<class 'str'>\n"
     ]
    }
   ],
   "source": [
    "print(type(name))"
   ]
  },
  {
   "cell_type": "code",
   "execution_count": 21,
   "id": "8b80f8c5-719d-45cb-a04a-ca134f7f83be",
   "metadata": {},
   "outputs": [],
   "source": [
    "lst = [1,2,3,4,5]"
   ]
  },
  {
   "cell_type": "code",
   "execution_count": 22,
   "id": "bf525b44-1548-45ef-89cf-643997a331c6",
   "metadata": {},
   "outputs": [
    {
     "name": "stdout",
     "output_type": "stream",
     "text": [
      "<class 'list'>\n"
     ]
    }
   ],
   "source": [
    "print(type(lst))"
   ]
  },
  {
   "cell_type": "code",
   "execution_count": 23,
   "id": "247d0fc8-1084-4159-9e90-e9a6138a604a",
   "metadata": {},
   "outputs": [],
   "source": [
    "dic = {name:\"Qasim\"}"
   ]
  },
  {
   "cell_type": "code",
   "execution_count": 24,
   "id": "99361f4c-cd6d-4283-85cf-36c95ea68766",
   "metadata": {},
   "outputs": [
    {
     "name": "stdout",
     "output_type": "stream",
     "text": [
      "<class 'dict'>\n"
     ]
    }
   ],
   "source": [
    "print(type(dic))"
   ]
  },
  {
   "cell_type": "markdown",
   "id": "2c65c033-9d26-4998-8f47-88cfd058077d",
   "metadata": {},
   "source": [
    "Every class have two things \n",
    "1. charactertistics/Propertoes --> Attributes\n",
    "2. Behaviours/actions --> methods\n",
    "\n",
    "eg:\n",
    "- Charactertics eg: color, model, make_year\n",
    "- Behviors eg: start, end"
   ]
  },
  {
   "cell_type": "code",
   "execution_count": 32,
   "id": "84a26840-4ef6-43e8-b567-3702d27e108d",
   "metadata": {},
   "outputs": [],
   "source": [
    "class cars():\n",
    "    def __init__(self, color, model, make_year): # contructor\n",
    "        self.color = color\n",
    "        self.model = model \n",
    "        self.make_year = make_year\n",
    "\n",
    "    def start(self): # method\n",
    "        \"\"\"\n",
    "        start object belongs to class car\n",
    "        arg: no argument\n",
    "        retur: no return\n",
    "        \"\"\"\n",
    "        print(\"car can start.\")\n",
    "        \n",
    "    def stop(self): # method\n",
    "        \"\"\"\n",
    "        stop object belongs to class car\n",
    "        arg: no argument\n",
    "        retur: no return\n",
    "        \"\"\"\n",
    "        print(\"car can stop.\")"
   ]
  },
  {
   "cell_type": "code",
   "execution_count": 33,
   "id": "72a34187-1747-4c96-910f-3c2e8c7cbf02",
   "metadata": {},
   "outputs": [],
   "source": [
    "civic = cars('Black', 'Honda', 2025) # class initilization / object creation"
   ]
  },
  {
   "cell_type": "code",
   "execution_count": 34,
   "id": "cabe6cfe-0f21-45ed-a55e-dc151073b90b",
   "metadata": {},
   "outputs": [
    {
     "name": "stdout",
     "output_type": "stream",
     "text": [
      "<class '__main__.cars'>\n"
     ]
    }
   ],
   "source": [
    "print(type(civic))"
   ]
  },
  {
   "cell_type": "code",
   "execution_count": 30,
   "id": "b0060702-8688-4f33-8e13-b524d595c859",
   "metadata": {},
   "outputs": [
    {
     "name": "stdout",
     "output_type": "stream",
     "text": [
      "car can start.\n"
     ]
    }
   ],
   "source": [
    "civic.start() # methods calling"
   ]
  },
  {
   "cell_type": "code",
   "execution_count": 31,
   "id": "8a6f8311-74bd-4855-b241-72e80adfb455",
   "metadata": {},
   "outputs": [
    {
     "name": "stdout",
     "output_type": "stream",
     "text": [
      "car can stop.\n"
     ]
    }
   ],
   "source": [
    "civic.stop()"
   ]
  },
  {
   "cell_type": "code",
   "execution_count": 36,
   "id": "32138ecc-5493-4fcc-b588-b37139618f69",
   "metadata": {},
   "outputs": [
    {
     "data": {
      "text/plain": [
       "('Black', 'Honda', 2025)"
      ]
     },
     "execution_count": 36,
     "metadata": {},
     "output_type": "execute_result"
    }
   ],
   "source": [
    "civic.color, civic.model, civic.make_year"
   ]
  },
  {
   "cell_type": "markdown",
   "id": "2ba6baca-5208-4bb1-b54c-ac08d612be7d",
   "metadata": {},
   "source": [
    "Task: Create a class of humans that have atleast 2 attributes and methods"
   ]
  },
  {
   "cell_type": "code",
   "execution_count": 45,
   "id": "8ec90525-2d3d-4aa1-b04a-25b01080bd15",
   "metadata": {},
   "outputs": [],
   "source": [
    "class Humans():\n",
    "    def __init__(self,name,color):\n",
    "        self.name = name\n",
    "        self.color = color\n",
    "    def walk(self):\n",
    "        \"\"\"\n",
    "        this walk function belongs to Humans class\n",
    "        args: no argumnets\n",
    "        return: no return\n",
    "        \"\"\"\n",
    "        print(f'{self.name} can walk')\n",
    "\n",
    "    def speak(self):\n",
    "        \"\"\"\n",
    "        this speak function belongs to Humans class\n",
    "        args: no argumnets\n",
    "        return: no return\n",
    "        \"\"\"\n",
    "        print(f'{self.name} can speak fluently')"
   ]
  },
  {
   "cell_type": "code",
   "execution_count": 46,
   "id": "979f304d-c286-4537-86eb-9ffbb47d37b1",
   "metadata": {},
   "outputs": [],
   "source": [
    "obj = Humans('Hamza','Fair')"
   ]
  },
  {
   "cell_type": "code",
   "execution_count": 47,
   "id": "fe71b560-1457-4158-b6f0-89a55ca657eb",
   "metadata": {},
   "outputs": [
    {
     "data": {
      "text/plain": [
       "'Hamza'"
      ]
     },
     "execution_count": 47,
     "metadata": {},
     "output_type": "execute_result"
    }
   ],
   "source": [
    "obj.name\n"
   ]
  },
  {
   "cell_type": "code",
   "execution_count": 48,
   "id": "d91bac27-148e-4151-a471-a606686227f8",
   "metadata": {},
   "outputs": [
    {
     "data": {
      "text/plain": [
       "'Fair'"
      ]
     },
     "execution_count": 48,
     "metadata": {},
     "output_type": "execute_result"
    }
   ],
   "source": [
    "obj.color"
   ]
  },
  {
   "cell_type": "code",
   "execution_count": 49,
   "id": "9049ae95-4e4c-434e-b91b-77006cde1872",
   "metadata": {},
   "outputs": [
    {
     "name": "stdout",
     "output_type": "stream",
     "text": [
      "Hamza can speak fluently\n"
     ]
    }
   ],
   "source": [
    "obj.speak()"
   ]
  },
  {
   "cell_type": "code",
   "execution_count": null,
   "id": "19cd46e3-88d1-417d-beaf-a5a5afda5b6e",
   "metadata": {},
   "outputs": [],
   "source": []
  },
  {
   "cell_type": "code",
   "execution_count": 50,
   "id": "d5a3613b-9b94-4ece-9969-6d978268ed10",
   "metadata": {},
   "outputs": [
    {
     "name": "stdout",
     "output_type": "stream",
     "text": [
      "Hamza can walk\n"
     ]
    }
   ],
   "source": [
    "obj.walk()"
   ]
  },
  {
   "attachments": {
    "fb9c8e26-9766-4956-8b35-b20f2e0f67f9.png": {
     "image/png": "[encoded data removed]"
    }
   },
   "cell_type": "markdown",
   "id": "47db9b7c-abb9-4790-bbbd-c0ef8352ebcb",
   "metadata": {},
   "source": [
    "![image.png](attachment:fb9c8e26-9766-4956-8b35-b20f2e0f67f9.png)"
   ]
  },
  {
   "attachments": {},
   "cell_type": "markdown",
   "id": "3250e2cf-3e60-416b-814b-fd7ddea7bb5b",
   "metadata": {},
   "source": []
  }
 ],
 "metadata": {
  "kernelspec": {
   "display_name": "Python 3 (ipykernel)",
   "language": "python",
   "name": "python3"
  },
  "language_info": {
   "codemirror_mode": {
    "name": "ipython",
    "version": 3
   },
   "file_extension": ".py",
   "mimetype": "text/x-python",
   "name": "python",
   "nbconvert_exporter": "python",
   "pygments_lexer": "ipython3",
   "version": "3.13.5"
  }
 },
 "nbformat": 4,
 "nbformat_minor": 5
}
