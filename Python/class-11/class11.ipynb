{
 "cells": [
  {
   "cell_type": "markdown",
   "id": "f15425b4-1ada-4b14-98b7-2602434c3a26",
   "metadata": {},
   "source": [
    "## Classes\n",
    "\n",
    "- class initialize with proper name\n",
    "- Constructors\n",
    "    - attributes\n",
    "- Method\n",
    "\n",
    "## OOP (Object oriented programming)\n",
    "\n",
    "- Inheritance\n",
    "- Abstraction\n",
    "- Ploymorphism\n",
    "- Encapsulation"
   ]
  },
  {
   "cell_type": "code",
   "execution_count": 1,
   "id": "c822f822-38bb-4291-bd5a-0c980e57d2c5",
   "metadata": {},
   "outputs": [],
   "source": [
    "class Parents():\n",
    "    \n",
    "    def __init__(self, eye_color, hair_color): #constructor\n",
    "        self.eye_color = eye_color # attributes\n",
    "        self.hair_color = hair_color\n",
    "        \n",
    "    def can_paint(self): #methods\n",
    "        print(f\"have ability to draw/paint arts\")"
   ]
  },
  {
   "cell_type": "code",
   "execution_count": 2,
   "id": "3f79f3a8-2954-4abe-80fc-c9438fd7498b",
   "metadata": {},
   "outputs": [
    {
     "name": "stdout",
     "output_type": "stream",
     "text": [
      "brown\n",
      "brown\n",
      "have ability to draw/paint arts\n"
     ]
    }
   ],
   "source": [
    "par_obj = Parents('brown', 'brown')\n",
    "#-----------------------------\n",
    "print(par_obj.eye_color)\n",
    "print(par_obj.hair_color)\n",
    "par_obj.can_paint()"
   ]
  },
  {
   "cell_type": "code",
   "execution_count": 3,
   "id": "778ccd20-3709-4ffd-ac9e-0a7c0ba6eb0a",
   "metadata": {},
   "outputs": [],
   "source": [
    "class Child(Parents):\n",
    "    pass"
   ]
  },
  {
   "cell_type": "code",
   "execution_count": 4,
   "id": "5eccd378-555f-49f2-9b01-9615287441ed",
   "metadata": {},
   "outputs": [
    {
     "ename": "TypeError",
     "evalue": "Parents.__init__() missing 2 required positional arguments: 'eye_color' and 'hair_color'",
     "output_type": "error",
     "traceback": [
      "\u001b[1;31m---------------------------------------------------------------------------\u001b[0m",
      "\u001b[1;31mTypeError\u001b[0m                                 Traceback (most recent call last)",
      "Cell \u001b[1;32mIn[4], line 1\u001b[0m\n\u001b[1;32m----> 1\u001b[0m child_obj \u001b[38;5;241m=\u001b[39m Child()\n",
      "\u001b[1;31mTypeError\u001b[0m: Parents.__init__() missing 2 required positional arguments: 'eye_color' and 'hair_color'"
     ]
    }
   ],
   "source": [
    "child_obj = Child()"
   ]
  },
  {
   "cell_type": "code",
   "execution_count": null,
   "id": "cd32e3b9-d438-48bd-bf38-f574e55186d4",
   "metadata": {},
   "outputs": [],
   "source": [
    "child_obj = Child('brown', 'black')\n",
    "#-----------------------------\n",
    "print(child_obj.eye_color)\n",
    "print(child_obj.hair_color)\n",
    "child_obj.can_paint()"
   ]
  },
  {
   "cell_type": "code",
   "execution_count": null,
   "id": "055cc38c-22b7-48ed-bd58-eaf45e0f664e",
   "metadata": {},
   "outputs": [],
   "source": [
    "print(par_obj.hair_color)\n",
    "print(child_obj.hair_color)"
   ]
  },
  {
   "cell_type": "code",
   "execution_count": 7,
   "id": "d7343a09-2ec4-4928-8e63-816b7e82a7df",
   "metadata": {},
   "outputs": [],
   "source": [
    "class Child(Parents):\n",
    "\n",
    "    def __init__(self, eye_color, hair_color, skin_color):\n",
    "        super().__init__(eye_color, hair_color) # for single class inhertance\n",
    "        # Father.__init__() # for multi class inhertance\n",
    "        # Mother.__init__() # for multi class inhertance\n",
    "        self.skin_color = skin_color\n",
    "\n",
    "    def can_drive(self):\n",
    "        print(f\"Child Can drive as well.\")"
   ]
  },
  {
   "cell_type": "code",
   "execution_count": 8,
   "id": "eeb0705a-f52a-498e-9bf7-73cd7f8c8832",
   "metadata": {},
   "outputs": [
    {
     "name": "stdout",
     "output_type": "stream",
     "text": [
      "brown\n",
      "black\n",
      "brown\n",
      "have ability to draw/paint arts\n"
     ]
    }
   ],
   "source": [
    "child_obj = Child('brown', 'black', 'brown')\n",
    "#-----------------------------\n",
    "print(child_obj.eye_color)\n",
    "print(child_obj.hair_color)\n",
    "print(child_obj.skin_color)\n",
    "child_obj.can_paint()"
   ]
  },
  {
   "cell_type": "markdown",
   "id": "c886b157-23d5-41d3-8fd4-098c38415c6e",
   "metadata": {},
   "source": [
    "TASK:\n",
    "- create a class with name \"Father\" which have two attributes and one method.\n",
    "- create a class with name \"Mother\" which have one attribute.\n",
    "- create a class with namke \"Child\" that inherit characteris of \"Father\" and \"Mother\"\n",
    "but should ahve atleast two more attribute and methods other than \"father class\""
   ]
  },
  {
   "cell_type": "code",
   "execution_count": 18,
   "id": "087de51e-100c-45d4-9879-aa3937054eca",
   "metadata": {},
   "outputs": [],
   "source": [
    "class father():\n",
    "    \n",
    "    def __init__(self, eye_color, hair_color): #constructor\n",
    "        self.eye_color = eye_color # attributes\n",
    "        self.hair_color = hair_color\n",
    "        \n",
    "    def can_paint(self): #methods\n",
    "        print(f\"have ability to draw/paint arts\")\n",
    "\n",
    "class mother():\n",
    "    def __init__(self,driving):\n",
    "        self.driving=driving\n",
    "        \n",
    "    def driving(self):\n",
    "        print(f\"mother has a skill of {self.driving} driving\")\n",
    "\n",
    "class Child(father,mother):\n",
    "    \n",
    "    def __init__(self, eye_color, hair_color, driving, programming): #constructor overiding\n",
    "        father.__init__(self, eye_color, hair_color)\n",
    "        mother.__init__(self, driving)\n",
    "        self.programming=programming\n",
    "\n",
    "    def can_sing(self):\n",
    "        print(f\"Child Can sing as well.\")"
   ]
  },
  {
   "cell_type": "code",
   "execution_count": 19,
   "id": "96b962b6-9823-44f6-944b-b6ca112cd4a7",
   "metadata": {},
   "outputs": [],
   "source": [
    "child_obj = Child('Brown', 'balck', 'Car', 'Python programming')"
   ]
  },
  {
   "cell_type": "code",
   "execution_count": 20,
   "id": "080273da-b19c-4e5f-b09b-760d517cb20f",
   "metadata": {},
   "outputs": [
    {
     "data": {
      "text/plain": [
       "'Python programming'"
      ]
     },
     "execution_count": 20,
     "metadata": {},
     "output_type": "execute_result"
    }
   ],
   "source": [
    "child_obj.programming"
   ]
  },
  {
   "cell_type": "markdown",
   "id": "62117e6b-cd1d-4a6d-9ada-53d194cdb044",
   "metadata": {},
   "source": [
    "### Overriding"
   ]
  },
  {
   "cell_type": "code",
   "execution_count": 23,
   "id": "423abd81-8fed-40bf-96c8-faf0d54e28ee",
   "metadata": {},
   "outputs": [],
   "source": [
    "class Animals():\n",
    "    def eating(self):\n",
    "        print(\"Animals can eat\")\n",
    "\n",
    "class Birds(Animals):\n",
    "    def eating(self): # overriding methods\n",
    "        print(\"Birds can eat\")"
   ]
  },
  {
   "cell_type": "code",
   "execution_count": 24,
   "id": "079fb34d-a09e-4f49-acf7-65d2bda0ce1f",
   "metadata": {},
   "outputs": [
    {
     "name": "stdout",
     "output_type": "stream",
     "text": [
      "Animals can eat\n"
     ]
    }
   ],
   "source": [
    "ani_obj = Animals()\n",
    "ani_obj.eating()"
   ]
  },
  {
   "cell_type": "code",
   "execution_count": 25,
   "id": "8b0ac43e-7fad-4fac-8dd4-10ec4952e0b1",
   "metadata": {},
   "outputs": [
    {
     "name": "stdout",
     "output_type": "stream",
     "text": [
      "Birds can eat\n"
     ]
    }
   ],
   "source": [
    "birds_obj = Birds()\n",
    "birds_obj.eating()"
   ]
  },
  {
   "cell_type": "markdown",
   "id": "7564cb0d-7655-4ecd-b400-6ff198cc94d8",
   "metadata": {},
   "source": [
    "### Overloading"
   ]
  },
  {
   "cell_type": "code",
   "execution_count": 35,
   "id": "8d50f8ef-7f6c-4ae6-bee4-0f2c4b1fdf83",
   "metadata": {},
   "outputs": [],
   "source": [
    "from typing import overload\n",
    "\n",
    "class Adder():\n",
    "\n",
    "    @overload\n",
    "    def add (self, x:int , y:int) -> int:\n",
    "        ...\n",
    "\n",
    "    @overload\n",
    "    def add (self, x:float , y:float) -> float:\n",
    "        ...\n",
    "\n",
    "    @overload\n",
    "    def add (self, x:str , y:str) -> str:\n",
    "        ...\n",
    "\n",
    "    # ACTUAL FUNCTIONALITY\n",
    "    def add (self, x, y):\n",
    "        if isinstance(x, int) and isinstance(y, int):\n",
    "            return x+y\n",
    "        elif isinstance(x, float) and isinstance(y, float):\n",
    "            return x+y\n",
    "        elif isinstance(x, str) and isinstance(y, str):\n",
    "            return x+y\n",
    "        else: \n",
    "            print(\"Type Error\")"
   ]
  },
  {
   "cell_type": "code",
   "execution_count": 36,
   "id": "75ecde91-6a8e-421d-9838-c214aa41ae58",
   "metadata": {},
   "outputs": [],
   "source": [
    "adder_obj = Adder()"
   ]
  },
  {
   "cell_type": "code",
   "execution_count": 37,
   "id": "78d5c09a-4b1f-4982-b7bc-ba730ad6fdc4",
   "metadata": {},
   "outputs": [
    {
     "data": {
      "text/plain": [
       "7"
      ]
     },
     "execution_count": 37,
     "metadata": {},
     "output_type": "execute_result"
    }
   ],
   "source": [
    "adder_obj.add(2,5) # int case"
   ]
  },
  {
   "cell_type": "code",
   "execution_count": 38,
   "id": "8365f409-436d-45f5-9c8d-70707ce03425",
   "metadata": {},
   "outputs": [
    {
     "data": {
      "text/plain": [
       "7.5"
      ]
     },
     "execution_count": 38,
     "metadata": {},
     "output_type": "execute_result"
    }
   ],
   "source": [
    "adder_obj.add(2.5,5.0) # float case"
   ]
  },
  {
   "cell_type": "code",
   "execution_count": 39,
   "id": "fafc4c53-b855-496c-9739-e7633a286915",
   "metadata": {},
   "outputs": [
    {
     "data": {
      "text/plain": [
       "'SaylaniZA IT park'"
      ]
     },
     "execution_count": 39,
     "metadata": {},
     "output_type": "execute_result"
    }
   ],
   "source": [
    "adder_obj.add(\"Saylani\", \"ZA IT park\") # float case"
   ]
  },
  {
   "cell_type": "code",
   "execution_count": 40,
   "id": "41ba6c74-5fb5-4fe0-ad33-4ad12469ad22",
   "metadata": {},
   "outputs": [
    {
     "name": "stdout",
     "output_type": "stream",
     "text": [
      "Type Error\n"
     ]
    }
   ],
   "source": [
    "adder_obj.add(\"Saylani\", 7) # float case"
   ]
  },
  {
   "cell_type": "markdown",
   "id": "c1768da2-7283-47ff-859b-30dfc2d6022b",
   "metadata": {},
   "source": [
    "## Abstraction\n"
   ]
  },
  {
   "cell_type": "code",
   "execution_count": null,
   "id": "8dee3fee-df3f-4e98-9751-905702eaf57b",
   "metadata": {},
   "outputs": [],
   "source": []
  }
 ],
 "metadata": {
  "kernelspec": {
   "display_name": "Python 3 (ipykernel)",
   "language": "python",
   "name": "python3"
  },
  "language_info": {
   "codemirror_mode": {
    "name": "ipython",
    "version": 3
   },
   "file_extension": ".py",
   "mimetype": "text/x-python",
   "name": "python",
   "nbconvert_exporter": "python",
   "pygments_lexer": "ipython3",
   "version": "3.11.5"
  }
 },
 "nbformat": 4,
 "nbformat_minor": 5
}
